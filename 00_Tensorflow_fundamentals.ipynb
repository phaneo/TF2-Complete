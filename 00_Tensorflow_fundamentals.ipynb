{
  "nbformat": 4,
  "nbformat_minor": 0,
  "metadata": {
    "colab": {
      "name": "00_Tensorflow_fundamentals.ipynb",
      "provenance": [],
      "collapsed_sections": [],
      "authorship_tag": "ABX9TyMy4PedNDY7+9BWU73OgzHq",
      "include_colab_link": true
    },
    "kernelspec": {
      "name": "python3",
      "display_name": "Python 3"
    },
    "language_info": {
      "name": "python"
    }
  },
  "cells": [
    {
      "cell_type": "markdown",
      "metadata": {
        "id": "view-in-github",
        "colab_type": "text"
      },
      "source": [
        "<a href=\"https://colab.research.google.com/github/phaneo/TF2-Complete/blob/main/00_Tensorflow_fundamentals.ipynb\" target=\"_parent\"><img src=\"https://colab.research.google.com/assets/colab-badge.svg\" alt=\"Open In Colab\"/></a>"
      ]
    },
    {
      "cell_type": "markdown",
      "source": [
        "# To cover the most fundamental concepts of tensors using Tensorflow.\n",
        "\n",
        "* Intro to tensors\n",
        "* Getting info from tensors\n",
        "* Manipulating tensors\n",
        "* Tensors & Numpy\n",
        "* Using @tf.function\n",
        "* Using GPU's for TF\n",
        "* Exercises"
      ],
      "metadata": {
        "id": "_NEcnda-ciAb"
      }
    },
    {
      "cell_type": "markdown",
      "source": [
        "## Intro to tensors"
      ],
      "metadata": {
        "id": "9ZleG0KxdPEZ"
      }
    },
    {
      "cell_type": "code",
      "execution_count": null,
      "metadata": {
        "colab": {
          "base_uri": "https://localhost:8080/"
        },
        "id": "tc1hIf31cPz5",
        "outputId": "740ba020-dca6-47cd-bab6-8652a8aea9c2"
      },
      "outputs": [
        {
          "output_type": "stream",
          "name": "stdout",
          "text": [
            "2.8.2\n"
          ]
        }
      ],
      "source": [
        "import tensorflow as tf\n",
        "print(tf.__version__)"
      ]
    },
    {
      "cell_type": "markdown",
      "source": [
        "### Creating tensors with tf.constant()"
      ],
      "metadata": {
        "id": "2hwzeCnS9QfO"
      }
    },
    {
      "cell_type": "code",
      "source": [
        "# Creating tensors with tf.constant()\n",
        "scalar = tf.constant(7)\n",
        "scalar"
      ],
      "metadata": {
        "colab": {
          "base_uri": "https://localhost:8080/"
        },
        "id": "pbk6GdTHcVtW",
        "outputId": "89f53423-65e7-499c-ef9c-1963b2944e93"
      },
      "execution_count": null,
      "outputs": [
        {
          "output_type": "execute_result",
          "data": {
            "text/plain": [
              "<tf.Tensor: shape=(), dtype=int32, numpy=7>"
            ]
          },
          "metadata": {},
          "execution_count": 2
        }
      ]
    },
    {
      "cell_type": "code",
      "source": [
        "# Check the no. of dimensions of a tensor\n",
        "scalar.ndim"
      ],
      "metadata": {
        "colab": {
          "base_uri": "https://localhost:8080/"
        },
        "id": "-2TfBv6-duoZ",
        "outputId": "701dd5fc-519e-4a07-e4a9-b1324c2cf17e"
      },
      "execution_count": null,
      "outputs": [
        {
          "output_type": "execute_result",
          "data": {
            "text/plain": [
              "0"
            ]
          },
          "metadata": {},
          "execution_count": 3
        }
      ]
    },
    {
      "cell_type": "code",
      "source": [
        "# Create a vector\n",
        "vect = tf.constant([10, 10])\n",
        "vect"
      ],
      "metadata": {
        "colab": {
          "base_uri": "https://localhost:8080/"
        },
        "id": "bf7GjC7CeGS5",
        "outputId": "16f4d6c7-92b6-4418-bcdf-20ec84b7df3b"
      },
      "execution_count": null,
      "outputs": [
        {
          "output_type": "execute_result",
          "data": {
            "text/plain": [
              "<tf.Tensor: shape=(2,), dtype=int32, numpy=array([10, 10], dtype=int32)>"
            ]
          },
          "metadata": {},
          "execution_count": 4
        }
      ]
    },
    {
      "cell_type": "code",
      "source": [
        "# Create a matrix\n",
        "matrix = tf.constant([[10, 7],\n",
        "                     [7, 10]])\n",
        "matrix"
      ],
      "metadata": {
        "colab": {
          "base_uri": "https://localhost:8080/"
        },
        "id": "1VnfopcaeTwf",
        "outputId": "01c0c0c0-a97b-4c50-cc8f-c3c1bb6709ba"
      },
      "execution_count": null,
      "outputs": [
        {
          "output_type": "execute_result",
          "data": {
            "text/plain": [
              "<tf.Tensor: shape=(2, 2), dtype=int32, numpy=\n",
              "array([[10,  7],\n",
              "       [ 7, 10]], dtype=int32)>"
            ]
          },
          "metadata": {},
          "execution_count": 5
        }
      ]
    },
    {
      "cell_type": "code",
      "source": [
        "matrix.ndim"
      ],
      "metadata": {
        "colab": {
          "base_uri": "https://localhost:8080/"
        },
        "id": "jY6xTpKegRB7",
        "outputId": "8683c017-dc0c-47a7-af7e-a29246cf954f"
      },
      "execution_count": null,
      "outputs": [
        {
          "output_type": "execute_result",
          "data": {
            "text/plain": [
              "2"
            ]
          },
          "metadata": {},
          "execution_count": 6
        }
      ]
    },
    {
      "cell_type": "code",
      "source": [
        "# Create another matrix\n",
        "another_matrix = tf.constant([[10., 7.],\n",
        "                              [3., 2.],\n",
        "                              [8., 5.]], dtype=tf.float16)\n",
        "another_matrix"
      ],
      "metadata": {
        "colab": {
          "base_uri": "https://localhost:8080/"
        },
        "id": "4vb6KgbegWe0",
        "outputId": "5b620f03-6c28-4fee-a62a-fc1d4541c6cd"
      },
      "execution_count": null,
      "outputs": [
        {
          "output_type": "execute_result",
          "data": {
            "text/plain": [
              "<tf.Tensor: shape=(3, 2), dtype=float16, numpy=\n",
              "array([[10.,  7.],\n",
              "       [ 3.,  2.],\n",
              "       [ 8.,  5.]], dtype=float16)>"
            ]
          },
          "metadata": {},
          "execution_count": 7
        }
      ]
    },
    {
      "cell_type": "code",
      "source": [
        "another_matrix.ndim"
      ],
      "metadata": {
        "colab": {
          "base_uri": "https://localhost:8080/"
        },
        "id": "VuKhOrBDgv5S",
        "outputId": "e95c124c-7d0b-4960-9f11-178d0cc20b55"
      },
      "execution_count": null,
      "outputs": [
        {
          "output_type": "execute_result",
          "data": {
            "text/plain": [
              "2"
            ]
          },
          "metadata": {},
          "execution_count": 8
        }
      ]
    },
    {
      "cell_type": "code",
      "source": [
        "tensor = tf.constant([[[1, 2, 3],\n",
        "                       [4, 5, 6]],\n",
        "                      [[7, 8, 9],\n",
        "                      [10, 11, 12]],\n",
        "                      [[13, 14, 15],\n",
        "                       [16, 17, 18]]])\n",
        "tensor"
      ],
      "metadata": {
        "colab": {
          "base_uri": "https://localhost:8080/"
        },
        "id": "E17ZlzbHgywV",
        "outputId": "16a58dc5-230f-456a-d137-09c3c9b9ef8b"
      },
      "execution_count": null,
      "outputs": [
        {
          "output_type": "execute_result",
          "data": {
            "text/plain": [
              "<tf.Tensor: shape=(3, 2, 3), dtype=int32, numpy=\n",
              "array([[[ 1,  2,  3],\n",
              "        [ 4,  5,  6]],\n",
              "\n",
              "       [[ 7,  8,  9],\n",
              "        [10, 11, 12]],\n",
              "\n",
              "       [[13, 14, 15],\n",
              "        [16, 17, 18]]], dtype=int32)>"
            ]
          },
          "metadata": {},
          "execution_count": 9
        }
      ]
    },
    {
      "cell_type": "code",
      "source": [
        "tensor.ndim"
      ],
      "metadata": {
        "colab": {
          "base_uri": "https://localhost:8080/"
        },
        "id": "CLCCWuSzid83",
        "outputId": "323e1589-2b0b-4215-9d3a-a2111ac109bc"
      },
      "execution_count": null,
      "outputs": [
        {
          "output_type": "execute_result",
          "data": {
            "text/plain": [
              "3"
            ]
          },
          "metadata": {},
          "execution_count": 10
        }
      ]
    },
    {
      "cell_type": "markdown",
      "source": [
        "### Creating a tensor with `tf.Variable()`"
      ],
      "metadata": {
        "id": "Z8UPXe01ifs9"
      }
    },
    {
      "cell_type": "code",
      "source": [
        "changeable_tensor = tf.Variable([10, 7])\n",
        "unchangeable_tensor = tf.constant([10, 7])"
      ],
      "metadata": {
        "id": "V1Z01Ka29Nsj"
      },
      "execution_count": null,
      "outputs": []
    },
    {
      "cell_type": "code",
      "source": [
        "changeable_tensor, unchangeable_tensor"
      ],
      "metadata": {
        "colab": {
          "base_uri": "https://localhost:8080/"
        },
        "id": "SENIdjDP9DWO",
        "outputId": "15809826-6eba-43d1-da2a-bbec64d9a9d6"
      },
      "execution_count": null,
      "outputs": [
        {
          "output_type": "execute_result",
          "data": {
            "text/plain": [
              "(<tf.Variable 'Variable:0' shape=(2,) dtype=int32, numpy=array([10,  7], dtype=int32)>,\n",
              " <tf.Tensor: shape=(2,), dtype=int32, numpy=array([10,  7], dtype=int32)>)"
            ]
          },
          "metadata": {},
          "execution_count": 12
        }
      ]
    },
    {
      "cell_type": "code",
      "source": [
        "changeable_tensor[0].assign(6)\n",
        "changeable_tensor"
      ],
      "metadata": {
        "colab": {
          "base_uri": "https://localhost:8080/"
        },
        "id": "Hsjek7MX96We",
        "outputId": "d8e23e8d-7322-4112-aca0-26d450960a23"
      },
      "execution_count": null,
      "outputs": [
        {
          "output_type": "execute_result",
          "data": {
            "text/plain": [
              "<tf.Variable 'Variable:0' shape=(2,) dtype=int32, numpy=array([6, 7], dtype=int32)>"
            ]
          },
          "metadata": {},
          "execution_count": 13
        }
      ]
    },
    {
      "cell_type": "code",
      "source": [
        "unchangeable_tensor[0].assign(6)\n",
        "unchangeable_tensor"
      ],
      "metadata": {
        "colab": {
          "base_uri": "https://localhost:8080/",
          "height": 304
        },
        "id": "_ZcEmS_t-JQt",
        "outputId": "d08bba4d-7923-47de-eaab-dec276fd6eba"
      },
      "execution_count": null,
      "outputs": [
        {
          "output_type": "error",
          "ename": "AttributeError",
          "evalue": "ignored",
          "traceback": [
            "\u001b[0;31m---------------------------------------------------------------------------\u001b[0m",
            "\u001b[0;31mAttributeError\u001b[0m                            Traceback (most recent call last)",
            "\u001b[0;32m<ipython-input-14-89748aae5816>\u001b[0m in \u001b[0;36m<module>\u001b[0;34m()\u001b[0m\n\u001b[0;32m----> 1\u001b[0;31m \u001b[0munchangeable_tensor\u001b[0m\u001b[0;34m[\u001b[0m\u001b[0;36m0\u001b[0m\u001b[0;34m]\u001b[0m\u001b[0;34m.\u001b[0m\u001b[0massign\u001b[0m\u001b[0;34m(\u001b[0m\u001b[0;36m6\u001b[0m\u001b[0;34m)\u001b[0m\u001b[0;34m\u001b[0m\u001b[0;34m\u001b[0m\u001b[0m\n\u001b[0m\u001b[1;32m      2\u001b[0m \u001b[0munchangeable_tensor\u001b[0m\u001b[0;34m\u001b[0m\u001b[0;34m\u001b[0m\u001b[0m\n",
            "\u001b[0;32m/usr/local/lib/python3.7/dist-packages/tensorflow/python/framework/ops.py\u001b[0m in \u001b[0;36m__getattr__\u001b[0;34m(self, name)\u001b[0m\n\u001b[1;32m    511\u001b[0m         \u001b[0;32mfrom\u001b[0m \u001b[0mtensorflow\u001b[0m\u001b[0;34m.\u001b[0m\u001b[0mpython\u001b[0m\u001b[0;34m.\u001b[0m\u001b[0mops\u001b[0m\u001b[0;34m.\u001b[0m\u001b[0mnumpy_ops\u001b[0m \u001b[0;32mimport\u001b[0m \u001b[0mnp_config\u001b[0m\u001b[0;34m\u001b[0m\u001b[0;34m\u001b[0m\u001b[0m\n\u001b[1;32m    512\u001b[0m         np_config.enable_numpy_behavior()\"\"\".format(type(self).__name__, name))\n\u001b[0;32m--> 513\u001b[0;31m     \u001b[0mself\u001b[0m\u001b[0;34m.\u001b[0m\u001b[0m__getattribute__\u001b[0m\u001b[0;34m(\u001b[0m\u001b[0mname\u001b[0m\u001b[0;34m)\u001b[0m\u001b[0;34m\u001b[0m\u001b[0;34m\u001b[0m\u001b[0m\n\u001b[0m\u001b[1;32m    514\u001b[0m \u001b[0;34m\u001b[0m\u001b[0m\n\u001b[1;32m    515\u001b[0m   \u001b[0;34m@\u001b[0m\u001b[0mstaticmethod\u001b[0m\u001b[0;34m\u001b[0m\u001b[0;34m\u001b[0m\u001b[0m\n",
            "\u001b[0;31mAttributeError\u001b[0m: 'tensorflow.python.framework.ops.EagerTensor' object has no attribute 'assign'"
          ]
        }
      ]
    },
    {
      "cell_type": "markdown",
      "source": [
        "### Creating random tensors"
      ],
      "metadata": {
        "id": "Btoo6TB9-eSn"
      }
    },
    {
      "cell_type": "code",
      "source": [
        "random_tensor_1 = tf.random.Generator.from_seed(42)\n",
        "random_tensor_1 = random_tensor_1.normal(shape=(3, 2))\n",
        "random_tensor_1"
      ],
      "metadata": {
        "colab": {
          "base_uri": "https://localhost:8080/"
        },
        "id": "bPHRIXgs_N28",
        "outputId": "87680beb-a86b-4707-df62-66d542861f2e"
      },
      "execution_count": null,
      "outputs": [
        {
          "output_type": "execute_result",
          "data": {
            "text/plain": [
              "<tf.Tensor: shape=(3, 2), dtype=float32, numpy=\n",
              "array([[-0.7565803 , -0.06854702],\n",
              "       [ 0.07595026, -1.2573844 ],\n",
              "       [-0.23193763, -1.8107855 ]], dtype=float32)>"
            ]
          },
          "metadata": {},
          "execution_count": 15
        }
      ]
    },
    {
      "cell_type": "code",
      "source": [
        "random_tensor_2 = tf.random.Generator.from_seed(42)\n",
        "random_tensor_2 = random_tensor_2.normal(shape=(3, 2))\n",
        "random_tensor_2"
      ],
      "metadata": {
        "colab": {
          "base_uri": "https://localhost:8080/"
        },
        "id": "u7uAPWR7Ap2f",
        "outputId": "b169374e-f4e2-4baa-d4a0-51b4cc26abe4"
      },
      "execution_count": null,
      "outputs": [
        {
          "output_type": "execute_result",
          "data": {
            "text/plain": [
              "<tf.Tensor: shape=(3, 2), dtype=float32, numpy=\n",
              "array([[-0.7565803 , -0.06854702],\n",
              "       [ 0.07595026, -1.2573844 ],\n",
              "       [-0.23193763, -1.8107855 ]], dtype=float32)>"
            ]
          },
          "metadata": {},
          "execution_count": 16
        }
      ]
    },
    {
      "cell_type": "code",
      "source": [
        "random_tensor_1 == random_tensor_2"
      ],
      "metadata": {
        "colab": {
          "base_uri": "https://localhost:8080/"
        },
        "id": "fbEEJw9YBFWB",
        "outputId": "a0c29eed-5b14-48cf-e1b9-320b0ac79778"
      },
      "execution_count": null,
      "outputs": [
        {
          "output_type": "execute_result",
          "data": {
            "text/plain": [
              "<tf.Tensor: shape=(3, 2), dtype=bool, numpy=\n",
              "array([[ True,  True],\n",
              "       [ True,  True],\n",
              "       [ True,  True]])>"
            ]
          },
          "metadata": {},
          "execution_count": 17
        }
      ]
    },
    {
      "cell_type": "markdown",
      "source": [
        "### Shuffle the order of elements in a tensor"
      ],
      "metadata": {
        "id": "Gl-BVJqlBNNI"
      }
    },
    {
      "cell_type": "code",
      "source": [
        "not_shuffled = tf.constant([[10, 7],\n",
        "                            [3, 4,],\n",
        "                            [2, 5]])\n",
        "not_shuffled.ndim"
      ],
      "metadata": {
        "colab": {
          "base_uri": "https://localhost:8080/"
        },
        "id": "KimF_4qcDtSE",
        "outputId": "35683870-32b4-407e-89eb-1d449d4b169f"
      },
      "execution_count": null,
      "outputs": [
        {
          "output_type": "execute_result",
          "data": {
            "text/plain": [
              "2"
            ]
          },
          "metadata": {},
          "execution_count": 18
        }
      ]
    },
    {
      "cell_type": "code",
      "source": [
        "tf.random.set_seed(42)\n",
        "tf.random.shuffle(not_shuffled, seed=42)"
      ],
      "metadata": {
        "colab": {
          "base_uri": "https://localhost:8080/"
        },
        "id": "9_43WgUQD3Q3",
        "outputId": "bdc7beba-1a70-437f-aeec-c9bdc5d923a9"
      },
      "execution_count": null,
      "outputs": [
        {
          "output_type": "execute_result",
          "data": {
            "text/plain": [
              "<tf.Tensor: shape=(3, 2), dtype=int32, numpy=\n",
              "array([[10,  7],\n",
              "       [ 3,  4],\n",
              "       [ 2,  5]], dtype=int32)>"
            ]
          },
          "metadata": {},
          "execution_count": 19
        }
      ]
    },
    {
      "cell_type": "markdown",
      "source": [
        "### Creating tensors from numpy arrays"
      ],
      "metadata": {
        "id": "KrFNzMijEgtM"
      }
    },
    {
      "cell_type": "code",
      "source": [
        "tf.ones([10, 7])"
      ],
      "metadata": {
        "colab": {
          "base_uri": "https://localhost:8080/"
        },
        "id": "knr10VB_grxJ",
        "outputId": "f5d5040b-c2dc-4722-83b3-b207aa14c549"
      },
      "execution_count": null,
      "outputs": [
        {
          "output_type": "execute_result",
          "data": {
            "text/plain": [
              "<tf.Tensor: shape=(10, 7), dtype=float32, numpy=\n",
              "array([[1., 1., 1., 1., 1., 1., 1.],\n",
              "       [1., 1., 1., 1., 1., 1., 1.],\n",
              "       [1., 1., 1., 1., 1., 1., 1.],\n",
              "       [1., 1., 1., 1., 1., 1., 1.],\n",
              "       [1., 1., 1., 1., 1., 1., 1.],\n",
              "       [1., 1., 1., 1., 1., 1., 1.],\n",
              "       [1., 1., 1., 1., 1., 1., 1.],\n",
              "       [1., 1., 1., 1., 1., 1., 1.],\n",
              "       [1., 1., 1., 1., 1., 1., 1.],\n",
              "       [1., 1., 1., 1., 1., 1., 1.]], dtype=float32)>"
            ]
          },
          "metadata": {},
          "execution_count": 20
        }
      ]
    },
    {
      "cell_type": "code",
      "source": [
        "tf.zeros([10, 7])"
      ],
      "metadata": {
        "colab": {
          "base_uri": "https://localhost:8080/"
        },
        "id": "Ft3nbgFcg0iG",
        "outputId": "20e88214-722f-4212-9541-ba7c648c77cc"
      },
      "execution_count": null,
      "outputs": [
        {
          "output_type": "execute_result",
          "data": {
            "text/plain": [
              "<tf.Tensor: shape=(10, 7), dtype=float32, numpy=\n",
              "array([[0., 0., 0., 0., 0., 0., 0.],\n",
              "       [0., 0., 0., 0., 0., 0., 0.],\n",
              "       [0., 0., 0., 0., 0., 0., 0.],\n",
              "       [0., 0., 0., 0., 0., 0., 0.],\n",
              "       [0., 0., 0., 0., 0., 0., 0.],\n",
              "       [0., 0., 0., 0., 0., 0., 0.],\n",
              "       [0., 0., 0., 0., 0., 0., 0.],\n",
              "       [0., 0., 0., 0., 0., 0., 0.],\n",
              "       [0., 0., 0., 0., 0., 0., 0.],\n",
              "       [0., 0., 0., 0., 0., 0., 0.]], dtype=float32)>"
            ]
          },
          "metadata": {},
          "execution_count": 21
        }
      ]
    },
    {
      "cell_type": "code",
      "source": [
        "import numpy as np\n",
        "numpy_A = np.arange(1, 25, dtype=np.int32)\n",
        "X = tf.constant(numpy_A)\n",
        "X"
      ],
      "metadata": {
        "colab": {
          "base_uri": "https://localhost:8080/"
        },
        "id": "nfYBHyl0g5Xd",
        "outputId": "63692ee9-b8b2-400c-96d4-bc5d02b90a92"
      },
      "execution_count": null,
      "outputs": [
        {
          "output_type": "execute_result",
          "data": {
            "text/plain": [
              "<tf.Tensor: shape=(24,), dtype=int32, numpy=\n",
              "array([ 1,  2,  3,  4,  5,  6,  7,  8,  9, 10, 11, 12, 13, 14, 15, 16, 17,\n",
              "       18, 19, 20, 21, 22, 23, 24], dtype=int32)>"
            ]
          },
          "metadata": {},
          "execution_count": 22
        }
      ]
    },
    {
      "cell_type": "code",
      "source": [
        "Y = tf.constant(numpy_A, shape=(3, 8))\n",
        "Y"
      ],
      "metadata": {
        "colab": {
          "base_uri": "https://localhost:8080/"
        },
        "id": "t2bgDpd-FIIz",
        "outputId": "0f513dcb-d092-461b-fc6f-bbd30c08ccec"
      },
      "execution_count": null,
      "outputs": [
        {
          "output_type": "execute_result",
          "data": {
            "text/plain": [
              "<tf.Tensor: shape=(3, 8), dtype=int32, numpy=\n",
              "array([[ 1,  2,  3,  4,  5,  6,  7,  8],\n",
              "       [ 9, 10, 11, 12, 13, 14, 15, 16],\n",
              "       [17, 18, 19, 20, 21, 22, 23, 24]], dtype=int32)>"
            ]
          },
          "metadata": {},
          "execution_count": 23
        }
      ]
    },
    {
      "cell_type": "markdown",
      "source": [
        "## Getting information from tensors\n",
        "\n",
        "When dealing with tensors, we would need to be aware of the following attributes:\n",
        "* Shape\n",
        "* Rank\n",
        "* Dimension\n",
        "* Size"
      ],
      "metadata": {
        "id": "zpJPwlWCFdXC"
      }
    },
    {
      "cell_type": "code",
      "source": [
        "# Create a rank 4 tensor (4-dimensions)\n",
        "\n",
        "rank_4_tensor = tf.zeros(shape=[2, 3, 4, 5])\n",
        "rank_4_tensor"
      ],
      "metadata": {
        "colab": {
          "base_uri": "https://localhost:8080/"
        },
        "id": "gYocy5ndFm7J",
        "outputId": "bad14c11-65a9-446d-df8b-abc846aaa6cf"
      },
      "execution_count": null,
      "outputs": [
        {
          "output_type": "execute_result",
          "data": {
            "text/plain": [
              "<tf.Tensor: shape=(2, 3, 4, 5), dtype=float32, numpy=\n",
              "array([[[[0., 0., 0., 0., 0.],\n",
              "         [0., 0., 0., 0., 0.],\n",
              "         [0., 0., 0., 0., 0.],\n",
              "         [0., 0., 0., 0., 0.]],\n",
              "\n",
              "        [[0., 0., 0., 0., 0.],\n",
              "         [0., 0., 0., 0., 0.],\n",
              "         [0., 0., 0., 0., 0.],\n",
              "         [0., 0., 0., 0., 0.]],\n",
              "\n",
              "        [[0., 0., 0., 0., 0.],\n",
              "         [0., 0., 0., 0., 0.],\n",
              "         [0., 0., 0., 0., 0.],\n",
              "         [0., 0., 0., 0., 0.]]],\n",
              "\n",
              "\n",
              "       [[[0., 0., 0., 0., 0.],\n",
              "         [0., 0., 0., 0., 0.],\n",
              "         [0., 0., 0., 0., 0.],\n",
              "         [0., 0., 0., 0., 0.]],\n",
              "\n",
              "        [[0., 0., 0., 0., 0.],\n",
              "         [0., 0., 0., 0., 0.],\n",
              "         [0., 0., 0., 0., 0.],\n",
              "         [0., 0., 0., 0., 0.]],\n",
              "\n",
              "        [[0., 0., 0., 0., 0.],\n",
              "         [0., 0., 0., 0., 0.],\n",
              "         [0., 0., 0., 0., 0.],\n",
              "         [0., 0., 0., 0., 0.]]]], dtype=float32)>"
            ]
          },
          "metadata": {},
          "execution_count": 24
        }
      ]
    },
    {
      "cell_type": "code",
      "source": [
        "rank_4_tensor.shape"
      ],
      "metadata": {
        "colab": {
          "base_uri": "https://localhost:8080/"
        },
        "id": "oRBx1FP_GORL",
        "outputId": "ee3c7fb8-b79c-4ada-bccb-23fdcc9b0f71"
      },
      "execution_count": null,
      "outputs": [
        {
          "output_type": "execute_result",
          "data": {
            "text/plain": [
              "TensorShape([2, 3, 4, 5])"
            ]
          },
          "metadata": {},
          "execution_count": 25
        }
      ]
    },
    {
      "cell_type": "code",
      "source": [
        "rank_4_tensor.ndim"
      ],
      "metadata": {
        "colab": {
          "base_uri": "https://localhost:8080/"
        },
        "id": "CbXCvxwJGlF7",
        "outputId": "3c4a27fa-e033-4826-9c3c-5702d322ca3e"
      },
      "execution_count": null,
      "outputs": [
        {
          "output_type": "execute_result",
          "data": {
            "text/plain": [
              "4"
            ]
          },
          "metadata": {},
          "execution_count": 26
        }
      ]
    },
    {
      "cell_type": "code",
      "source": [
        "tf.size(rank_4_tensor)"
      ],
      "metadata": {
        "colab": {
          "base_uri": "https://localhost:8080/"
        },
        "id": "G8bVA0-HGwsG",
        "outputId": "d380c419-9d47-4ae2-8256-06846d8f0ae5"
      },
      "execution_count": null,
      "outputs": [
        {
          "output_type": "execute_result",
          "data": {
            "text/plain": [
              "<tf.Tensor: shape=(), dtype=int32, numpy=120>"
            ]
          },
          "metadata": {},
          "execution_count": 27
        }
      ]
    },
    {
      "cell_type": "code",
      "source": [
        "# Get various attributes of our tensor\n",
        "\n",
        "print(\"Datatype of every element of the tensor: \", rank_4_tensor.dtype)\n",
        "print(\"No. of dimensions (rank): \", rank_4_tensor.ndim)\n",
        "print(\"Shape of the tensor: \", rank_4_tensor.shape)\n",
        "print(\"Elements along the 0 axis: \", rank_4_tensor.shape[0])\n",
        "print(\"Elements along the last axis: \", rank_4_tensor.shape[-1])\n",
        "print(\"Total no. of elements in our tensor: \", tf.size(rank_4_tensor).numpy())\n"
      ],
      "metadata": {
        "colab": {
          "base_uri": "https://localhost:8080/"
        },
        "id": "_cj8--dvG1IR",
        "outputId": "0bf7fc95-4622-48e5-c572-ad41b26a4bfc"
      },
      "execution_count": null,
      "outputs": [
        {
          "output_type": "stream",
          "name": "stdout",
          "text": [
            "Datatype of every element of the tensor:  <dtype: 'float32'>\n",
            "No. of dimensions (rank):  4\n",
            "Shape of the tensor:  (2, 3, 4, 5)\n",
            "Elements along the 0 axis:  2\n",
            "Elements along the last axis:  5\n",
            "Total no. of elements in our tensor:  120\n"
          ]
        }
      ]
    },
    {
      "cell_type": "markdown",
      "source": [
        "### Indexing tensors"
      ],
      "metadata": {
        "id": "lmaVgwkNHknU"
      }
    },
    {
      "cell_type": "code",
      "source": [
        "rank_4_tensor[:2, :2, :2, :2]"
      ],
      "metadata": {
        "colab": {
          "base_uri": "https://localhost:8080/"
        },
        "id": "cJ6JVfLYJ52I",
        "outputId": "950bd8d0-dd4d-4761-81d9-2df32f13b887"
      },
      "execution_count": null,
      "outputs": [
        {
          "output_type": "execute_result",
          "data": {
            "text/plain": [
              "<tf.Tensor: shape=(2, 2, 2, 2), dtype=float32, numpy=\n",
              "array([[[[0., 0.],\n",
              "         [0., 0.]],\n",
              "\n",
              "        [[0., 0.],\n",
              "         [0., 0.]]],\n",
              "\n",
              "\n",
              "       [[[0., 0.],\n",
              "         [0., 0.]],\n",
              "\n",
              "        [[0., 0.],\n",
              "         [0., 0.]]]], dtype=float32)>"
            ]
          },
          "metadata": {},
          "execution_count": 29
        }
      ]
    },
    {
      "cell_type": "code",
      "source": [
        "# Get the first element from each dimension except for the final one\n",
        "rank_4_tensor[:1, :1, :1]"
      ],
      "metadata": {
        "colab": {
          "base_uri": "https://localhost:8080/"
        },
        "id": "wIaEA9XqJ_TQ",
        "outputId": "6af3032f-8feb-4c72-9a33-854c44682609"
      },
      "execution_count": null,
      "outputs": [
        {
          "output_type": "execute_result",
          "data": {
            "text/plain": [
              "<tf.Tensor: shape=(1, 1, 1, 5), dtype=float32, numpy=array([[[[0., 0., 0., 0., 0.]]]], dtype=float32)>"
            ]
          },
          "metadata": {},
          "execution_count": 30
        }
      ]
    },
    {
      "cell_type": "code",
      "source": [
        "# Create a rank 2 tensor (2-dimension)\n",
        "rank_2_tensor = tf.constant([[10, 7],\n",
        "                             [3, 4]])\n",
        "rank_2_tensor"
      ],
      "metadata": {
        "colab": {
          "base_uri": "https://localhost:8080/"
        },
        "id": "IbMREiZBKcMK",
        "outputId": "2d50a635-607c-4936-db32-89c0fc797e33"
      },
      "execution_count": null,
      "outputs": [
        {
          "output_type": "execute_result",
          "data": {
            "text/plain": [
              "<tf.Tensor: shape=(2, 2), dtype=int32, numpy=\n",
              "array([[10,  7],\n",
              "       [ 3,  4]], dtype=int32)>"
            ]
          },
          "metadata": {},
          "execution_count": 31
        }
      ]
    },
    {
      "cell_type": "code",
      "source": [
        "rank_2_tensor.shape"
      ],
      "metadata": {
        "colab": {
          "base_uri": "https://localhost:8080/"
        },
        "id": "n99uWPdWK7aK",
        "outputId": "83f17803-4168-4651-9bd7-4f43b1263125"
      },
      "execution_count": null,
      "outputs": [
        {
          "output_type": "execute_result",
          "data": {
            "text/plain": [
              "TensorShape([2, 2])"
            ]
          },
          "metadata": {},
          "execution_count": 32
        }
      ]
    },
    {
      "cell_type": "code",
      "source": [
        "rank_2_tensor.ndim"
      ],
      "metadata": {
        "colab": {
          "base_uri": "https://localhost:8080/"
        },
        "id": "4BD6mVx-K_cD",
        "outputId": "d01b9753-6116-4c7e-e80e-3a12487d7258"
      },
      "execution_count": null,
      "outputs": [
        {
          "output_type": "execute_result",
          "data": {
            "text/plain": [
              "2"
            ]
          },
          "metadata": {},
          "execution_count": 33
        }
      ]
    },
    {
      "cell_type": "code",
      "source": [
        "rank_2_tensor[:, -1].numpy()"
      ],
      "metadata": {
        "colab": {
          "base_uri": "https://localhost:8080/"
        },
        "id": "G4vlHjkZLA6S",
        "outputId": "f9841dad-d86d-40c1-97d1-f6e510075e22"
      },
      "execution_count": null,
      "outputs": [
        {
          "output_type": "execute_result",
          "data": {
            "text/plain": [
              "array([7, 4], dtype=int32)"
            ]
          },
          "metadata": {},
          "execution_count": 34
        }
      ]
    },
    {
      "cell_type": "code",
      "source": [
        "# Add extra dimension to the rank 2 tensor\n",
        "rank_3_tensor = rank_2_tensor[...,tf.newaxis]\n",
        "rank_3_tensor"
      ],
      "metadata": {
        "colab": {
          "base_uri": "https://localhost:8080/"
        },
        "id": "HFy30mNVLHBV",
        "outputId": "998b49d0-f9d3-4f7f-cdc0-b214773fa400"
      },
      "execution_count": null,
      "outputs": [
        {
          "output_type": "execute_result",
          "data": {
            "text/plain": [
              "<tf.Tensor: shape=(2, 2, 1), dtype=int32, numpy=\n",
              "array([[[10],\n",
              "        [ 7]],\n",
              "\n",
              "       [[ 3],\n",
              "        [ 4]]], dtype=int32)>"
            ]
          },
          "metadata": {},
          "execution_count": 35
        }
      ]
    },
    {
      "cell_type": "code",
      "source": [
        "# Alternative to tf.newaxis\n",
        "tf.expand_dims(rank_2_tensor, axis=-1)"
      ],
      "metadata": {
        "colab": {
          "base_uri": "https://localhost:8080/"
        },
        "id": "b77XY_CjLbx7",
        "outputId": "02184056-5cd2-4289-8ab6-69cb41e81359"
      },
      "execution_count": null,
      "outputs": [
        {
          "output_type": "execute_result",
          "data": {
            "text/plain": [
              "<tf.Tensor: shape=(2, 2, 1), dtype=int32, numpy=\n",
              "array([[[10],\n",
              "        [ 7]],\n",
              "\n",
              "       [[ 3],\n",
              "        [ 4]]], dtype=int32)>"
            ]
          },
          "metadata": {},
          "execution_count": 36
        }
      ]
    },
    {
      "cell_type": "code",
      "source": [
        "# Expand the 0-axis\n",
        "tf.expand_dims(rank_2_tensor, axis=0)"
      ],
      "metadata": {
        "colab": {
          "base_uri": "https://localhost:8080/"
        },
        "id": "BpIKdGxML9Ro",
        "outputId": "6ff3ac6d-9710-44e8-b65a-0633cd04f70d"
      },
      "execution_count": null,
      "outputs": [
        {
          "output_type": "execute_result",
          "data": {
            "text/plain": [
              "<tf.Tensor: shape=(1, 2, 2), dtype=int32, numpy=\n",
              "array([[[10,  7],\n",
              "        [ 3,  4]]], dtype=int32)>"
            ]
          },
          "metadata": {},
          "execution_count": 37
        }
      ]
    },
    {
      "cell_type": "code",
      "source": [
        "# Expand the 1st axis\n",
        "tf.expand_dims(rank_2_tensor, axis=1)"
      ],
      "metadata": {
        "colab": {
          "base_uri": "https://localhost:8080/"
        },
        "id": "forRRwfvL__g",
        "outputId": "31c28bcd-0c11-4626-cd30-ac21899c7c0f"
      },
      "execution_count": null,
      "outputs": [
        {
          "output_type": "execute_result",
          "data": {
            "text/plain": [
              "<tf.Tensor: shape=(2, 1, 2), dtype=int32, numpy=\n",
              "array([[[10,  7]],\n",
              "\n",
              "       [[ 3,  4]]], dtype=int32)>"
            ]
          },
          "metadata": {},
          "execution_count": 38
        }
      ]
    },
    {
      "cell_type": "markdown",
      "source": [
        "# Manipulating tensors (tensor operations)\n",
        "\n",
        "`+`, `-`, `*`, `/`"
      ],
      "metadata": {
        "id": "PvN6dOmSMPD3"
      }
    },
    {
      "cell_type": "code",
      "source": [
        "# We can add values to a tensor using the addition operator\n",
        "tensor = tf.constant([[10, 7], \n",
        "                      [3, 4]])\n",
        "tensor + 10"
      ],
      "metadata": {
        "colab": {
          "base_uri": "https://localhost:8080/"
        },
        "id": "KS4olUTPNa8H",
        "outputId": "ab4c66a0-aa20-4224-c18e-d261e528a7cb"
      },
      "execution_count": null,
      "outputs": [
        {
          "output_type": "execute_result",
          "data": {
            "text/plain": [
              "<tf.Tensor: shape=(2, 2), dtype=int32, numpy=\n",
              "array([[20, 17],\n",
              "       [13, 14]], dtype=int32)>"
            ]
          },
          "metadata": {},
          "execution_count": 39
        }
      ]
    },
    {
      "cell_type": "code",
      "source": [
        "tensor"
      ],
      "metadata": {
        "colab": {
          "base_uri": "https://localhost:8080/"
        },
        "id": "OvRF8ePiNz4h",
        "outputId": "0ebd00e3-fa9c-4424-d61e-6449dc6563d2"
      },
      "execution_count": null,
      "outputs": [
        {
          "output_type": "execute_result",
          "data": {
            "text/plain": [
              "<tf.Tensor: shape=(2, 2), dtype=int32, numpy=\n",
              "array([[10,  7],\n",
              "       [ 3,  4]], dtype=int32)>"
            ]
          },
          "metadata": {},
          "execution_count": 40
        }
      ]
    },
    {
      "cell_type": "code",
      "source": [
        "tensor - 10"
      ],
      "metadata": {
        "colab": {
          "base_uri": "https://localhost:8080/"
        },
        "id": "HEMbuagbN2SW",
        "outputId": "82529f03-b17e-476a-ee49-95a64b8b151c"
      },
      "execution_count": null,
      "outputs": [
        {
          "output_type": "execute_result",
          "data": {
            "text/plain": [
              "<tf.Tensor: shape=(2, 2), dtype=int32, numpy=\n",
              "array([[ 0, -3],\n",
              "       [-7, -6]], dtype=int32)>"
            ]
          },
          "metadata": {},
          "execution_count": 41
        }
      ]
    },
    {
      "cell_type": "code",
      "source": [
        "tensor * 10"
      ],
      "metadata": {
        "colab": {
          "base_uri": "https://localhost:8080/"
        },
        "id": "dSbolyaQN4Pu",
        "outputId": "ddfec861-bc6d-4286-dfb5-df467a9d20f0"
      },
      "execution_count": null,
      "outputs": [
        {
          "output_type": "execute_result",
          "data": {
            "text/plain": [
              "<tf.Tensor: shape=(2, 2), dtype=int32, numpy=\n",
              "array([[100,  70],\n",
              "       [ 30,  40]], dtype=int32)>"
            ]
          },
          "metadata": {},
          "execution_count": 42
        }
      ]
    },
    {
      "cell_type": "code",
      "source": [
        "tensor / 10"
      ],
      "metadata": {
        "colab": {
          "base_uri": "https://localhost:8080/"
        },
        "id": "nWINdQ4_N98X",
        "outputId": "83ab2d33-9618-4033-90fc-cc6d8d0bfd46"
      },
      "execution_count": null,
      "outputs": [
        {
          "output_type": "execute_result",
          "data": {
            "text/plain": [
              "<tf.Tensor: shape=(2, 2), dtype=float64, numpy=\n",
              "array([[1. , 0.7],\n",
              "       [0.3, 0.4]])>"
            ]
          },
          "metadata": {},
          "execution_count": 43
        }
      ]
    },
    {
      "cell_type": "code",
      "source": [
        "tf.multiply(tensor, 10)"
      ],
      "metadata": {
        "colab": {
          "base_uri": "https://localhost:8080/"
        },
        "id": "qij78r6lOBRD",
        "outputId": "18f3c80b-f657-441c-ee0e-e8047ec7a2af"
      },
      "execution_count": null,
      "outputs": [
        {
          "output_type": "execute_result",
          "data": {
            "text/plain": [
              "<tf.Tensor: shape=(2, 2), dtype=int32, numpy=\n",
              "array([[100,  70],\n",
              "       [ 30,  40]], dtype=int32)>"
            ]
          },
          "metadata": {},
          "execution_count": 44
        }
      ]
    },
    {
      "cell_type": "markdown",
      "source": [
        "# Matrix multiplication"
      ],
      "metadata": {
        "id": "UpqBsVVoODzp"
      }
    },
    {
      "cell_type": "code",
      "source": [
        "print(tensor)\n",
        "tf.matmul(tensor, tensor)"
      ],
      "metadata": {
        "colab": {
          "base_uri": "https://localhost:8080/"
        },
        "id": "Wq39wAr0OrEh",
        "outputId": "04cf4069-6c5f-41ec-ec0b-e3381bf96d41"
      },
      "execution_count": null,
      "outputs": [
        {
          "output_type": "stream",
          "name": "stdout",
          "text": [
            "tf.Tensor(\n",
            "[[10  7]\n",
            " [ 3  4]], shape=(2, 2), dtype=int32)\n"
          ]
        },
        {
          "output_type": "execute_result",
          "data": {
            "text/plain": [
              "<tf.Tensor: shape=(2, 2), dtype=int32, numpy=\n",
              "array([[121,  98],\n",
              "       [ 42,  37]], dtype=int32)>"
            ]
          },
          "metadata": {},
          "execution_count": 45
        }
      ]
    },
    {
      "cell_type": "code",
      "source": [
        "tensor * tensor"
      ],
      "metadata": {
        "colab": {
          "base_uri": "https://localhost:8080/"
        },
        "id": "ccRXi68WQNih",
        "outputId": "ee18b01f-9072-4d38-ac42-f4250390e2ef"
      },
      "execution_count": null,
      "outputs": [
        {
          "output_type": "execute_result",
          "data": {
            "text/plain": [
              "<tf.Tensor: shape=(2, 2), dtype=int32, numpy=\n",
              "array([[100,  49],\n",
              "       [  9,  16]], dtype=int32)>"
            ]
          },
          "metadata": {},
          "execution_count": 46
        }
      ]
    },
    {
      "cell_type": "code",
      "source": [
        "# Matrix multiplication with Python operator \"@\"\n",
        "tensor @ tensor"
      ],
      "metadata": {
        "colab": {
          "base_uri": "https://localhost:8080/"
        },
        "id": "05vdLO7fQBtX",
        "outputId": "6f50cdc1-e7dc-41a9-cfdc-74519348ae08"
      },
      "execution_count": null,
      "outputs": [
        {
          "output_type": "execute_result",
          "data": {
            "text/plain": [
              "<tf.Tensor: shape=(2, 2), dtype=int32, numpy=\n",
              "array([[121,  98],\n",
              "       [ 42,  37]], dtype=int32)>"
            ]
          },
          "metadata": {},
          "execution_count": 47
        }
      ]
    },
    {
      "cell_type": "code",
      "source": [
        "# Create a tensor of (3, 2) shape\n",
        "X = tf.constant([[1, 2],\n",
        "                 [3, 4],\n",
        "                 [5, 6]])\n",
        "\n",
        "# Create another (3, 2) tensor\n",
        "Y = tf.constant([[7, 8],\n",
        "                 [9, 10],\n",
        "                 [11, 12]])\n",
        "\n",
        "X, Y"
      ],
      "metadata": {
        "colab": {
          "base_uri": "https://localhost:8080/"
        },
        "id": "hnH6nO5zQfLY",
        "outputId": "48e4045e-bb39-418e-be04-0dcde598a4c4"
      },
      "execution_count": null,
      "outputs": [
        {
          "output_type": "execute_result",
          "data": {
            "text/plain": [
              "(<tf.Tensor: shape=(3, 2), dtype=int32, numpy=\n",
              " array([[1, 2],\n",
              "        [3, 4],\n",
              "        [5, 6]], dtype=int32)>, <tf.Tensor: shape=(3, 2), dtype=int32, numpy=\n",
              " array([[ 7,  8],\n",
              "        [ 9, 10],\n",
              "        [11, 12]], dtype=int32)>)"
            ]
          },
          "metadata": {},
          "execution_count": 48
        }
      ]
    },
    {
      "cell_type": "code",
      "source": [
        "X @ Y"
      ],
      "metadata": {
        "colab": {
          "base_uri": "https://localhost:8080/",
          "height": 311
        },
        "id": "TpS07ncLQxqY",
        "outputId": "8434edea-3653-424d-f22b-6ed4121cdf95"
      },
      "execution_count": null,
      "outputs": [
        {
          "output_type": "error",
          "ename": "InvalidArgumentError",
          "evalue": "ignored",
          "traceback": [
            "\u001b[0;31m---------------------------------------------------------------------------\u001b[0m",
            "\u001b[0;31mInvalidArgumentError\u001b[0m                      Traceback (most recent call last)",
            "\u001b[0;32m<ipython-input-55-7db1014e61e3>\u001b[0m in \u001b[0;36m<module>\u001b[0;34m()\u001b[0m\n\u001b[0;32m----> 1\u001b[0;31m \u001b[0mX\u001b[0m \u001b[0;34m@\u001b[0m \u001b[0mY\u001b[0m\u001b[0;34m\u001b[0m\u001b[0;34m\u001b[0m\u001b[0m\n\u001b[0m",
            "\u001b[0;32m/usr/local/lib/python3.7/dist-packages/tensorflow/python/util/traceback_utils.py\u001b[0m in \u001b[0;36merror_handler\u001b[0;34m(*args, **kwargs)\u001b[0m\n\u001b[1;32m    151\u001b[0m     \u001b[0;32mexcept\u001b[0m \u001b[0mException\u001b[0m \u001b[0;32mas\u001b[0m \u001b[0me\u001b[0m\u001b[0;34m:\u001b[0m\u001b[0;34m\u001b[0m\u001b[0;34m\u001b[0m\u001b[0m\n\u001b[1;32m    152\u001b[0m       \u001b[0mfiltered_tb\u001b[0m \u001b[0;34m=\u001b[0m \u001b[0m_process_traceback_frames\u001b[0m\u001b[0;34m(\u001b[0m\u001b[0me\u001b[0m\u001b[0;34m.\u001b[0m\u001b[0m__traceback__\u001b[0m\u001b[0;34m)\u001b[0m\u001b[0;34m\u001b[0m\u001b[0;34m\u001b[0m\u001b[0m\n\u001b[0;32m--> 153\u001b[0;31m       \u001b[0;32mraise\u001b[0m \u001b[0me\u001b[0m\u001b[0;34m.\u001b[0m\u001b[0mwith_traceback\u001b[0m\u001b[0;34m(\u001b[0m\u001b[0mfiltered_tb\u001b[0m\u001b[0;34m)\u001b[0m \u001b[0;32mfrom\u001b[0m \u001b[0;32mNone\u001b[0m\u001b[0;34m\u001b[0m\u001b[0;34m\u001b[0m\u001b[0m\n\u001b[0m\u001b[1;32m    154\u001b[0m     \u001b[0;32mfinally\u001b[0m\u001b[0;34m:\u001b[0m\u001b[0;34m\u001b[0m\u001b[0;34m\u001b[0m\u001b[0m\n\u001b[1;32m    155\u001b[0m       \u001b[0;32mdel\u001b[0m \u001b[0mfiltered_tb\u001b[0m\u001b[0;34m\u001b[0m\u001b[0;34m\u001b[0m\u001b[0m\n",
            "\u001b[0;32m/usr/local/lib/python3.7/dist-packages/tensorflow/python/framework/ops.py\u001b[0m in \u001b[0;36mraise_from_not_ok_status\u001b[0;34m(e, name)\u001b[0m\n\u001b[1;32m   7184\u001b[0m \u001b[0;32mdef\u001b[0m \u001b[0mraise_from_not_ok_status\u001b[0m\u001b[0;34m(\u001b[0m\u001b[0me\u001b[0m\u001b[0;34m,\u001b[0m \u001b[0mname\u001b[0m\u001b[0;34m)\u001b[0m\u001b[0;34m:\u001b[0m\u001b[0;34m\u001b[0m\u001b[0;34m\u001b[0m\u001b[0m\n\u001b[1;32m   7185\u001b[0m   \u001b[0me\u001b[0m\u001b[0;34m.\u001b[0m\u001b[0mmessage\u001b[0m \u001b[0;34m+=\u001b[0m \u001b[0;34m(\u001b[0m\u001b[0;34m\" name: \"\u001b[0m \u001b[0;34m+\u001b[0m \u001b[0mname\u001b[0m \u001b[0;32mif\u001b[0m \u001b[0mname\u001b[0m \u001b[0;32mis\u001b[0m \u001b[0;32mnot\u001b[0m \u001b[0;32mNone\u001b[0m \u001b[0;32melse\u001b[0m \u001b[0;34m\"\"\u001b[0m\u001b[0;34m)\u001b[0m\u001b[0;34m\u001b[0m\u001b[0;34m\u001b[0m\u001b[0m\n\u001b[0;32m-> 7186\u001b[0;31m   \u001b[0;32mraise\u001b[0m \u001b[0mcore\u001b[0m\u001b[0;34m.\u001b[0m\u001b[0m_status_to_exception\u001b[0m\u001b[0;34m(\u001b[0m\u001b[0me\u001b[0m\u001b[0;34m)\u001b[0m \u001b[0;32mfrom\u001b[0m \u001b[0;32mNone\u001b[0m  \u001b[0;31m# pylint: disable=protected-access\u001b[0m\u001b[0;34m\u001b[0m\u001b[0;34m\u001b[0m\u001b[0m\n\u001b[0m\u001b[1;32m   7187\u001b[0m \u001b[0;34m\u001b[0m\u001b[0m\n\u001b[1;32m   7188\u001b[0m \u001b[0;34m\u001b[0m\u001b[0m\n",
            "\u001b[0;31mInvalidArgumentError\u001b[0m: Matrix size-incompatible: In[0]: [3,2], In[1]: [3,2] [Op:MatMul]"
          ]
        }
      ]
    },
    {
      "cell_type": "code",
      "source": [
        "tf.matmul(X, Y)"
      ],
      "metadata": {
        "colab": {
          "base_uri": "https://localhost:8080/",
          "height": 311
        },
        "id": "kX6KK48VQ0St",
        "outputId": "7042a8ca-1312-4bbf-91a1-4cf4ca831d3d"
      },
      "execution_count": null,
      "outputs": [
        {
          "output_type": "error",
          "ename": "InvalidArgumentError",
          "evalue": "ignored",
          "traceback": [
            "\u001b[0;31m---------------------------------------------------------------------------\u001b[0m",
            "\u001b[0;31mInvalidArgumentError\u001b[0m                      Traceback (most recent call last)",
            "\u001b[0;32m<ipython-input-56-b58f5d491930>\u001b[0m in \u001b[0;36m<module>\u001b[0;34m()\u001b[0m\n\u001b[0;32m----> 1\u001b[0;31m \u001b[0mtf\u001b[0m\u001b[0;34m.\u001b[0m\u001b[0mmatmul\u001b[0m\u001b[0;34m(\u001b[0m\u001b[0mX\u001b[0m\u001b[0;34m,\u001b[0m \u001b[0mY\u001b[0m\u001b[0;34m)\u001b[0m\u001b[0;34m\u001b[0m\u001b[0;34m\u001b[0m\u001b[0m\n\u001b[0m",
            "\u001b[0;32m/usr/local/lib/python3.7/dist-packages/tensorflow/python/util/traceback_utils.py\u001b[0m in \u001b[0;36merror_handler\u001b[0;34m(*args, **kwargs)\u001b[0m\n\u001b[1;32m    151\u001b[0m     \u001b[0;32mexcept\u001b[0m \u001b[0mException\u001b[0m \u001b[0;32mas\u001b[0m \u001b[0me\u001b[0m\u001b[0;34m:\u001b[0m\u001b[0;34m\u001b[0m\u001b[0;34m\u001b[0m\u001b[0m\n\u001b[1;32m    152\u001b[0m       \u001b[0mfiltered_tb\u001b[0m \u001b[0;34m=\u001b[0m \u001b[0m_process_traceback_frames\u001b[0m\u001b[0;34m(\u001b[0m\u001b[0me\u001b[0m\u001b[0;34m.\u001b[0m\u001b[0m__traceback__\u001b[0m\u001b[0;34m)\u001b[0m\u001b[0;34m\u001b[0m\u001b[0;34m\u001b[0m\u001b[0m\n\u001b[0;32m--> 153\u001b[0;31m       \u001b[0;32mraise\u001b[0m \u001b[0me\u001b[0m\u001b[0;34m.\u001b[0m\u001b[0mwith_traceback\u001b[0m\u001b[0;34m(\u001b[0m\u001b[0mfiltered_tb\u001b[0m\u001b[0;34m)\u001b[0m \u001b[0;32mfrom\u001b[0m \u001b[0;32mNone\u001b[0m\u001b[0;34m\u001b[0m\u001b[0;34m\u001b[0m\u001b[0m\n\u001b[0m\u001b[1;32m    154\u001b[0m     \u001b[0;32mfinally\u001b[0m\u001b[0;34m:\u001b[0m\u001b[0;34m\u001b[0m\u001b[0;34m\u001b[0m\u001b[0m\n\u001b[1;32m    155\u001b[0m       \u001b[0;32mdel\u001b[0m \u001b[0mfiltered_tb\u001b[0m\u001b[0;34m\u001b[0m\u001b[0;34m\u001b[0m\u001b[0m\n",
            "\u001b[0;32m/usr/local/lib/python3.7/dist-packages/tensorflow/python/framework/ops.py\u001b[0m in \u001b[0;36mraise_from_not_ok_status\u001b[0;34m(e, name)\u001b[0m\n\u001b[1;32m   7184\u001b[0m \u001b[0;32mdef\u001b[0m \u001b[0mraise_from_not_ok_status\u001b[0m\u001b[0;34m(\u001b[0m\u001b[0me\u001b[0m\u001b[0;34m,\u001b[0m \u001b[0mname\u001b[0m\u001b[0;34m)\u001b[0m\u001b[0;34m:\u001b[0m\u001b[0;34m\u001b[0m\u001b[0;34m\u001b[0m\u001b[0m\n\u001b[1;32m   7185\u001b[0m   \u001b[0me\u001b[0m\u001b[0;34m.\u001b[0m\u001b[0mmessage\u001b[0m \u001b[0;34m+=\u001b[0m \u001b[0;34m(\u001b[0m\u001b[0;34m\" name: \"\u001b[0m \u001b[0;34m+\u001b[0m \u001b[0mname\u001b[0m \u001b[0;32mif\u001b[0m \u001b[0mname\u001b[0m \u001b[0;32mis\u001b[0m \u001b[0;32mnot\u001b[0m \u001b[0;32mNone\u001b[0m \u001b[0;32melse\u001b[0m \u001b[0;34m\"\"\u001b[0m\u001b[0;34m)\u001b[0m\u001b[0;34m\u001b[0m\u001b[0;34m\u001b[0m\u001b[0m\n\u001b[0;32m-> 7186\u001b[0;31m   \u001b[0;32mraise\u001b[0m \u001b[0mcore\u001b[0m\u001b[0;34m.\u001b[0m\u001b[0m_status_to_exception\u001b[0m\u001b[0;34m(\u001b[0m\u001b[0me\u001b[0m\u001b[0;34m)\u001b[0m \u001b[0;32mfrom\u001b[0m \u001b[0;32mNone\u001b[0m  \u001b[0;31m# pylint: disable=protected-access\u001b[0m\u001b[0;34m\u001b[0m\u001b[0;34m\u001b[0m\u001b[0m\n\u001b[0m\u001b[1;32m   7187\u001b[0m \u001b[0;34m\u001b[0m\u001b[0m\n\u001b[1;32m   7188\u001b[0m \u001b[0;34m\u001b[0m\u001b[0m\n",
            "\u001b[0;31mInvalidArgumentError\u001b[0m: Matrix size-incompatible: In[0]: [3,2], In[1]: [3,2] [Op:MatMul]"
          ]
        }
      ]
    },
    {
      "cell_type": "code",
      "source": [
        "# Let's change the shape of Y\n",
        "Y, tf.reshape(Y, shape=(2, 3))"
      ],
      "metadata": {
        "colab": {
          "base_uri": "https://localhost:8080/"
        },
        "id": "xDD4J9RHQ4Iy",
        "outputId": "4b4f837c-eda2-49ee-e75a-d36e51b5968e"
      },
      "execution_count": null,
      "outputs": [
        {
          "output_type": "execute_result",
          "data": {
            "text/plain": [
              "(<tf.Tensor: shape=(3, 2), dtype=int32, numpy=\n",
              " array([[ 7,  8],\n",
              "        [ 9, 10],\n",
              "        [11, 12]], dtype=int32)>, <tf.Tensor: shape=(2, 3), dtype=int32, numpy=\n",
              " array([[ 7,  8,  9],\n",
              "        [10, 11, 12]], dtype=int32)>)"
            ]
          },
          "metadata": {},
          "execution_count": 50
        }
      ]
    },
    {
      "cell_type": "code",
      "source": [
        "X @ tf.reshape(Y, shape=(2, 3))"
      ],
      "metadata": {
        "colab": {
          "base_uri": "https://localhost:8080/"
        },
        "id": "EK9wUANATKo6",
        "outputId": "ae64dbb4-4a6e-44a5-840a-3f151c32fce2"
      },
      "execution_count": null,
      "outputs": [
        {
          "output_type": "execute_result",
          "data": {
            "text/plain": [
              "<tf.Tensor: shape=(3, 3), dtype=int32, numpy=\n",
              "array([[ 27,  30,  33],\n",
              "       [ 61,  68,  75],\n",
              "       [ 95, 106, 117]], dtype=int32)>"
            ]
          },
          "metadata": {},
          "execution_count": 51
        }
      ]
    },
    {
      "cell_type": "code",
      "source": [
        "tf.matmul(X, tf.reshape(Y, shape=(2, 3)))"
      ],
      "metadata": {
        "colab": {
          "base_uri": "https://localhost:8080/"
        },
        "id": "ZkqYpnMjTWwe",
        "outputId": "82f3ee55-90c5-459e-b14c-15d8756620e5"
      },
      "execution_count": null,
      "outputs": [
        {
          "output_type": "execute_result",
          "data": {
            "text/plain": [
              "<tf.Tensor: shape=(3, 3), dtype=int32, numpy=\n",
              "array([[ 27,  30,  33],\n",
              "       [ 61,  68,  75],\n",
              "       [ 95, 106, 117]], dtype=int32)>"
            ]
          },
          "metadata": {},
          "execution_count": 52
        }
      ]
    },
    {
      "cell_type": "code",
      "source": [
        "tf.matmul(tf.reshape(X, shape=(2, 3)), Y)"
      ],
      "metadata": {
        "colab": {
          "base_uri": "https://localhost:8080/"
        },
        "id": "hdT6jugWTuzf",
        "outputId": "e697f1b8-7050-460b-81e7-9720c55c52c4"
      },
      "execution_count": null,
      "outputs": [
        {
          "output_type": "execute_result",
          "data": {
            "text/plain": [
              "<tf.Tensor: shape=(2, 2), dtype=int32, numpy=\n",
              "array([[ 58,  64],\n",
              "       [139, 154]], dtype=int32)>"
            ]
          },
          "metadata": {},
          "execution_count": 53
        }
      ]
    },
    {
      "cell_type": "code",
      "source": [
        "# Can do the same with transpose\n",
        "X, tf.transpose(X), tf.reshape(X, shape = (2, 3))"
      ],
      "metadata": {
        "colab": {
          "base_uri": "https://localhost:8080/"
        },
        "id": "j9glB1cbTzDK",
        "outputId": "49ac2502-eff7-417f-bd2a-89efba9aed2a"
      },
      "execution_count": null,
      "outputs": [
        {
          "output_type": "execute_result",
          "data": {
            "text/plain": [
              "(<tf.Tensor: shape=(3, 2), dtype=int32, numpy=\n",
              " array([[1, 2],\n",
              "        [3, 4],\n",
              "        [5, 6]], dtype=int32)>, <tf.Tensor: shape=(2, 3), dtype=int32, numpy=\n",
              " array([[1, 3, 5],\n",
              "        [2, 4, 6]], dtype=int32)>, <tf.Tensor: shape=(2, 3), dtype=int32, numpy=\n",
              " array([[1, 2, 3],\n",
              "        [4, 5, 6]], dtype=int32)>)"
            ]
          },
          "metadata": {},
          "execution_count": 54
        }
      ]
    },
    {
      "cell_type": "code",
      "source": [
        "tf.matmul(tf.transpose(X), Y)"
      ],
      "metadata": {
        "colab": {
          "base_uri": "https://localhost:8080/"
        },
        "id": "_wkmuuOWU4Ej",
        "outputId": "8f640611-851e-43f2-e1c9-ceb7092da11e"
      },
      "execution_count": null,
      "outputs": [
        {
          "output_type": "execute_result",
          "data": {
            "text/plain": [
              "<tf.Tensor: shape=(2, 2), dtype=int32, numpy=\n",
              "array([[ 89,  98],\n",
              "       [116, 128]], dtype=int32)>"
            ]
          },
          "metadata": {},
          "execution_count": 57
        }
      ]
    },
    {
      "cell_type": "markdown",
      "source": [
        "## Changing the datatype of a tensor"
      ],
      "metadata": {
        "id": "TuB-YyD-VUBH"
      }
    },
    {
      "cell_type": "code",
      "source": [
        "# Create a tensor with default dtype (float32)\n",
        "B = tf.constant([1.7, 3.4])\n",
        "B, B.dtype"
      ],
      "metadata": {
        "colab": {
          "base_uri": "https://localhost:8080/"
        },
        "id": "oGLR_JdfbEiF",
        "outputId": "aed4a25f-656e-4bc0-b2e3-46a612f5bd7d"
      },
      "execution_count": null,
      "outputs": [
        {
          "output_type": "execute_result",
          "data": {
            "text/plain": [
              "(<tf.Tensor: shape=(2,), dtype=float32, numpy=array([1.7, 3.4], dtype=float32)>,\n",
              " tf.float32)"
            ]
          },
          "metadata": {},
          "execution_count": 58
        }
      ]
    },
    {
      "cell_type": "code",
      "source": [
        "C = tf.constant([3, 10])\n",
        "C.dtype"
      ],
      "metadata": {
        "colab": {
          "base_uri": "https://localhost:8080/"
        },
        "id": "Y3crpizcb_tn",
        "outputId": "4ea7dc82-7a5b-40d9-8a8c-f60e45f2b393"
      },
      "execution_count": null,
      "outputs": [
        {
          "output_type": "execute_result",
          "data": {
            "text/plain": [
              "tf.int32"
            ]
          },
          "metadata": {},
          "execution_count": 59
        }
      ]
    },
    {
      "cell_type": "code",
      "source": [
        "# Change from float32 to float16\n",
        "D = tf.cast(B, dtype=tf.float16)\n",
        "D, D.dtype"
      ],
      "metadata": {
        "colab": {
          "base_uri": "https://localhost:8080/"
        },
        "id": "bh6qdj5icDDx",
        "outputId": "f7595ba0-c335-47d0-ae51-e43813d8d1b9"
      },
      "execution_count": null,
      "outputs": [
        {
          "output_type": "execute_result",
          "data": {
            "text/plain": [
              "(<tf.Tensor: shape=(2,), dtype=float16, numpy=array([1.7, 3.4], dtype=float16)>,\n",
              " tf.float16)"
            ]
          },
          "metadata": {},
          "execution_count": 60
        }
      ]
    },
    {
      "cell_type": "code",
      "source": [
        "# Change from int32 to float32\n",
        "E= tf.cast(C, dtype=tf.float32)\n",
        "E, E.dtype"
      ],
      "metadata": {
        "colab": {
          "base_uri": "https://localhost:8080/"
        },
        "id": "nNTgsln-cwHa",
        "outputId": "9e0ff26e-d30d-4f02-c73d-bbd9a118b669"
      },
      "execution_count": null,
      "outputs": [
        {
          "output_type": "execute_result",
          "data": {
            "text/plain": [
              "(<tf.Tensor: shape=(2,), dtype=float32, numpy=array([ 3., 10.], dtype=float32)>,\n",
              " tf.float32)"
            ]
          },
          "metadata": {},
          "execution_count": 61
        }
      ]
    },
    {
      "cell_type": "code",
      "source": [
        "E_float16 = tf.cast(E, dtype=tf.float16)\n",
        "E_float16, E_float16.dtype"
      ],
      "metadata": {
        "colab": {
          "base_uri": "https://localhost:8080/"
        },
        "id": "oq3lD_37dTkM",
        "outputId": "1367368c-86dd-4bdb-941e-2994870f5298"
      },
      "execution_count": null,
      "outputs": [
        {
          "output_type": "execute_result",
          "data": {
            "text/plain": [
              "(<tf.Tensor: shape=(2,), dtype=float16, numpy=array([ 3., 10.], dtype=float16)>,\n",
              " tf.float16)"
            ]
          },
          "metadata": {},
          "execution_count": 62
        }
      ]
    },
    {
      "cell_type": "markdown",
      "source": [
        "## Aggregating tensors\n",
        "\n",
        "Aggregating tensors = condensing them from multiple values down to a smaller amt of values."
      ],
      "metadata": {
        "id": "F3LLtBwQde4a"
      }
    },
    {
      "cell_type": "code",
      "source": [
        "D = tf.constant([-7, -10])\n",
        "D"
      ],
      "metadata": {
        "colab": {
          "base_uri": "https://localhost:8080/"
        },
        "id": "zQZS9KG1P9MJ",
        "outputId": "f8845cc0-879f-4723-9eac-398e9c5726f9"
      },
      "execution_count": null,
      "outputs": [
        {
          "output_type": "execute_result",
          "data": {
            "text/plain": [
              "<tf.Tensor: shape=(2,), dtype=int32, numpy=array([ -7, -10], dtype=int32)>"
            ]
          },
          "metadata": {},
          "execution_count": 63
        }
      ]
    },
    {
      "cell_type": "code",
      "source": [
        "# Absolute value of a tensor\n",
        "tf.abs(D)"
      ],
      "metadata": {
        "colab": {
          "base_uri": "https://localhost:8080/"
        },
        "id": "EtlHnr0uQDKq",
        "outputId": "6d79dbc4-ed93-4e5b-f05b-b5399f05165e"
      },
      "execution_count": null,
      "outputs": [
        {
          "output_type": "execute_result",
          "data": {
            "text/plain": [
              "<tf.Tensor: shape=(2,), dtype=int32, numpy=array([ 7, 10], dtype=int32)>"
            ]
          },
          "metadata": {},
          "execution_count": 64
        }
      ]
    },
    {
      "cell_type": "markdown",
      "source": [
        "Let's get through the following:\n",
        "* Minimum of a tensor\n",
        "* Maximum of a tensor\n",
        "* Mean of a tensor\n",
        "* Sum of a tensor"
      ],
      "metadata": {
        "id": "PcoHrkbIQGku"
      }
    },
    {
      "cell_type": "code",
      "source": [
        "# Create a large tensor\n",
        "E = tf.constant(np.random.randint(0, 100, size=50))\n",
        "E"
      ],
      "metadata": {
        "colab": {
          "base_uri": "https://localhost:8080/"
        },
        "id": "fqFQXNWJQS5j",
        "outputId": "dba5a26f-566d-4fcc-9861-0ac95939c69a"
      },
      "execution_count": null,
      "outputs": [
        {
          "output_type": "execute_result",
          "data": {
            "text/plain": [
              "<tf.Tensor: shape=(50,), dtype=int64, numpy=\n",
              "array([87, 15, 78, 88, 13, 64, 18, 97, 71, 22, 45, 54, 62, 81, 96, 19, 53,\n",
              "       48, 90, 10, 33, 42, 31, 30, 23, 77, 69, 84, 43, 89, 18,  2, 42,  2,\n",
              "       61, 43, 44, 64,  5, 49, 84, 25, 96, 34, 55, 58, 29, 30, 32, 55])>"
            ]
          },
          "metadata": {},
          "execution_count": 65
        }
      ]
    },
    {
      "cell_type": "code",
      "source": [
        "tf.size(E), E.shape, E.ndim"
      ],
      "metadata": {
        "colab": {
          "base_uri": "https://localhost:8080/"
        },
        "id": "PpuoJJ8jQdcw",
        "outputId": "42ea059f-49cb-4795-8fcc-b09cbab90f64"
      },
      "execution_count": null,
      "outputs": [
        {
          "output_type": "execute_result",
          "data": {
            "text/plain": [
              "(<tf.Tensor: shape=(), dtype=int32, numpy=50>, TensorShape([50]), 1)"
            ]
          },
          "metadata": {},
          "execution_count": 66
        }
      ]
    },
    {
      "cell_type": "code",
      "source": [
        "tf.reduce_min(E)"
      ],
      "metadata": {
        "colab": {
          "base_uri": "https://localhost:8080/"
        },
        "id": "WhvVyrzKQhQ8",
        "outputId": "b1e6f662-a088-4f5d-e29a-5844dc2086e5"
      },
      "execution_count": null,
      "outputs": [
        {
          "output_type": "execute_result",
          "data": {
            "text/plain": [
              "<tf.Tensor: shape=(), dtype=int64, numpy=2>"
            ]
          },
          "metadata": {},
          "execution_count": 67
        }
      ]
    },
    {
      "cell_type": "code",
      "source": [
        "tf.reduce_max(E)"
      ],
      "metadata": {
        "colab": {
          "base_uri": "https://localhost:8080/"
        },
        "id": "MryPM8HoQlJs",
        "outputId": "219604eb-b9dc-4b2e-a44f-aa3d6e7d3dbc"
      },
      "execution_count": null,
      "outputs": [
        {
          "output_type": "execute_result",
          "data": {
            "text/plain": [
              "<tf.Tensor: shape=(), dtype=int64, numpy=97>"
            ]
          },
          "metadata": {},
          "execution_count": 68
        }
      ]
    },
    {
      "cell_type": "code",
      "source": [
        "tf.reduce_mean(E)"
      ],
      "metadata": {
        "colab": {
          "base_uri": "https://localhost:8080/"
        },
        "id": "8R0e2drWQn6F",
        "outputId": "141b7b46-c503-4192-9557-5dd852f3613c"
      },
      "execution_count": null,
      "outputs": [
        {
          "output_type": "execute_result",
          "data": {
            "text/plain": [
              "<tf.Tensor: shape=(), dtype=int64, numpy=49>"
            ]
          },
          "metadata": {},
          "execution_count": 69
        }
      ]
    },
    {
      "cell_type": "code",
      "source": [
        "tf.reduce_sum(E)"
      ],
      "metadata": {
        "colab": {
          "base_uri": "https://localhost:8080/"
        },
        "id": "4ktUKQ7XQ0r-",
        "outputId": "4577ea7f-e6b9-45e2-d66d-0a6c4cd0b999"
      },
      "execution_count": null,
      "outputs": [
        {
          "output_type": "execute_result",
          "data": {
            "text/plain": [
              "<tf.Tensor: shape=(), dtype=int64, numpy=2460>"
            ]
          },
          "metadata": {},
          "execution_count": 70
        }
      ]
    },
    {
      "cell_type": "code",
      "source": [
        "tf.math.reduce_std(tf.cast(E, dtype=tf.float32))"
      ],
      "metadata": {
        "colab": {
          "base_uri": "https://localhost:8080/"
        },
        "id": "LCL_qJv7Q3jZ",
        "outputId": "4247fa69-a6fe-467d-eb4c-942141bf988b"
      },
      "execution_count": null,
      "outputs": [
        {
          "output_type": "execute_result",
          "data": {
            "text/plain": [
              "<tf.Tensor: shape=(), dtype=float32, numpy=27.37298>"
            ]
          },
          "metadata": {},
          "execution_count": 71
        }
      ]
    },
    {
      "cell_type": "code",
      "source": [
        "tf.math.reduce_variance(tf.cast(E, dtype=tf.float32))"
      ],
      "metadata": {
        "colab": {
          "base_uri": "https://localhost:8080/"
        },
        "id": "-XJ_02hmRZh-",
        "outputId": "eace00fd-581f-41a3-cbd2-388c33a10628"
      },
      "execution_count": null,
      "outputs": [
        {
          "output_type": "execute_result",
          "data": {
            "text/plain": [
              "<tf.Tensor: shape=(), dtype=float32, numpy=749.28>"
            ]
          },
          "metadata": {},
          "execution_count": 72
        }
      ]
    },
    {
      "cell_type": "code",
      "source": [
        "tf.argmax(E)"
      ],
      "metadata": {
        "colab": {
          "base_uri": "https://localhost:8080/"
        },
        "id": "9-KpWsHeSnl2",
        "outputId": "a8351bd7-4f15-4ca2-afcd-73482f7904f4"
      },
      "execution_count": null,
      "outputs": [
        {
          "output_type": "execute_result",
          "data": {
            "text/plain": [
              "<tf.Tensor: shape=(), dtype=int64, numpy=7>"
            ]
          },
          "metadata": {},
          "execution_count": 73
        }
      ]
    },
    {
      "cell_type": "code",
      "source": [
        "tf.argmin(E)"
      ],
      "metadata": {
        "colab": {
          "base_uri": "https://localhost:8080/"
        },
        "id": "4S1i4apCUpza",
        "outputId": "1bd6aadc-50f9-4d6f-8e07-f7f6459c416e"
      },
      "execution_count": null,
      "outputs": [
        {
          "output_type": "execute_result",
          "data": {
            "text/plain": [
              "<tf.Tensor: shape=(), dtype=int64, numpy=31>"
            ]
          },
          "metadata": {},
          "execution_count": 74
        }
      ]
    },
    {
      "cell_type": "code",
      "source": [
        "tf.random.set_seed(42)\n",
        "F = tf.random.uniform(shape=[50])\n",
        "F"
      ],
      "metadata": {
        "colab": {
          "base_uri": "https://localhost:8080/"
        },
        "id": "fiBG7JrIUyc2",
        "outputId": "09de4490-e86e-4045-cc3f-38d5a58e4533"
      },
      "execution_count": null,
      "outputs": [
        {
          "output_type": "execute_result",
          "data": {
            "text/plain": [
              "<tf.Tensor: shape=(50,), dtype=float32, numpy=\n",
              "array([0.6645621 , 0.44100678, 0.3528825 , 0.46448255, 0.03366041,\n",
              "       0.68467236, 0.74011743, 0.8724445 , 0.22632635, 0.22319686,\n",
              "       0.3103881 , 0.7223358 , 0.13318717, 0.5480639 , 0.5746088 ,\n",
              "       0.8996835 , 0.00946367, 0.5212307 , 0.6345445 , 0.1993283 ,\n",
              "       0.72942245, 0.54583454, 0.10756552, 0.6767061 , 0.6602763 ,\n",
              "       0.33695042, 0.60141766, 0.21062577, 0.8527372 , 0.44062173,\n",
              "       0.9485276 , 0.23752594, 0.81179297, 0.5263394 , 0.494308  ,\n",
              "       0.21612847, 0.8457197 , 0.8718841 , 0.3083862 , 0.6868038 ,\n",
              "       0.23764038, 0.7817228 , 0.9671384 , 0.06870162, 0.79873943,\n",
              "       0.66028714, 0.5871513 , 0.16461694, 0.7381023 , 0.32054043],\n",
              "      dtype=float32)>"
            ]
          },
          "metadata": {},
          "execution_count": 75
        }
      ]
    },
    {
      "cell_type": "code",
      "source": [
        "tf.argmax(F)"
      ],
      "metadata": {
        "colab": {
          "base_uri": "https://localhost:8080/"
        },
        "id": "Pv8THe7GXFLC",
        "outputId": "734bb602-32dd-4830-9d05-b579669b040b"
      },
      "execution_count": null,
      "outputs": [
        {
          "output_type": "execute_result",
          "data": {
            "text/plain": [
              "<tf.Tensor: shape=(), dtype=int64, numpy=42>"
            ]
          },
          "metadata": {},
          "execution_count": 76
        }
      ]
    },
    {
      "cell_type": "code",
      "source": [
        "F[tf.argmax(F)]"
      ],
      "metadata": {
        "colab": {
          "base_uri": "https://localhost:8080/"
        },
        "id": "765JUSpxXOhK",
        "outputId": "0371047f-505d-49fb-b9e4-7661e967a15e"
      },
      "execution_count": null,
      "outputs": [
        {
          "output_type": "execute_result",
          "data": {
            "text/plain": [
              "<tf.Tensor: shape=(), dtype=float32, numpy=0.9671384>"
            ]
          },
          "metadata": {},
          "execution_count": 77
        }
      ]
    },
    {
      "cell_type": "code",
      "source": [
        "tf.reduce_max(F)"
      ],
      "metadata": {
        "colab": {
          "base_uri": "https://localhost:8080/"
        },
        "id": "ifboxY4JXdGe",
        "outputId": "82fb5887-5e5e-49aa-c317-c80e8e7114a4"
      },
      "execution_count": null,
      "outputs": [
        {
          "output_type": "execute_result",
          "data": {
            "text/plain": [
              "<tf.Tensor: shape=(), dtype=float32, numpy=0.9671384>"
            ]
          },
          "metadata": {},
          "execution_count": 78
        }
      ]
    },
    {
      "cell_type": "code",
      "source": [
        "tf.argmin(F)"
      ],
      "metadata": {
        "colab": {
          "base_uri": "https://localhost:8080/"
        },
        "id": "SIwPkyKwXhxN",
        "outputId": "393bac92-947a-4574-943a-efd89828e71d"
      },
      "execution_count": null,
      "outputs": [
        {
          "output_type": "execute_result",
          "data": {
            "text/plain": [
              "<tf.Tensor: shape=(), dtype=int64, numpy=16>"
            ]
          },
          "metadata": {},
          "execution_count": 79
        }
      ]
    },
    {
      "cell_type": "code",
      "source": [
        "F[tf.argmin(F)]"
      ],
      "metadata": {
        "colab": {
          "base_uri": "https://localhost:8080/"
        },
        "id": "GeVDdUJOX5p7",
        "outputId": "4216f7b5-2c52-4123-e4d9-4c300b0abf09"
      },
      "execution_count": null,
      "outputs": [
        {
          "output_type": "execute_result",
          "data": {
            "text/plain": [
              "<tf.Tensor: shape=(), dtype=float32, numpy=0.009463668>"
            ]
          },
          "metadata": {},
          "execution_count": 80
        }
      ]
    },
    {
      "cell_type": "code",
      "source": [
        "tf.reduce_min(F)"
      ],
      "metadata": {
        "colab": {
          "base_uri": "https://localhost:8080/"
        },
        "id": "S-Q2E6CPX7Y6",
        "outputId": "2e548bc5-a420-4a7b-d4f1-23596930923e"
      },
      "execution_count": null,
      "outputs": [
        {
          "output_type": "execute_result",
          "data": {
            "text/plain": [
              "<tf.Tensor: shape=(), dtype=float32, numpy=0.009463668>"
            ]
          },
          "metadata": {},
          "execution_count": 81
        }
      ]
    },
    {
      "cell_type": "markdown",
      "source": [
        "## Squeezing a tensor (removing all single dimensions)"
      ],
      "metadata": {
        "id": "bku5Um3UX8sG"
      }
    },
    {
      "cell_type": "code",
      "source": [
        "tf.random.set_seed(42)\n",
        "G = tf.constant(tf.random.uniform(shape=[50]), shape=[1, 1, 1, 1, 50])\n",
        "G"
      ],
      "metadata": {
        "colab": {
          "base_uri": "https://localhost:8080/"
        },
        "id": "-ACNjB2KYaeV",
        "outputId": "39bd8aad-cba6-4824-f9d5-3ba1e0c2ae44"
      },
      "execution_count": null,
      "outputs": [
        {
          "output_type": "execute_result",
          "data": {
            "text/plain": [
              "<tf.Tensor: shape=(1, 1, 1, 1, 50), dtype=float32, numpy=\n",
              "array([[[[[0.6645621 , 0.44100678, 0.3528825 , 0.46448255, 0.03366041,\n",
              "           0.68467236, 0.74011743, 0.8724445 , 0.22632635, 0.22319686,\n",
              "           0.3103881 , 0.7223358 , 0.13318717, 0.5480639 , 0.5746088 ,\n",
              "           0.8996835 , 0.00946367, 0.5212307 , 0.6345445 , 0.1993283 ,\n",
              "           0.72942245, 0.54583454, 0.10756552, 0.6767061 , 0.6602763 ,\n",
              "           0.33695042, 0.60141766, 0.21062577, 0.8527372 , 0.44062173,\n",
              "           0.9485276 , 0.23752594, 0.81179297, 0.5263394 , 0.494308  ,\n",
              "           0.21612847, 0.8457197 , 0.8718841 , 0.3083862 , 0.6868038 ,\n",
              "           0.23764038, 0.7817228 , 0.9671384 , 0.06870162, 0.79873943,\n",
              "           0.66028714, 0.5871513 , 0.16461694, 0.7381023 , 0.32054043]]]]],\n",
              "      dtype=float32)>"
            ]
          },
          "metadata": {},
          "execution_count": 82
        }
      ]
    },
    {
      "cell_type": "code",
      "source": [
        "G.shape"
      ],
      "metadata": {
        "colab": {
          "base_uri": "https://localhost:8080/"
        },
        "id": "4SMf2WkTYrES",
        "outputId": "da649095-9620-47c3-ef17-afd9a5e1ea83"
      },
      "execution_count": null,
      "outputs": [
        {
          "output_type": "execute_result",
          "data": {
            "text/plain": [
              "TensorShape([1, 1, 1, 1, 50])"
            ]
          },
          "metadata": {},
          "execution_count": 83
        }
      ]
    },
    {
      "cell_type": "code",
      "source": [
        "G_squeezed = tf.squeeze(G)\n",
        "G_squeezed.shape"
      ],
      "metadata": {
        "colab": {
          "base_uri": "https://localhost:8080/"
        },
        "id": "ANf3RcjqYuXY",
        "outputId": "004acd25-2adc-4c9d-9269-f50ed2d229a1"
      },
      "execution_count": null,
      "outputs": [
        {
          "output_type": "execute_result",
          "data": {
            "text/plain": [
              "TensorShape([50])"
            ]
          },
          "metadata": {},
          "execution_count": 84
        }
      ]
    },
    {
      "cell_type": "markdown",
      "source": [
        "## Exercises"
      ],
      "metadata": {
        "id": "0mtACV7dZyER"
      }
    },
    {
      "cell_type": "code",
      "source": [
        "# 1. Create a vector, scalar, matrix and tensor with values of your choosing using tf.constant().\n",
        "\n",
        "vector = tf.constant([1, 5])\n",
        "scalar = tf.constant(18)\n",
        "matrix = tf.constant([[10, 8],\n",
        "                      [9, 9],\n",
        "                      [2, 16]])\n",
        "tensor = tf.constant([[[1, 2],\n",
        "                       [3, 4]],\n",
        "                      [[5, 6],\n",
        "                      [7, 8]],\n",
        "                      [[9, 10],\n",
        "                       [11, 12]]])\n",
        "print(\"Vector: \", vector)\n",
        "print(\"Scalar: \", scalar)\n",
        "print(\"Matrix: \", matrix)\n",
        "print(\"Tensor: \", tensor)"
      ],
      "metadata": {
        "colab": {
          "base_uri": "https://localhost:8080/"
        },
        "id": "O0BufeR3OfcJ",
        "outputId": "9bc20c93-f622-4be7-ed76-3b459e20fa55"
      },
      "execution_count": null,
      "outputs": [
        {
          "output_type": "stream",
          "name": "stdout",
          "text": [
            "Vector:  tf.Tensor([1 5], shape=(2,), dtype=int32)\n",
            "Scalar:  tf.Tensor(18, shape=(), dtype=int32)\n",
            "Matrix:  tf.Tensor(\n",
            "[[10  8]\n",
            " [ 9  9]\n",
            " [ 2 16]], shape=(3, 2), dtype=int32)\n",
            "Tensor:  tf.Tensor(\n",
            "[[[ 1  2]\n",
            "  [ 3  4]]\n",
            "\n",
            " [[ 5  6]\n",
            "  [ 7  8]]\n",
            "\n",
            " [[ 9 10]\n",
            "  [11 12]]], shape=(3, 2, 2), dtype=int32)\n"
          ]
        }
      ]
    },
    {
      "cell_type": "code",
      "source": [
        "tensor.shape, tensor.ndim, tf.size(tensor).numpy()"
      ],
      "metadata": {
        "colab": {
          "base_uri": "https://localhost:8080/"
        },
        "id": "uxcIecl3PZpz",
        "outputId": "de3e7882-d66b-48b3-e62d-d781b7c57019"
      },
      "execution_count": null,
      "outputs": [
        {
          "output_type": "execute_result",
          "data": {
            "text/plain": [
              "(TensorShape([3, 2, 2]), 3, 12)"
            ]
          },
          "metadata": {},
          "execution_count": 5
        }
      ]
    },
    {
      "cell_type": "code",
      "source": [
        "tensor_1 = tf.constant(tf.random.uniform(shape=[5, 300]))\n",
        "tensor_2 = tf.constant(tf.random.uniform(shape=[5, 300]))\n",
        "tensor_1, tensor_2"
      ],
      "metadata": {
        "colab": {
          "base_uri": "https://localhost:8080/"
        },
        "id": "g5-jM5InP11y",
        "outputId": "6d1c184c-0f54-4faf-8678-9415b855a804"
      },
      "execution_count": null,
      "outputs": [
        {
          "output_type": "execute_result",
          "data": {
            "text/plain": [
              "(<tf.Tensor: shape=(5, 300), dtype=float32, numpy=\n",
              " array([[0.84848344, 0.6335293 , 0.71483827, ..., 0.5210159 , 0.6620507 ,\n",
              "         0.7164959 ],\n",
              "        [0.46931076, 0.88998175, 0.99655545, ..., 0.71958125, 0.25405073,\n",
              "         0.32736707],\n",
              "        [0.17905343, 0.01055408, 0.36842656, ..., 0.88817155, 0.35124195,\n",
              "         0.05358148],\n",
              "        [0.48750746, 0.3640989 , 0.87152207, ..., 0.55370355, 0.26883352,\n",
              "         0.98255324],\n",
              "        [0.40583944, 0.85986674, 0.15569866, ..., 0.83371186, 0.43026888,\n",
              "         0.6543292 ]], dtype=float32)>,\n",
              " <tf.Tensor: shape=(5, 300), dtype=float32, numpy=\n",
              " array([[0.34640205, 0.7737855 , 0.10414386, ..., 0.7190157 , 0.38322234,\n",
              "         0.36399138],\n",
              "        [0.3719101 , 0.29858088, 0.3467387 , ..., 0.32596362, 0.9827858 ,\n",
              "         0.02345216],\n",
              "        [0.46845984, 0.5418314 , 0.6870177 , ..., 0.81563663, 0.8927487 ,\n",
              "         0.11154389],\n",
              "        [0.66827404, 0.07904243, 0.1129477 , ..., 0.05235088, 0.25467575,\n",
              "         0.508906  ],\n",
              "        [0.09607542, 0.9095496 , 0.6311574 , ..., 0.5867467 , 0.51203954,\n",
              "         0.82304215]], dtype=float32)>)"
            ]
          },
          "metadata": {},
          "execution_count": 6
        }
      ]
    },
    {
      "cell_type": "code",
      "source": [
        "tf.matmul(tensor_1, tf.reshape(tensor_2, shape=(300, 5)))"
      ],
      "metadata": {
        "colab": {
          "base_uri": "https://localhost:8080/"
        },
        "id": "DLQfPrrFQDsL",
        "outputId": "97c6ace7-baf1-41b9-c584-3c49cd8c1487"
      },
      "execution_count": null,
      "outputs": [
        {
          "output_type": "execute_result",
          "data": {
            "text/plain": [
              "<tf.Tensor: shape=(5, 5), dtype=float32, numpy=\n",
              "array([[75.0412  , 76.95565 , 77.688995, 82.79054 , 82.58045 ],\n",
              "       [76.27828 , 78.72277 , 73.26598 , 80.29095 , 79.65198 ],\n",
              "       [77.06555 , 78.34927 , 76.75403 , 82.45426 , 81.725845],\n",
              "       [80.42058 , 79.80696 , 78.401855, 82.89572 , 78.789055],\n",
              "       [77.82882 , 76.78781 , 73.81938 , 80.86696 , 77.15143 ]],\n",
              "      dtype=float32)>"
            ]
          },
          "metadata": {},
          "execution_count": 8
        }
      ]
    },
    {
      "cell_type": "code",
      "source": [
        "tf.multiply(tensor_1, tensor_2)"
      ],
      "metadata": {
        "colab": {
          "base_uri": "https://localhost:8080/"
        },
        "id": "rXTz5-mbQJe6",
        "outputId": "a958102a-8700-434b-a8a5-06e36253d8b0"
      },
      "execution_count": null,
      "outputs": [
        {
          "output_type": "execute_result",
          "data": {
            "text/plain": [
              "<tf.Tensor: shape=(5, 300), dtype=float32, numpy=\n",
              "array([[0.2939164 , 0.49021578, 0.07444602, ..., 0.37461862, 0.25371262,\n",
              "        0.26079834],\n",
              "       [0.17454141, 0.26573154, 0.34554434, ..., 0.2345573 , 0.24967745,\n",
              "        0.00767747],\n",
              "       [0.08387934, 0.00571853, 0.25311556, ..., 0.72442526, 0.3135708 ,\n",
              "        0.00597669],\n",
              "       [0.3257886 , 0.02877926, 0.09843642, ..., 0.02898687, 0.06846537,\n",
              "        0.50002724],\n",
              "       [0.03899119, 0.78209144, 0.09827036, ..., 0.48917767, 0.22031468,\n",
              "        0.5385405 ]], dtype=float32)>"
            ]
          },
          "metadata": {},
          "execution_count": 18
        }
      ]
    },
    {
      "cell_type": "code",
      "source": [
        "tensor_3 = tf.constant(tf.random.uniform(shape=[224, 224, 3]))\n",
        "tensor_3"
      ],
      "metadata": {
        "colab": {
          "base_uri": "https://localhost:8080/"
        },
        "id": "VCsvH67nQwTJ",
        "outputId": "0dd90ad9-1fd3-4d25-949c-169e9d305fc7"
      },
      "execution_count": null,
      "outputs": [
        {
          "output_type": "execute_result",
          "data": {
            "text/plain": [
              "<tf.Tensor: shape=(224, 224, 3), dtype=float32, numpy=\n",
              "array([[[0.26363337, 0.57727563, 0.72897387],\n",
              "        [0.14994097, 0.6941651 , 0.6123247 ],\n",
              "        [0.68104327, 0.575696  , 0.9579706 ],\n",
              "        ...,\n",
              "        [0.0103147 , 0.8148682 , 0.98014927],\n",
              "        [0.20876467, 0.39117444, 0.70476186],\n",
              "        [0.6356151 , 0.87263644, 0.60124314]],\n",
              "\n",
              "       [[0.6769953 , 0.37963772, 0.5406096 ],\n",
              "        [0.08968794, 0.16773939, 0.6639664 ],\n",
              "        [0.44339693, 0.24464595, 0.11879373],\n",
              "        ...,\n",
              "        [0.02649748, 0.6395147 , 0.8629186 ],\n",
              "        [0.44135797, 0.09503901, 0.66869795],\n",
              "        [0.04473794, 0.7845745 , 0.58462036]],\n",
              "\n",
              "       [[0.73907185, 0.49122536, 0.07879961],\n",
              "        [0.1969099 , 0.03860652, 0.9528905 ],\n",
              "        [0.01551056, 0.86056054, 0.13418686],\n",
              "        ...,\n",
              "        [0.63694465, 0.73656905, 0.07782304],\n",
              "        [0.01225758, 0.3423425 , 0.22882223],\n",
              "        [0.5925195 , 0.9396126 , 0.6641723 ]],\n",
              "\n",
              "       ...,\n",
              "\n",
              "       [[0.79004323, 0.04542744, 0.11651707],\n",
              "        [0.5375787 , 0.5543351 , 0.5640652 ],\n",
              "        [0.13799775, 0.02904403, 0.03730774],\n",
              "        ...,\n",
              "        [0.9415649 , 0.551155  , 0.5540043 ],\n",
              "        [0.23057556, 0.60775995, 0.414863  ],\n",
              "        [0.53681004, 0.37380064, 0.9644997 ]],\n",
              "\n",
              "       [[0.51574683, 0.7201514 , 0.05608463],\n",
              "        [0.4301362 , 0.4191532 , 0.28332257],\n",
              "        [0.59737635, 0.8969946 , 0.78789914],\n",
              "        ...,\n",
              "        [0.22929728, 0.77661586, 0.419909  ],\n",
              "        [0.80873144, 0.11233902, 0.41341293],\n",
              "        [0.38837266, 0.14752364, 0.88040113]],\n",
              "\n",
              "       [[0.14117825, 0.94441366, 0.5131136 ],\n",
              "        [0.4609604 , 0.7744696 , 0.23432875],\n",
              "        [0.46455002, 0.848317  , 0.829569  ],\n",
              "        ...,\n",
              "        [0.28975284, 0.4960848 , 0.6497276 ],\n",
              "        [0.42199743, 0.24244297, 0.66366184],\n",
              "        [0.6770834 , 0.69707716, 0.7199309 ]]], dtype=float32)>"
            ]
          },
          "metadata": {},
          "execution_count": 19
        }
      ]
    },
    {
      "cell_type": "code",
      "source": [
        "tf.reduce_max(tensor_3, axis=0)"
      ],
      "metadata": {
        "colab": {
          "base_uri": "https://localhost:8080/"
        },
        "id": "Lu8w2NncVULE",
        "outputId": "2c5ca48f-9dfa-42d5-cdcd-520e01baf742"
      },
      "execution_count": null,
      "outputs": [
        {
          "output_type": "execute_result",
          "data": {
            "text/plain": [
              "<tf.Tensor: shape=(224, 3), dtype=float32, numpy=\n",
              "array([[0.9997517 , 0.9993019 , 0.9983636 ],\n",
              "       [0.99836016, 0.9918145 , 0.9882662 ],\n",
              "       [0.987296  , 0.99771404, 0.99599445],\n",
              "       [0.99992764, 0.99908423, 0.99193573],\n",
              "       [0.9941894 , 0.9982852 , 0.99979496],\n",
              "       [0.99945736, 0.988158  , 0.99780047],\n",
              "       [0.997149  , 0.99017584, 0.99087536],\n",
              "       [0.9979726 , 0.9920391 , 0.99310255],\n",
              "       [0.99880016, 0.99827754, 0.9991994 ],\n",
              "       [0.9935055 , 0.9978858 , 0.99764085],\n",
              "       [0.9996346 , 0.9978875 , 0.9986973 ],\n",
              "       [0.992506  , 0.999161  , 0.9968817 ],\n",
              "       [0.997     , 0.9994688 , 0.9934436 ],\n",
              "       [0.9995849 , 0.99989057, 0.9997457 ],\n",
              "       [0.99838567, 0.99843657, 0.9930192 ],\n",
              "       [0.9944906 , 0.9972098 , 0.9991101 ],\n",
              "       [0.990996  , 0.98954177, 0.99827635],\n",
              "       [0.9963982 , 0.99852943, 0.99961984],\n",
              "       [0.99459875, 0.9986067 , 0.9962691 ],\n",
              "       [0.9993005 , 0.99360204, 0.990553  ],\n",
              "       [0.98553205, 0.9974505 , 0.9955386 ],\n",
              "       [0.997579  , 0.9991801 , 0.9996642 ],\n",
              "       [0.9944216 , 0.9937798 , 0.9964273 ],\n",
              "       [0.9986329 , 0.99832463, 0.9914608 ],\n",
              "       [0.9906517 , 0.99797237, 0.9896612 ],\n",
              "       [0.9875078 , 0.99613523, 0.98331964],\n",
              "       [0.99952185, 0.99140227, 0.9925425 ],\n",
              "       [0.9946338 , 0.99782765, 0.9945965 ],\n",
              "       [0.98512685, 0.9977071 , 0.9994118 ],\n",
              "       [0.9949064 , 0.9992068 , 0.99396133],\n",
              "       [0.9974475 , 0.99777305, 0.9956318 ],\n",
              "       [0.99937785, 0.9998771 , 0.98970914],\n",
              "       [0.9845146 , 0.9990684 , 0.9953183 ],\n",
              "       [0.9972687 , 0.9886204 , 0.99552476],\n",
              "       [0.9986508 , 0.9972259 , 0.9982636 ],\n",
              "       [0.9953455 , 0.99883115, 0.99527466],\n",
              "       [0.99764144, 0.99424446, 0.9947078 ],\n",
              "       [0.99797153, 0.99382806, 0.99825466],\n",
              "       [0.9953542 , 0.99840856, 0.9986396 ],\n",
              "       [0.9979658 , 0.98924303, 0.99595857],\n",
              "       [0.9990505 , 0.9922526 , 0.9874284 ],\n",
              "       [0.9957514 , 0.9977267 , 0.9914849 ],\n",
              "       [0.9978657 , 0.9970745 , 0.99154735],\n",
              "       [0.99962044, 0.99878466, 0.9999975 ],\n",
              "       [0.9983871 , 0.9974748 , 0.99611175],\n",
              "       [0.9966395 , 0.9973433 , 0.99467087],\n",
              "       [0.9974477 , 0.98563766, 0.99871397],\n",
              "       [0.9924897 , 0.9990741 , 0.99951506],\n",
              "       [0.998551  , 0.99235857, 0.99898386],\n",
              "       [0.9937781 , 0.99904954, 0.9989115 ],\n",
              "       [0.99966395, 0.99679005, 0.99888694],\n",
              "       [0.9966905 , 0.9956809 , 0.9885745 ],\n",
              "       [0.9986036 , 0.9943129 , 0.9900117 ],\n",
              "       [0.99844563, 0.99674416, 0.9969286 ],\n",
              "       [0.98315406, 0.9996239 , 0.99913037],\n",
              "       [0.99562883, 0.9993962 , 0.99846494],\n",
              "       [0.9993764 , 0.99419284, 0.9998505 ],\n",
              "       [0.9949069 , 0.99913216, 0.99997306],\n",
              "       [0.9954667 , 0.99878335, 0.9991286 ],\n",
              "       [0.994787  , 0.9993894 , 0.99776137],\n",
              "       [0.991048  , 0.9958384 , 0.9907087 ],\n",
              "       [0.9994582 , 0.99538493, 0.9993799 ],\n",
              "       [0.99657273, 0.9922321 , 0.9924667 ],\n",
              "       [0.9935782 , 0.9985585 , 0.99777114],\n",
              "       [0.99905896, 0.9994137 , 0.9969107 ],\n",
              "       [0.9869456 , 0.99608886, 0.99995947],\n",
              "       [0.99549425, 0.9939252 , 0.9998846 ],\n",
              "       [0.9968654 , 0.99784124, 0.99769723],\n",
              "       [0.9939978 , 0.9980161 , 0.9933953 ],\n",
              "       [0.9964082 , 0.9909611 , 0.9983535 ],\n",
              "       [0.9988798 , 0.99927974, 0.99382126],\n",
              "       [0.99831915, 0.9980118 , 0.995893  ],\n",
              "       [0.99876523, 0.9916482 , 0.99686444],\n",
              "       [0.9934108 , 0.9971684 , 0.99827695],\n",
              "       [0.99203134, 0.99661195, 0.9964367 ],\n",
              "       [0.9990301 , 0.99718094, 0.9966856 ],\n",
              "       [0.999393  , 0.99952054, 0.9989362 ],\n",
              "       [0.9999453 , 0.9988247 , 0.9988308 ],\n",
              "       [0.992857  , 0.999524  , 0.99790025],\n",
              "       [0.99956906, 0.99414563, 0.9999378 ],\n",
              "       [0.9884732 , 0.9981376 , 0.9987165 ],\n",
              "       [0.9981668 , 0.99999034, 0.99623084],\n",
              "       [0.9998547 , 0.99933827, 0.9960036 ],\n",
              "       [0.9967238 , 0.9999541 , 0.99766505],\n",
              "       [0.9938643 , 0.9967599 , 0.98999035],\n",
              "       [0.9932538 , 0.9984987 , 0.99585474],\n",
              "       [0.99831223, 0.99950206, 0.9978769 ],\n",
              "       [0.99678147, 0.9988358 , 0.99341893],\n",
              "       [0.993929  , 0.99133587, 0.9915346 ],\n",
              "       [0.99660254, 0.9996178 , 0.99261045],\n",
              "       [0.99121165, 0.98990214, 0.99955714],\n",
              "       [0.9985982 , 0.99417317, 0.9995161 ],\n",
              "       [0.99731433, 0.99668026, 0.99272084],\n",
              "       [0.9933604 , 0.9966265 , 0.99712443],\n",
              "       [0.9955113 , 0.99420583, 0.99652016],\n",
              "       [0.9992646 , 0.9992361 , 0.9998535 ],\n",
              "       [0.99961865, 0.9979466 , 0.99758196],\n",
              "       [0.99832356, 0.9944867 , 0.9975494 ],\n",
              "       [0.9944111 , 0.99656427, 0.9880372 ],\n",
              "       [0.98345757, 0.99003994, 0.9849837 ],\n",
              "       [0.99781513, 0.9987371 , 0.99183345],\n",
              "       [0.99453497, 0.9981762 , 0.9906882 ],\n",
              "       [0.99499047, 0.99999917, 0.99983716],\n",
              "       [0.9993341 , 0.9992043 , 0.99404   ],\n",
              "       [0.99463177, 0.99949896, 0.98406565],\n",
              "       [0.99934864, 0.99869883, 0.996716  ],\n",
              "       [0.9984621 , 0.9899287 , 0.9953611 ],\n",
              "       [0.9932934 , 0.9957031 , 0.9980098 ],\n",
              "       [0.99524   , 0.9937116 , 0.9820695 ],\n",
              "       [0.99933267, 0.9925389 , 0.9995954 ],\n",
              "       [0.9988668 , 0.99979746, 0.9985877 ],\n",
              "       [0.99841774, 0.995553  , 0.99853253],\n",
              "       [0.99590635, 0.99810636, 0.9965458 ],\n",
              "       [0.9970306 , 0.9980166 , 0.9966984 ],\n",
              "       [0.9980043 , 0.9916462 , 0.9989947 ],\n",
              "       [0.99900365, 0.9987477 , 0.99870396],\n",
              "       [0.9931365 , 0.9994066 , 0.9951047 ],\n",
              "       [0.99913037, 0.9970988 , 0.99232924],\n",
              "       [0.99272084, 0.9961673 , 0.9997623 ],\n",
              "       [0.98952806, 0.9816848 , 0.99278545],\n",
              "       [0.99740565, 0.9924004 , 0.9960612 ],\n",
              "       [0.997365  , 0.9964129 , 0.9924313 ],\n",
              "       [0.99810004, 0.9866415 , 0.998675  ],\n",
              "       [0.9933915 , 0.98505676, 0.9954076 ],\n",
              "       [0.996143  , 0.98828876, 0.99240935],\n",
              "       [0.99641645, 0.9932462 , 0.99842775],\n",
              "       [0.9973031 , 0.9815053 , 0.97831106],\n",
              "       [0.9982083 , 0.9880458 , 0.9996494 ],\n",
              "       [0.9995153 , 0.99421334, 0.99938226],\n",
              "       [0.9952116 , 0.9994379 , 0.996073  ],\n",
              "       [0.9991343 , 0.9991733 , 0.99998987],\n",
              "       [0.99843395, 0.99794626, 0.99654865],\n",
              "       [0.9931065 , 0.98857105, 0.9823792 ],\n",
              "       [0.99734104, 0.9999418 , 0.9997057 ],\n",
              "       [0.99949527, 0.995358  , 0.99982524],\n",
              "       [0.999161  , 0.99953663, 0.9908309 ],\n",
              "       [0.9947785 , 0.99316514, 0.9971895 ],\n",
              "       [0.9889611 , 0.9848263 , 0.99721396],\n",
              "       [0.99695075, 0.9955894 , 0.99541616],\n",
              "       [0.99949324, 0.9967058 , 0.9973849 ],\n",
              "       [0.9972631 , 0.9898344 , 0.99908173],\n",
              "       [0.99511373, 0.998525  , 0.99922514],\n",
              "       [0.99987996, 0.9998641 , 0.99256945],\n",
              "       [0.99945605, 0.997439  , 0.99988866],\n",
              "       [0.9984133 , 0.98699164, 0.9992517 ],\n",
              "       [0.99857926, 0.99833584, 0.99942887],\n",
              "       [0.97339034, 0.9983249 , 0.9965416 ],\n",
              "       [0.9880012 , 0.9971719 , 0.996207  ],\n",
              "       [0.9961561 , 0.9936837 , 0.9985249 ],\n",
              "       [0.9988426 , 0.99772775, 0.9976727 ],\n",
              "       [0.99248433, 0.9974116 , 0.9968525 ],\n",
              "       [0.998436  , 0.99025667, 0.99355674],\n",
              "       [0.9908047 , 0.99793756, 0.9967302 ],\n",
              "       [0.99413645, 0.9964255 , 0.9989866 ],\n",
              "       [0.9977627 , 0.99861   , 0.9988557 ],\n",
              "       [0.9954983 , 0.99824023, 0.9865937 ],\n",
              "       [0.99244213, 0.991945  , 0.9984722 ],\n",
              "       [0.99488723, 0.9964144 , 0.99512506],\n",
              "       [0.9982151 , 0.9958805 , 0.9970499 ],\n",
              "       [0.998242  , 0.9885526 , 0.99679804],\n",
              "       [0.99257445, 0.9905393 , 0.99910355],\n",
              "       [0.998533  , 0.9977367 , 0.9972503 ],\n",
              "       [0.9868071 , 0.9981086 , 0.99988115],\n",
              "       [0.99924815, 0.9908768 , 0.9844856 ],\n",
              "       [0.9986975 , 0.9990425 , 0.99923086],\n",
              "       [0.98978233, 0.9988289 , 0.9961685 ],\n",
              "       [0.9982729 , 0.9994397 , 0.98245966],\n",
              "       [0.9942343 , 0.9858222 , 0.98836315],\n",
              "       [0.99981916, 0.99913955, 0.99543333],\n",
              "       [0.9996834 , 0.9958097 , 0.9911679 ],\n",
              "       [0.99865484, 0.99816215, 0.9938742 ],\n",
              "       [0.9960395 , 0.9936534 , 0.99336076],\n",
              "       [0.99032533, 0.99384   , 0.9946294 ],\n",
              "       [0.9946034 , 0.9973959 , 0.9960712 ],\n",
              "       [0.9938791 , 0.9946945 , 0.9964913 ],\n",
              "       [0.99900925, 0.99968874, 0.9921062 ],\n",
              "       [0.9956796 , 0.9977381 , 0.9964143 ],\n",
              "       [0.995931  , 0.9985362 , 0.9982308 ],\n",
              "       [0.9943619 , 0.99991834, 0.990751  ],\n",
              "       [0.99478745, 0.9953046 , 0.99631846],\n",
              "       [0.9995489 , 0.99074507, 0.9993582 ],\n",
              "       [0.99785066, 0.9891033 , 0.9940382 ],\n",
              "       [0.9921713 , 0.9882461 , 0.99932516],\n",
              "       [0.99277437, 0.99978507, 0.98866403],\n",
              "       [0.9961884 , 0.99563634, 0.98868334],\n",
              "       [0.9982308 , 0.9978851 , 0.9967301 ],\n",
              "       [0.99967945, 0.9942651 , 0.994804  ],\n",
              "       [0.994771  , 0.9915248 , 0.9969579 ],\n",
              "       [0.9978601 , 0.997254  , 0.99451876],\n",
              "       [0.99498844, 0.9998789 , 0.9945419 ],\n",
              "       [0.9989654 , 0.9974934 , 0.9929155 ],\n",
              "       [0.9839252 , 0.99761856, 0.994362  ],\n",
              "       [0.9984586 , 0.9987699 , 0.9875833 ],\n",
              "       [0.988485  , 0.9929317 , 0.9997102 ],\n",
              "       [0.9933497 , 0.99873114, 0.97645473],\n",
              "       [0.98901355, 0.9982966 , 0.9987372 ],\n",
              "       [0.9999701 , 0.9909477 , 0.999797  ],\n",
              "       [0.99877834, 0.99686015, 0.9981502 ],\n",
              "       [0.9773822 , 0.98749423, 0.99630606],\n",
              "       [0.9970522 , 0.99729645, 0.9973707 ],\n",
              "       [0.98550296, 0.9996234 , 0.9991852 ],\n",
              "       [0.998757  , 0.99641144, 0.99713576],\n",
              "       [0.9946264 , 0.9932809 , 0.9998435 ],\n",
              "       [0.99784625, 0.9963399 , 0.99805987],\n",
              "       [0.9976114 , 0.9902679 , 0.99765265],\n",
              "       [0.98990464, 0.99917555, 0.9959811 ],\n",
              "       [0.9941132 , 0.98854613, 0.9997333 ],\n",
              "       [0.9914532 , 0.99903095, 0.9988266 ],\n",
              "       [0.99901915, 0.9979569 , 0.9942424 ],\n",
              "       [0.9965153 , 0.9999292 , 0.9945724 ],\n",
              "       [0.99872255, 0.9979211 , 0.9895439 ],\n",
              "       [0.99447465, 0.99962664, 0.9930695 ],\n",
              "       [0.9931754 , 0.9984145 , 0.99727154],\n",
              "       [0.99824214, 0.9982096 , 0.99778533],\n",
              "       [0.9984422 , 0.9906589 , 0.99236465],\n",
              "       [0.9919001 , 0.99788797, 0.9998753 ],\n",
              "       [0.99115896, 0.99874914, 0.99500287],\n",
              "       [0.99996734, 0.9937558 , 0.9960511 ],\n",
              "       [0.9937961 , 0.996498  , 0.9997767 ],\n",
              "       [0.9982203 , 0.99486136, 0.9987483 ],\n",
              "       [0.9787717 , 0.9990244 , 0.98666763],\n",
              "       [0.99159527, 0.99402237, 0.9938344 ],\n",
              "       [0.99478066, 0.9954982 , 0.99655354],\n",
              "       [0.99926484, 0.9943805 , 0.9909481 ]], dtype=float32)>"
            ]
          },
          "metadata": {},
          "execution_count": 22
        }
      ]
    },
    {
      "cell_type": "code",
      "source": [
        "tf.reduce_min(tensor_3, axis=0)"
      ],
      "metadata": {
        "colab": {
          "base_uri": "https://localhost:8080/"
        },
        "id": "Tfr5QO34VbXz",
        "outputId": "aca0b699-8f71-4eb4-e474-0d9df0797f7e"
      },
      "execution_count": null,
      "outputs": [
        {
          "output_type": "execute_result",
          "data": {
            "text/plain": [
              "<tf.Tensor: shape=(224, 3), dtype=float32, numpy=\n",
              "array([[4.32848930e-04, 1.07411146e-02, 9.41395760e-04],\n",
              "       [1.57022476e-03, 1.07789040e-03, 1.10890865e-02],\n",
              "       [3.93569469e-03, 2.99513340e-03, 2.76160240e-03],\n",
              "       [2.21216679e-03, 8.96906853e-03, 7.61783123e-03],\n",
              "       [6.42573833e-03, 9.77802277e-03, 9.32526588e-03],\n",
              "       [1.25271082e-02, 2.11424828e-02, 2.44212151e-03],\n",
              "       [1.15076303e-02, 6.28471375e-04, 9.67502594e-04],\n",
              "       [2.70259380e-03, 6.72292709e-03, 9.66501236e-03],\n",
              "       [1.28431320e-02, 2.76911259e-03, 7.10093975e-03],\n",
              "       [2.13479996e-03, 3.93545628e-03, 1.65629387e-03],\n",
              "       [1.37008429e-02, 3.14402580e-03, 4.96268272e-04],\n",
              "       [1.30629539e-03, 2.61116028e-03, 1.81615353e-03],\n",
              "       [1.74987316e-03, 1.56267881e-02, 4.63116169e-03],\n",
              "       [4.43816185e-04, 1.83373690e-02, 6.25109673e-03],\n",
              "       [1.62959099e-04, 1.29830837e-03, 1.79195404e-03],\n",
              "       [1.76846981e-03, 4.37211990e-03, 3.83853912e-05],\n",
              "       [1.50051117e-02, 2.11393833e-03, 5.61356544e-04],\n",
              "       [1.30748749e-03, 1.13964081e-03, 1.00418329e-02],\n",
              "       [5.68544865e-03, 3.69668007e-03, 5.99765778e-03],\n",
              "       [3.11803818e-03, 1.81376934e-03, 1.00525618e-02],\n",
              "       [1.59227848e-03, 1.92272663e-03, 5.10609150e-03],\n",
              "       [4.74572182e-03, 8.41367245e-03, 1.65593624e-03],\n",
              "       [9.38057899e-03, 1.85298920e-03, 4.83131409e-03],\n",
              "       [9.23037529e-04, 1.05428696e-03, 2.41839886e-03],\n",
              "       [9.41455364e-03, 2.25353241e-03, 8.28051567e-03],\n",
              "       [4.93514538e-03, 4.60410118e-03, 1.08718872e-04],\n",
              "       [2.24220753e-03, 4.45365906e-03, 4.35709953e-03],\n",
              "       [4.22298908e-03, 7.87270069e-03, 1.83248520e-03],\n",
              "       [2.77185440e-03, 2.82716751e-03, 1.94573402e-03],\n",
              "       [4.11510468e-04, 1.01934671e-02, 1.03127956e-03],\n",
              "       [2.08187103e-03, 6.62541389e-03, 7.98130035e-03],\n",
              "       [7.86781311e-06, 2.85708904e-03, 1.17388964e-02],\n",
              "       [6.81853294e-03, 2.99191475e-03, 2.69412994e-04],\n",
              "       [6.90817833e-04, 6.82115555e-03, 4.48346138e-04],\n",
              "       [7.58147240e-03, 6.36219978e-04, 6.61313534e-03],\n",
              "       [1.29945278e-02, 2.14314461e-03, 1.29795074e-03],\n",
              "       [4.03881073e-03, 2.23243237e-03, 6.58035278e-04],\n",
              "       [1.97172165e-04, 1.91295147e-03, 1.42192841e-03],\n",
              "       [3.97968292e-03, 1.63412094e-03, 4.69112396e-03],\n",
              "       [1.46043301e-03, 7.14337826e-03, 3.95894051e-03],\n",
              "       [8.59260559e-04, 6.08897209e-03, 7.89713860e-03],\n",
              "       [4.52005863e-03, 6.30855560e-04, 1.70707703e-04],\n",
              "       [9.92548466e-03, 3.91662121e-03, 2.82156467e-03],\n",
              "       [3.30305099e-03, 8.02874565e-04, 4.04715538e-04],\n",
              "       [3.38435173e-03, 5.60510159e-03, 1.81841850e-03],\n",
              "       [8.48269463e-03, 6.12974167e-04, 8.42809677e-04],\n",
              "       [2.54178047e-03, 3.38435173e-04, 4.00257111e-03],\n",
              "       [1.09708309e-03, 1.66535378e-04, 1.44159794e-03],\n",
              "       [3.00395489e-03, 1.13118887e-02, 3.20672989e-05],\n",
              "       [7.54559040e-03, 9.54389572e-03, 4.86850739e-04],\n",
              "       [2.83471346e-02, 3.23474407e-03, 4.24885750e-03],\n",
              "       [5.42867184e-03, 1.37717724e-02, 2.40731239e-02],\n",
              "       [1.30176544e-04, 5.72562218e-04, 4.01616096e-04],\n",
              "       [2.67434120e-03, 7.20000267e-03, 1.80470943e-03],\n",
              "       [7.03024864e-03, 8.77654552e-03, 7.56263733e-04],\n",
              "       [1.03569031e-03, 1.97887421e-04, 3.11589241e-03],\n",
              "       [3.86583805e-03, 8.56399536e-03, 1.42433643e-02],\n",
              "       [5.78403473e-04, 1.06000900e-03, 1.56092644e-03],\n",
              "       [6.11543655e-05, 1.49011612e-05, 5.26702404e-03],\n",
              "       [1.32083893e-03, 4.23288345e-03, 3.68511677e-03],\n",
              "       [3.17084789e-03, 3.43441963e-03, 1.36764050e-02],\n",
              "       [2.71308422e-03, 2.91740894e-03, 1.12771988e-03],\n",
              "       [9.84239578e-03, 6.83295727e-03, 4.05645370e-03],\n",
              "       [1.74164772e-04, 2.83265114e-03, 2.77292728e-03],\n",
              "       [6.66224957e-03, 9.66548920e-04, 2.39801407e-03],\n",
              "       [6.70218468e-03, 5.12969494e-03, 9.61458683e-03],\n",
              "       [3.93748283e-03, 1.42824650e-03, 4.72021103e-03],\n",
              "       [2.75850296e-04, 5.29170036e-03, 1.90734863e-04],\n",
              "       [8.40222836e-03, 3.57711315e-03, 4.75800037e-03],\n",
              "       [6.95705414e-03, 3.57639790e-03, 8.85367393e-04],\n",
              "       [2.98762321e-03, 2.18725204e-03, 1.50358677e-03],\n",
              "       [1.59374475e-02, 6.46114349e-05, 1.18315220e-03],\n",
              "       [8.25393200e-03, 1.50883198e-03, 6.55984879e-03],\n",
              "       [2.25973129e-03, 5.49721718e-03, 8.58747959e-03],\n",
              "       [6.97970390e-04, 2.01463699e-05, 2.49743462e-04],\n",
              "       [2.01642513e-02, 2.12395191e-03, 3.36468220e-03],\n",
              "       [3.53097916e-04, 7.90631771e-03, 2.21610069e-03],\n",
              "       [1.44517422e-03, 1.62553787e-03, 8.94188881e-04],\n",
              "       [2.88057327e-03, 1.76298618e-03, 7.73155689e-03],\n",
              "       [4.47773933e-03, 1.28889084e-03, 1.04231834e-02],\n",
              "       [8.36849213e-04, 5.20420074e-03, 8.75473022e-04],\n",
              "       [5.27501106e-04, 8.70227814e-06, 1.58870220e-03],\n",
              "       [2.01356411e-03, 5.72800636e-04, 7.64489174e-04],\n",
              "       [5.05924225e-04, 6.92331791e-03, 4.12392616e-03],\n",
              "       [3.23891640e-04, 3.30924988e-03, 4.07540798e-03],\n",
              "       [1.13266706e-02, 2.38156319e-03, 7.73549080e-04],\n",
              "       [1.10758543e-02, 4.79590893e-03, 2.43413448e-03],\n",
              "       [1.64258480e-03, 1.35868788e-02, 3.48460674e-03],\n",
              "       [6.24668598e-03, 2.83217430e-03, 3.37684155e-03],\n",
              "       [4.80616093e-03, 5.41019440e-03, 1.50978565e-03],\n",
              "       [5.74707985e-03, 3.56471539e-03, 3.36527824e-04],\n",
              "       [6.87777996e-03, 6.38186932e-03, 6.71744347e-04],\n",
              "       [6.80267811e-03, 4.95862961e-03, 4.07958031e-03],\n",
              "       [2.52389908e-03, 8.75961781e-03, 7.58683681e-03],\n",
              "       [1.62363052e-04, 1.09565258e-03, 1.89733505e-03],\n",
              "       [9.11438465e-03, 1.32679939e-03, 1.68228149e-03],\n",
              "       [6.46114349e-05, 2.34353542e-03, 1.37603283e-03],\n",
              "       [4.84597683e-03, 9.02032852e-03, 4.45425510e-03],\n",
              "       [1.94668770e-04, 6.78539276e-04, 6.44087791e-04],\n",
              "       [1.24490261e-03, 3.79359722e-03, 1.44910812e-03],\n",
              "       [7.65919685e-04, 4.76717949e-03, 1.29499435e-02],\n",
              "       [2.14934349e-03, 1.95753574e-03, 7.27188587e-03],\n",
              "       [3.26550007e-03, 9.50217247e-04, 1.13998652e-02],\n",
              "       [8.38863850e-03, 1.04582310e-03, 7.04419613e-03],\n",
              "       [2.39801407e-03, 4.36425209e-04, 6.68883324e-03],\n",
              "       [3.34715843e-03, 9.02414322e-05, 1.44064426e-03],\n",
              "       [1.44152641e-02, 1.35681629e-02, 4.17351723e-04],\n",
              "       [5.49137592e-03, 1.66606903e-03, 7.42411613e-03],\n",
              "       [1.30302906e-02, 7.18104839e-03, 2.62236595e-03],\n",
              "       [3.30686569e-03, 7.97760487e-03, 6.78265095e-03],\n",
              "       [6.10828400e-04, 3.43358517e-03, 2.33352184e-03],\n",
              "       [2.89165974e-03, 4.09126282e-04, 1.31952763e-03],\n",
              "       [7.68947601e-03, 3.70442867e-03, 9.46044922e-04],\n",
              "       [3.72123718e-03, 7.21931458e-03, 7.90405273e-03],\n",
              "       [1.75032616e-02, 4.12702560e-03, 1.38998032e-03],\n",
              "       [5.84971905e-03, 8.84175301e-04, 4.24253941e-03],\n",
              "       [9.21165943e-03, 8.04805756e-03, 1.24324560e-02],\n",
              "       [3.16023827e-04, 1.21378899e-03, 1.00731850e-04],\n",
              "       [6.98578358e-03, 9.93025303e-03, 2.58874893e-03],\n",
              "       [8.79466534e-03, 5.64205647e-03, 2.27785110e-03],\n",
              "       [1.17349625e-03, 9.23430920e-03, 1.63996220e-03],\n",
              "       [8.81314278e-04, 5.59806824e-03, 9.28997993e-04],\n",
              "       [3.79824638e-03, 5.78403473e-03, 9.32216644e-05],\n",
              "       [2.74896622e-03, 9.59086418e-03, 2.24471092e-03],\n",
              "       [2.52008438e-03, 4.52089310e-03, 1.22165680e-03],\n",
              "       [2.15625763e-03, 1.10135078e-02, 9.25147533e-03],\n",
              "       [9.08374786e-04, 6.20734692e-03, 6.19590282e-03],\n",
              "       [5.13124466e-03, 2.19225883e-03, 9.16600227e-04],\n",
              "       [7.04288483e-04, 2.72569656e-02, 5.84006310e-03],\n",
              "       [5.96427917e-03, 2.64644623e-03, 3.19480896e-04],\n",
              "       [2.96044350e-03, 1.88791752e-03, 3.03173065e-03],\n",
              "       [1.39153004e-03, 1.23782158e-02, 3.04639339e-03],\n",
              "       [6.23130798e-03, 1.51097775e-03, 1.49893761e-03],\n",
              "       [2.21562386e-03, 8.63647461e-03, 3.76701355e-05],\n",
              "       [5.67770004e-03, 5.25712967e-04, 3.72040272e-03],\n",
              "       [9.97781754e-04, 7.10821152e-03, 1.78301334e-03],\n",
              "       [1.70743465e-03, 5.33676147e-03, 3.10599804e-03],\n",
              "       [3.36277485e-03, 8.17167759e-03, 8.18049908e-03],\n",
              "       [1.60324574e-03, 3.18646431e-04, 6.83975220e-03],\n",
              "       [1.76634789e-02, 1.73807144e-04, 2.30765343e-03],\n",
              "       [1.10864639e-02, 3.28254700e-03, 3.99827957e-03],\n",
              "       [3.21149826e-04, 5.81037998e-03, 1.19614601e-02],\n",
              "       [4.26530838e-04, 7.07745552e-04, 8.12089443e-03],\n",
              "       [5.07473946e-04, 3.44145298e-03, 1.68740749e-03],\n",
              "       [1.26993656e-02, 1.12061501e-02, 7.27772713e-04],\n",
              "       [8.83221626e-03, 5.68032265e-04, 2.57968903e-04],\n",
              "       [4.20260429e-03, 7.15112686e-03, 2.76184082e-03],\n",
              "       [7.24196434e-04, 6.57486916e-03, 1.95860863e-04],\n",
              "       [1.04033947e-03, 1.56041384e-02, 1.92698240e-02],\n",
              "       [9.31799412e-03, 7.62104988e-03, 1.50513649e-03],\n",
              "       [7.42411613e-03, 4.04119492e-05, 2.33411789e-04],\n",
              "       [1.10793114e-03, 4.52351570e-03, 9.71925259e-03],\n",
              "       [3.68487835e-03, 1.21264458e-02, 4.64797020e-04],\n",
              "       [1.11699104e-04, 1.81567669e-03, 4.87232208e-03],\n",
              "       [1.36423111e-03, 1.33037567e-04, 1.08385086e-02],\n",
              "       [3.87239456e-03, 3.93390656e-06, 3.99231911e-04],\n",
              "       [3.93342972e-03, 1.10785961e-02, 3.19099426e-03],\n",
              "       [1.32025480e-02, 3.27479839e-03, 2.07781792e-03],\n",
              "       [1.69634819e-04, 6.95776939e-03, 2.07936764e-03],\n",
              "       [7.30550289e-03, 3.51154804e-03, 3.32546234e-03],\n",
              "       [3.52299213e-03, 3.91340256e-03, 9.41276550e-04],\n",
              "       [1.42621994e-03, 5.09607792e-03, 6.87909126e-03],\n",
              "       [7.50207901e-03, 1.57475471e-03, 3.32462788e-03],\n",
              "       [3.01396847e-03, 1.49846077e-04, 1.79684162e-03],\n",
              "       [6.95347786e-03, 2.58851051e-03, 3.52859497e-04],\n",
              "       [3.59404087e-03, 6.43622875e-03, 3.56221199e-03],\n",
              "       [1.50895119e-03, 1.47426128e-03, 7.41004944e-04],\n",
              "       [3.27897072e-03, 4.68015671e-04, 1.05013847e-02],\n",
              "       [3.65638733e-03, 7.14564323e-03, 2.93266773e-03],\n",
              "       [8.15033913e-03, 4.17006016e-03, 9.57024097e-03],\n",
              "       [9.83262062e-03, 3.58581543e-04, 1.63189173e-02],\n",
              "       [1.24549866e-03, 1.19049549e-02, 1.12117529e-02],\n",
              "       [3.21507454e-04, 2.63082981e-03, 4.44149971e-03],\n",
              "       [2.26044655e-03, 5.13708591e-03, 7.60936737e-03],\n",
              "       [5.08785248e-03, 5.09619713e-04, 1.12152100e-03],\n",
              "       [6.85787201e-03, 4.45914268e-03, 1.18410587e-03],\n",
              "       [1.62577629e-03, 1.77896023e-03, 5.88166714e-03],\n",
              "       [1.95682049e-03, 9.94193554e-03, 9.87052917e-05],\n",
              "       [5.42414188e-03, 2.89738178e-03, 1.80661678e-03],\n",
              "       [4.11152840e-04, 9.51290131e-04, 3.55029106e-03],\n",
              "       [8.41808319e-03, 9.79435444e-03, 6.46245480e-03],\n",
              "       [6.79254532e-04, 1.33574009e-03, 2.73656845e-03],\n",
              "       [2.31934786e-02, 8.01146030e-03, 3.21078300e-03],\n",
              "       [4.78470325e-03, 7.37380981e-03, 4.62758541e-03],\n",
              "       [1.02072954e-02, 5.31446934e-03, 3.14151049e-02],\n",
              "       [2.81977654e-03, 4.54187393e-05, 7.62712955e-03],\n",
              "       [1.54662132e-03, 3.33154202e-03, 3.19576263e-03],\n",
              "       [6.19697571e-03, 7.72333145e-03, 1.16169453e-03],\n",
              "       [8.48245621e-03, 1.54614449e-04, 2.68220901e-03],\n",
              "       [3.05199623e-03, 3.67927551e-03, 1.07288361e-06],\n",
              "       [8.46982002e-04, 6.96158409e-03, 2.43067741e-04],\n",
              "       [4.77540493e-03, 2.71260738e-03, 1.04784966e-04],\n",
              "       [3.00014019e-03, 5.81729412e-03, 5.64217567e-03],\n",
              "       [5.89966774e-04, 3.81982327e-03, 3.44026089e-03],\n",
              "       [3.76331806e-03, 5.96165657e-04, 2.04122066e-03],\n",
              "       [8.40270519e-03, 2.26593018e-03, 1.06637478e-02],\n",
              "       [9.79423523e-04, 1.75400972e-02, 4.79269028e-03],\n",
              "       [2.95233727e-03, 2.60329247e-03, 2.76327133e-03],\n",
              "       [4.13882732e-03, 1.97172165e-04, 5.95295429e-03],\n",
              "       [6.73294067e-04, 5.51176071e-03, 7.22408295e-05],\n",
              "       [2.97033787e-03, 3.68118286e-03, 5.07020950e-03],\n",
              "       [2.32979059e-02, 1.94215775e-03, 2.69639492e-03],\n",
              "       [8.73994827e-03, 8.19587708e-03, 7.05981255e-03],\n",
              "       [2.47645378e-03, 6.58905506e-03, 4.93979454e-03],\n",
              "       [7.15875626e-03, 2.84004211e-03, 4.23324108e-03],\n",
              "       [5.62691689e-03, 4.08947468e-03, 2.62820721e-03],\n",
              "       [5.27381897e-04, 9.85598564e-03, 2.16650963e-03],\n",
              "       [7.15255737e-04, 1.83224678e-03, 2.85744667e-03],\n",
              "       [2.50351429e-03, 1.14142895e-03, 4.10926342e-03],\n",
              "       [7.11333752e-03, 2.65240669e-03, 1.66726112e-03],\n",
              "       [6.91533089e-04, 2.49373913e-03, 4.25803661e-03],\n",
              "       [1.38640404e-03, 1.32211447e-02, 4.99427319e-03],\n",
              "       [4.56929207e-04, 1.39123201e-02, 1.57916546e-03],\n",
              "       [1.91855431e-03, 1.43564939e-02, 1.44999027e-02],\n",
              "       [3.48210335e-03, 1.55806541e-04, 5.14233112e-03],\n",
              "       [3.72791290e-03, 4.07278538e-03, 4.66942787e-04],\n",
              "       [2.60496140e-03, 1.36268139e-03, 4.03928757e-03],\n",
              "       [3.38995457e-03, 8.15153122e-03, 4.63008881e-04],\n",
              "       [5.15127182e-03, 2.04932690e-03, 1.53613091e-03],\n",
              "       [1.57511234e-03, 1.28437281e-02, 1.62184238e-03],\n",
              "       [1.82877779e-02, 9.21559334e-03, 6.68764114e-03],\n",
              "       [5.01394272e-04, 7.53831863e-03, 1.46759748e-02],\n",
              "       [3.46875191e-03, 4.62889671e-04, 4.84704971e-03],\n",
              "       [5.89990616e-03, 3.29041481e-03, 1.18858814e-02]], dtype=float32)>"
            ]
          },
          "metadata": {},
          "execution_count": 23
        }
      ]
    },
    {
      "cell_type": "code",
      "source": [
        "tensor_4 = tf.constant(tf.random.normal(shape=[1, 224, 224, 3]))\n",
        "tensor_4"
      ],
      "metadata": {
        "colab": {
          "base_uri": "https://localhost:8080/"
        },
        "id": "N5_zL6oxWLX9",
        "outputId": "7192d634-19db-4e15-b0ba-3da585816ffe"
      },
      "execution_count": null,
      "outputs": [
        {
          "output_type": "execute_result",
          "data": {
            "text/plain": [
              "<tf.Tensor: shape=(1, 224, 224, 3), dtype=float32, numpy=\n",
              "array([[[[ 1.45628619e+00, -1.24749683e-01,  1.49693787e+00],\n",
              "         [-4.06756371e-01, -1.20192252e-01, -1.27209187e+00],\n",
              "         [ 1.09631121e+00,  2.59195656e-01,  1.98842511e-01],\n",
              "         ...,\n",
              "         [-3.70970875e-01,  1.07680237e+00,  6.21225834e-01],\n",
              "         [-1.11593544e+00,  3.89632545e-02,  5.63541651e-01],\n",
              "         [ 1.18949011e-01,  1.16331303e+00,  3.70487547e-03]],\n",
              "\n",
              "        [[ 5.53124130e-01, -8.57210696e-01,  1.20315945e+00],\n",
              "         [-1.26289535e+00, -4.22253609e-01, -1.34504855e+00],\n",
              "         [ 2.73386478e-01, -1.20167565e+00,  1.38267141e-03],\n",
              "         ...,\n",
              "         [-1.87881994e+00,  1.89147973e+00,  7.02602386e-01],\n",
              "         [ 5.87118864e-01,  1.31602490e+00, -1.49335194e+00],\n",
              "         [-6.81881845e-01, -1.68258274e+00,  1.26258576e+00]],\n",
              "\n",
              "        [[ 1.37159348e+00, -5.20022549e-02, -4.02174473e-01],\n",
              "         [ 1.48849201e+00, -1.00744224e+00,  1.21387744e+00],\n",
              "         [ 1.81927264e-01,  8.68243635e-01, -1.50823951e-01],\n",
              "         ...,\n",
              "         [-1.39885020e+00, -7.56204724e-02, -1.12735271e+00],\n",
              "         [-1.18704009e+00,  1.52979064e+00, -4.32867467e-01],\n",
              "         [-1.92233548e-01,  1.12023008e+00, -1.27181077e+00]],\n",
              "\n",
              "        ...,\n",
              "\n",
              "        [[-9.89096910e-02, -3.33484113e-01, -7.16694295e-01],\n",
              "         [-1.80124655e-01,  1.29823446e+00,  1.05994284e+00],\n",
              "         [ 1.45437324e+00, -1.60320020e+00,  5.03084600e-01],\n",
              "         ...,\n",
              "         [-2.13398039e-01, -1.90117025e+00, -4.33150709e-01],\n",
              "         [ 2.04746652e+00, -3.38559031e-01,  5.89028835e-01],\n",
              "         [-1.17416692e+00, -1.19251564e-01, -6.61269367e-01]],\n",
              "\n",
              "        [[ 5.04242599e-01, -1.07392348e-01, -7.80589342e-01],\n",
              "         [-4.60321158e-01,  1.20225120e+00, -1.23293257e+00],\n",
              "         [ 1.70242473e-01,  1.02819788e+00,  8.83482754e-01],\n",
              "         ...,\n",
              "         [-4.94267017e-01,  7.77212203e-01, -9.86494601e-01],\n",
              "         [ 8.05684149e-01,  3.03219819e+00,  1.76181161e+00],\n",
              "         [-2.10995555e-01,  6.91245496e-01, -1.70210981e+00]],\n",
              "\n",
              "        [[ 3.13407667e-02,  6.11818194e-01,  1.69650149e+00],\n",
              "         [ 1.07680786e+00,  1.37185240e+00, -2.56803393e-01],\n",
              "         [ 1.56770384e+00,  6.42974973e-01,  5.57774961e-01],\n",
              "         ...,\n",
              "         [-9.28960562e-01, -1.69988096e+00,  2.22087717e+00],\n",
              "         [ 1.52432159e-01,  3.74705605e-02, -5.43916166e-01],\n",
              "         [-4.16827023e-01,  7.20469117e-01, -3.22207153e-01]]]],\n",
              "      dtype=float32)>"
            ]
          },
          "metadata": {},
          "execution_count": 25
        }
      ]
    },
    {
      "cell_type": "code",
      "source": [
        "tf.squeeze(tensor_4)"
      ],
      "metadata": {
        "colab": {
          "base_uri": "https://localhost:8080/"
        },
        "id": "fpmKhwgfWYmD",
        "outputId": "d5e3451f-4274-45f1-c981-975a633f0c8c"
      },
      "execution_count": null,
      "outputs": [
        {
          "output_type": "execute_result",
          "data": {
            "text/plain": [
              "<tf.Tensor: shape=(224, 224, 3), dtype=float32, numpy=\n",
              "array([[[ 1.45628619e+00, -1.24749683e-01,  1.49693787e+00],\n",
              "        [-4.06756371e-01, -1.20192252e-01, -1.27209187e+00],\n",
              "        [ 1.09631121e+00,  2.59195656e-01,  1.98842511e-01],\n",
              "        ...,\n",
              "        [-3.70970875e-01,  1.07680237e+00,  6.21225834e-01],\n",
              "        [-1.11593544e+00,  3.89632545e-02,  5.63541651e-01],\n",
              "        [ 1.18949011e-01,  1.16331303e+00,  3.70487547e-03]],\n",
              "\n",
              "       [[ 5.53124130e-01, -8.57210696e-01,  1.20315945e+00],\n",
              "        [-1.26289535e+00, -4.22253609e-01, -1.34504855e+00],\n",
              "        [ 2.73386478e-01, -1.20167565e+00,  1.38267141e-03],\n",
              "        ...,\n",
              "        [-1.87881994e+00,  1.89147973e+00,  7.02602386e-01],\n",
              "        [ 5.87118864e-01,  1.31602490e+00, -1.49335194e+00],\n",
              "        [-6.81881845e-01, -1.68258274e+00,  1.26258576e+00]],\n",
              "\n",
              "       [[ 1.37159348e+00, -5.20022549e-02, -4.02174473e-01],\n",
              "        [ 1.48849201e+00, -1.00744224e+00,  1.21387744e+00],\n",
              "        [ 1.81927264e-01,  8.68243635e-01, -1.50823951e-01],\n",
              "        ...,\n",
              "        [-1.39885020e+00, -7.56204724e-02, -1.12735271e+00],\n",
              "        [-1.18704009e+00,  1.52979064e+00, -4.32867467e-01],\n",
              "        [-1.92233548e-01,  1.12023008e+00, -1.27181077e+00]],\n",
              "\n",
              "       ...,\n",
              "\n",
              "       [[-9.89096910e-02, -3.33484113e-01, -7.16694295e-01],\n",
              "        [-1.80124655e-01,  1.29823446e+00,  1.05994284e+00],\n",
              "        [ 1.45437324e+00, -1.60320020e+00,  5.03084600e-01],\n",
              "        ...,\n",
              "        [-2.13398039e-01, -1.90117025e+00, -4.33150709e-01],\n",
              "        [ 2.04746652e+00, -3.38559031e-01,  5.89028835e-01],\n",
              "        [-1.17416692e+00, -1.19251564e-01, -6.61269367e-01]],\n",
              "\n",
              "       [[ 5.04242599e-01, -1.07392348e-01, -7.80589342e-01],\n",
              "        [-4.60321158e-01,  1.20225120e+00, -1.23293257e+00],\n",
              "        [ 1.70242473e-01,  1.02819788e+00,  8.83482754e-01],\n",
              "        ...,\n",
              "        [-4.94267017e-01,  7.77212203e-01, -9.86494601e-01],\n",
              "        [ 8.05684149e-01,  3.03219819e+00,  1.76181161e+00],\n",
              "        [-2.10995555e-01,  6.91245496e-01, -1.70210981e+00]],\n",
              "\n",
              "       [[ 3.13407667e-02,  6.11818194e-01,  1.69650149e+00],\n",
              "        [ 1.07680786e+00,  1.37185240e+00, -2.56803393e-01],\n",
              "        [ 1.56770384e+00,  6.42974973e-01,  5.57774961e-01],\n",
              "        ...,\n",
              "        [-9.28960562e-01, -1.69988096e+00,  2.22087717e+00],\n",
              "        [ 1.52432159e-01,  3.74705605e-02, -5.43916166e-01],\n",
              "        [-4.16827023e-01,  7.20469117e-01, -3.22207153e-01]]],\n",
              "      dtype=float32)>"
            ]
          },
          "metadata": {},
          "execution_count": 26
        }
      ]
    },
    {
      "cell_type": "code",
      "source": [
        "tensor_5 = tf.constant([1, 2, 3, 4, 5, 6, 7, 8, 9, 10])\n",
        "tensor_5"
      ],
      "metadata": {
        "colab": {
          "base_uri": "https://localhost:8080/"
        },
        "id": "aI6joGYLWyi1",
        "outputId": "5391790a-e1a9-474f-866a-072e8f12ea30"
      },
      "execution_count": null,
      "outputs": [
        {
          "output_type": "execute_result",
          "data": {
            "text/plain": [
              "<tf.Tensor: shape=(10,), dtype=int32, numpy=array([ 1,  2,  3,  4,  5,  6,  7,  8,  9, 10], dtype=int32)>"
            ]
          },
          "metadata": {},
          "execution_count": 49
        }
      ]
    },
    {
      "cell_type": "code",
      "source": [
        "tf.argmax(tensor_5).numpy()"
      ],
      "metadata": {
        "colab": {
          "base_uri": "https://localhost:8080/"
        },
        "id": "Bi0Z9BO0XJWB",
        "outputId": "5c26f1d0-5c8e-494b-d569-7ed833e706e0"
      },
      "execution_count": null,
      "outputs": [
        {
          "output_type": "execute_result",
          "data": {
            "text/plain": [
              "9"
            ]
          },
          "metadata": {},
          "execution_count": 50
        }
      ]
    },
    {
      "cell_type": "code",
      "source": [
        "tf.one_hot(tensor_5, depth=11, dtype=tf.int32)"
      ],
      "metadata": {
        "colab": {
          "base_uri": "https://localhost:8080/"
        },
        "id": "e9IOlr_tXO4U",
        "outputId": "ab9cbbdf-7cb2-400b-f495-7e0e34916b17"
      },
      "execution_count": null,
      "outputs": [
        {
          "output_type": "execute_result",
          "data": {
            "text/plain": [
              "<tf.Tensor: shape=(10, 11), dtype=int32, numpy=\n",
              "array([[0, 1, 0, 0, 0, 0, 0, 0, 0, 0, 0],\n",
              "       [0, 0, 1, 0, 0, 0, 0, 0, 0, 0, 0],\n",
              "       [0, 0, 0, 1, 0, 0, 0, 0, 0, 0, 0],\n",
              "       [0, 0, 0, 0, 1, 0, 0, 0, 0, 0, 0],\n",
              "       [0, 0, 0, 0, 0, 1, 0, 0, 0, 0, 0],\n",
              "       [0, 0, 0, 0, 0, 0, 1, 0, 0, 0, 0],\n",
              "       [0, 0, 0, 0, 0, 0, 0, 1, 0, 0, 0],\n",
              "       [0, 0, 0, 0, 0, 0, 0, 0, 1, 0, 0],\n",
              "       [0, 0, 0, 0, 0, 0, 0, 0, 0, 1, 0],\n",
              "       [0, 0, 0, 0, 0, 0, 0, 0, 0, 0, 1]], dtype=int32)>"
            ]
          },
          "metadata": {},
          "execution_count": 53
        }
      ]
    },
    {
      "cell_type": "code",
      "source": [
        ""
      ],
      "metadata": {
        "id": "DEXkih1mXg76"
      },
      "execution_count": null,
      "outputs": []
    }
  ]
}