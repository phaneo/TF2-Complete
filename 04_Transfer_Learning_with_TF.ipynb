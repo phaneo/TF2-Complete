{
  "nbformat": 4,
  "nbformat_minor": 0,
  "metadata": {
    "colab": {
      "name": "04_Transfer_Learning_with_TF.ipynb",
      "provenance": [],
      "collapsed_sections": [],
      "authorship_tag": "ABX9TyMwe7bnzWBE0G7Bv0Rcqckg",
      "include_colab_link": true
    },
    "kernelspec": {
      "name": "python3",
      "display_name": "Python 3"
    },
    "language_info": {
      "name": "python"
    },
    "accelerator": "GPU",
    "gpuClass": "standard"
  },
  "cells": [
    {
      "cell_type": "markdown",
      "metadata": {
        "id": "view-in-github",
        "colab_type": "text"
      },
      "source": [
        "<a href=\"https://colab.research.google.com/github/phaneo/TF2-Complete/blob/main/04_Transfer_Learning_with_TF.ipynb\" target=\"_parent\"><img src=\"https://colab.research.google.com/assets/colab-badge.svg\" alt=\"Open In Colab\"/></a>"
      ]
    },
    {
      "cell_type": "markdown",
      "source": [
        "# Feature Extraction"
      ],
      "metadata": {
        "id": "78m-gP-eyONV"
      }
    },
    {
      "cell_type": "code",
      "source": [
        "import tensorflow as tf\n"
      ],
      "metadata": {
        "id": "1wDsjkAU1NmX"
      },
      "execution_count": null,
      "outputs": []
    },
    {
      "cell_type": "markdown",
      "source": [
        "## Downloading and exploring the data"
      ],
      "metadata": {
        "id": "_2bngJ8WvwUZ"
      }
    },
    {
      "cell_type": "code",
      "source": [
        "import zipfile\n",
        "\n",
        "!wget https://storage.googleapis.com/ztm_tf_course/food_vision/10_food_classes_10_percent.zip\n",
        "\n",
        "zipref = zipfile.ZipFile(\"10_food_classes_10_percent.zip\")\n",
        "zipref.extractall()\n",
        "zipref.close()"
      ],
      "metadata": {
        "colab": {
          "base_uri": "https://localhost:8080/"
        },
        "id": "Cut5gbzSwdaH",
        "outputId": "1a4a1d7a-1c84-473b-818e-e0bbba6621df"
      },
      "execution_count": null,
      "outputs": [
        {
          "output_type": "stream",
          "name": "stdout",
          "text": [
            "--2022-08-08 06:08:25--  https://storage.googleapis.com/ztm_tf_course/food_vision/10_food_classes_10_percent.zip\n",
            "Resolving storage.googleapis.com (storage.googleapis.com)... 74.125.195.128, 173.194.202.128, 108.177.98.128, ...\n",
            "Connecting to storage.googleapis.com (storage.googleapis.com)|74.125.195.128|:443... connected.\n",
            "HTTP request sent, awaiting response... 200 OK\n",
            "Length: 168546183 (161M) [application/zip]\n",
            "Saving to: ‘10_food_classes_10_percent.zip’\n",
            "\n",
            "10_food_classes_10_ 100%[===================>] 160.74M   245MB/s    in 0.7s    \n",
            "\n",
            "2022-08-08 06:08:25 (245 MB/s) - ‘10_food_classes_10_percent.zip’ saved [168546183/168546183]\n",
            "\n"
          ]
        }
      ]
    },
    {
      "cell_type": "code",
      "source": [
        "import os\n",
        "\n",
        "for dirpath, dirnames, filenames in os.walk(\"10_food_classes_10_percent/\"):\n",
        "  print(f\"There are {len(dirnames)} directories and {len(filenames)} images in {dirpath}\")"
      ],
      "metadata": {
        "colab": {
          "base_uri": "https://localhost:8080/"
        },
        "id": "JEiyWMDCwnnD",
        "outputId": "f8e944ec-d072-47ce-e76c-6f0f1669f9a8"
      },
      "execution_count": null,
      "outputs": [
        {
          "output_type": "stream",
          "name": "stdout",
          "text": [
            "There are 2 directories and 0 images in 10_food_classes_10_percent/\n",
            "There are 10 directories and 0 images in 10_food_classes_10_percent/train\n",
            "There are 0 directories and 75 images in 10_food_classes_10_percent/train/pizza\n",
            "There are 0 directories and 75 images in 10_food_classes_10_percent/train/grilled_salmon\n",
            "There are 0 directories and 75 images in 10_food_classes_10_percent/train/hamburger\n",
            "There are 0 directories and 75 images in 10_food_classes_10_percent/train/steak\n",
            "There are 0 directories and 75 images in 10_food_classes_10_percent/train/chicken_curry\n",
            "There are 0 directories and 75 images in 10_food_classes_10_percent/train/ramen\n",
            "There are 0 directories and 75 images in 10_food_classes_10_percent/train/sushi\n",
            "There are 0 directories and 75 images in 10_food_classes_10_percent/train/fried_rice\n",
            "There are 0 directories and 75 images in 10_food_classes_10_percent/train/chicken_wings\n",
            "There are 0 directories and 75 images in 10_food_classes_10_percent/train/ice_cream\n",
            "There are 10 directories and 0 images in 10_food_classes_10_percent/test\n",
            "There are 0 directories and 250 images in 10_food_classes_10_percent/test/pizza\n",
            "There are 0 directories and 250 images in 10_food_classes_10_percent/test/grilled_salmon\n",
            "There are 0 directories and 250 images in 10_food_classes_10_percent/test/hamburger\n",
            "There are 0 directories and 250 images in 10_food_classes_10_percent/test/steak\n",
            "There are 0 directories and 250 images in 10_food_classes_10_percent/test/chicken_curry\n",
            "There are 0 directories and 250 images in 10_food_classes_10_percent/test/ramen\n",
            "There are 0 directories and 250 images in 10_food_classes_10_percent/test/sushi\n",
            "There are 0 directories and 250 images in 10_food_classes_10_percent/test/fried_rice\n",
            "There are 0 directories and 250 images in 10_food_classes_10_percent/test/chicken_wings\n",
            "There are 0 directories and 250 images in 10_food_classes_10_percent/test/ice_cream\n"
          ]
        }
      ]
    },
    {
      "cell_type": "markdown",
      "source": [
        "## Creating dataloaders (preparing data)"
      ],
      "metadata": {
        "id": "Y8suC6KixEHp"
      }
    },
    {
      "cell_type": "code",
      "source": [
        "from tensorflow.keras.preprocessing.image import ImageDataGenerator\n",
        "\n",
        "IMG_SHAPE = (224, 224)\n",
        "BATCH_SIZE = 32\n",
        "\n",
        "train_dir = \"10_food_classes_10_percent/train/\"\n",
        "test_dir = \"10_food_classes_10_percent/test/\"\n",
        "\n",
        "train_datagen = ImageDataGenerator(rescale = 1/255.)\n",
        "test_datagen = ImageDataGenerator(rescale = 1/255.)\n",
        "\n",
        "print(\"Training images: \")\n",
        "train_data_10_percent = train_datagen.flow_from_directory(train_dir,\n",
        "                                                          target_size = IMG_SHAPE,\n",
        "                                                          batch_size = BATCH_SIZE,\n",
        "                                                          class_mode = 'categorical')\n",
        "\n",
        "print(\"Testing images:\")\n",
        "test_data = test_datagen.flow_from_directory(test_dir,\n",
        "                                             target_size = IMG_SHAPE,\n",
        "                                             batch_size = BATCH_SIZE,\n",
        "                                             class_mode = 'categorical')"
      ],
      "metadata": {
        "colab": {
          "base_uri": "https://localhost:8080/"
        },
        "id": "A4fMUhUaxlTj",
        "outputId": "dbcba38c-adda-44d1-a937-1e916e6fd07f"
      },
      "execution_count": null,
      "outputs": [
        {
          "output_type": "stream",
          "name": "stdout",
          "text": [
            "Training images: \n",
            "Found 750 images belonging to 10 classes.\n",
            "Testing images:\n",
            "Found 2500 images belonging to 10 classes.\n"
          ]
        }
      ]
    },
    {
      "cell_type": "markdown",
      "source": [
        "## Setting up callbacks\n",
        "\n",
        "Some of the most popular callbacks:\n",
        "* Tracking experiments with Tensorboard callback\n",
        "* Model experiment with the ModelCheckpoint callback\n",
        "* Stopping a model from training with the EarlyStopping callback"
      ],
      "metadata": {
        "id": "ME1VrDV6yfDi"
      }
    },
    {
      "cell_type": "code",
      "source": [
        "# Create Tensorboard callback\n",
        "\n",
        "import datetime\n",
        "\n",
        "def create_tensorboard_callback(dir_name, experiment_name):\n",
        "  log_dir = dir_name + \"/\" + experiment_name + \"/\" + datetime.datetime.now().strftime(\"%Y%m%d-%H%M%S\")\n",
        "  tensorboard_callback = tf.keras.callbacks.TensorBoard(log_dir = log_dir)\n",
        "  print(f\"Saving Tensorboard log files to: {log_dir}\")\n",
        "  return tensorboard_callback\n",
        "  "
      ],
      "metadata": {
        "id": "j5n_eIhmzWAz"
      },
      "execution_count": null,
      "outputs": []
    },
    {
      "cell_type": "markdown",
      "source": [
        "## Creating models using TF Hub\n"
      ],
      "metadata": {
        "id": "VntzOv8O1bqi"
      }
    },
    {
      "cell_type": "code",
      "source": [
        "# Let's compare the following two models\n",
        "\n",
        "efficientnet_url = \"https://tfhub.dev/tensorflow/efficientnet/b0/feature-vector/1\"\n",
        "resnet_url = \"https://tfhub.dev/google/imagenet/resnet_v2_50/feature_vector/5\""
      ],
      "metadata": {
        "id": "r3fCMXNQ3oO5"
      },
      "execution_count": null,
      "outputs": []
    },
    {
      "cell_type": "code",
      "source": [
        "# Import dependencies\n",
        "\n",
        "import tensorflow as tf\n",
        "import tensorflow_hub as hub\n",
        "from tensorflow.keras import layers"
      ],
      "metadata": {
        "id": "_bBhRQYi5IGl"
      },
      "execution_count": null,
      "outputs": []
    },
    {
      "cell_type": "code",
      "source": [
        "# Let's make a create_model function to create a model from a url\n",
        "\n",
        "def create_model(model_url, num_classes = 10):\n",
        "  \"\"\"\n",
        "  Takes a TF Hub URL and creates a Keras Sequential model\n",
        "  \n",
        "  Args:\n",
        "    model_url (str): A Tensorflow Hub Feature Extraction URL\n",
        "    num_classes (int): No. of output neurons in the output layer,\n",
        "      should be equal to no. of target classes, default 10.\n",
        "  \n",
        "  Returns:\n",
        "    An uncompiled Keras Sequential model with model_url as feature\n",
        "    extractor layer and Dense output layer with num_classes output neurons.\n",
        "  \"\"\"\n",
        "\n",
        "  # Download pretrained model and save it as a Keras layer\n",
        "  feature_extractor_layer = hub.KerasLayer(model_url,\n",
        "                                           trainable = False,\n",
        "                                           name = \"feature_extraction_layer\",\n",
        "                                           input_shape = IMG_SHAPE + (3,))\n",
        "  \n",
        "  # Create our own model\n",
        "  model = tf.keras.Sequential([\n",
        "      feature_extractor_layer,\n",
        "      layers.Dense(10, activation = \"softmax\", name = \"output_layer\")\n",
        "  ])\n",
        "  return model\n"
      ],
      "metadata": {
        "id": "Rad8xX765UOo"
      },
      "execution_count": null,
      "outputs": []
    },
    {
      "cell_type": "markdown",
      "source": [
        "### Creating and testing ResNet model"
      ],
      "metadata": {
        "id": "msML8QVK61hx"
      }
    },
    {
      "cell_type": "code",
      "source": [
        "# Create ResNet model\n",
        "resnet_model = create_model(resnet_url, num_classes=train_data_10_percent.num_classes)\n",
        "resnet_model.summary()"
      ],
      "metadata": {
        "colab": {
          "base_uri": "https://localhost:8080/"
        },
        "id": "XpNeABlQ6uf2",
        "outputId": "25bc731a-e3af-488a-83df-02b148cc9c58"
      },
      "execution_count": null,
      "outputs": [
        {
          "output_type": "stream",
          "name": "stdout",
          "text": [
            "Model: \"sequential\"\n",
            "_________________________________________________________________\n",
            " Layer (type)                Output Shape              Param #   \n",
            "=================================================================\n",
            " feature_extraction_layer (K  (None, 2048)             23564800  \n",
            " erasLayer)                                                      \n",
            "                                                                 \n",
            " output_layer (Dense)        (None, 10)                20490     \n",
            "                                                                 \n",
            "=================================================================\n",
            "Total params: 23,585,290\n",
            "Trainable params: 20,490\n",
            "Non-trainable params: 23,564,800\n",
            "_________________________________________________________________\n"
          ]
        }
      ]
    },
    {
      "cell_type": "code",
      "source": [
        "resnet_model.compile(loss = \"categorical_crossentropy\",\n",
        "                     optimizer = tf.keras.optimizers.Adam(),\n",
        "                     metrics = [\"accuracy\"])\n",
        "\n",
        "history_resnet = resnet_model.fit(train_data_10_percent,\n",
        "                                  epochs = 5,\n",
        "                                  steps_per_epoch = len(train_data_10_percent),\n",
        "                                  validation_data = test_data,\n",
        "                                  validation_steps = len(test_data),\n",
        "                                  callbacks = (create_tensorboard_callback(dir_name=\"10_food_classes_10_percent/Tensorboard\",\n",
        "                                                                           experiment_name=\"ResNet\")))"
      ],
      "metadata": {
        "colab": {
          "base_uri": "https://localhost:8080/"
        },
        "id": "mJ359s0e7Ujy",
        "outputId": "1007187e-7846-4c45-db0d-d92539159a33"
      },
      "execution_count": null,
      "outputs": [
        {
          "output_type": "stream",
          "name": "stdout",
          "text": [
            "Saving Tensorboard log files to: 10_food_classes_10_percent/Tensorboard/ResNet/20220808-060838\n",
            "Epoch 1/5\n",
            "24/24 [==============================] - 32s 745ms/step - loss: 1.7996 - accuracy: 0.4147 - val_loss: 1.1572 - val_accuracy: 0.6320\n",
            "Epoch 2/5\n",
            "24/24 [==============================] - 16s 693ms/step - loss: 0.8823 - accuracy: 0.7413 - val_loss: 0.8571 - val_accuracy: 0.7352\n",
            "Epoch 3/5\n",
            "24/24 [==============================] - 16s 706ms/step - loss: 0.6181 - accuracy: 0.8200 - val_loss: 0.7468 - val_accuracy: 0.7572\n",
            "Epoch 4/5\n",
            "24/24 [==============================] - 16s 671ms/step - loss: 0.4627 - accuracy: 0.8773 - val_loss: 0.6974 - val_accuracy: 0.7796\n",
            "Epoch 5/5\n",
            "24/24 [==============================] - 16s 670ms/step - loss: 0.3719 - accuracy: 0.9147 - val_loss: 0.6611 - val_accuracy: 0.7872\n"
          ]
        }
      ]
    },
    {
      "cell_type": "code",
      "source": [
        "#!tensorboard dev upload --logdir 10_food_classes_10_percent/Tensorboard/ResNet/20220807-105441/"
      ],
      "metadata": {
        "id": "Gj--r3T57nfi"
      },
      "execution_count": null,
      "outputs": []
    },
    {
      "cell_type": "code",
      "source": [
        "import matplotlib.pyplot as plt\n",
        "import pandas as pd\n",
        "\n",
        "def plot_loss_curves(history):\n",
        "  loss = history.history[\"loss\"]\n",
        "  val_loss = history.history[\"val_loss\"]\n",
        "\n",
        "  acc = history.history[\"accuracy\"]\n",
        "  val_acc = history.history[\"val_accuracy\"]\n",
        "\n",
        "  epochs = range(len(history.history[\"loss\"]))\n",
        "\n",
        "  plt.figure()\n",
        "  plt.plot(epochs, loss, label = \"training loss\")\n",
        "  plt.plot(epochs, val_loss, label = \"val loss\")\n",
        "  plt.title(\"Loss\")\n",
        "  plt.xlabel(\"epochs\")\n",
        "  plt.legend()\n",
        "\n",
        "  plt.figure()\n",
        "  plt.plot(epochs, acc, label = \"training accuracy\")\n",
        "  plt.plot(epochs, val_acc, label = \"val accuracy\")\n",
        "  plt.title(\"Accuracy\")\n",
        "  plt.xlabel(\"epochs\")\n",
        "  plt.legend()"
      ],
      "metadata": {
        "id": "Z4AZ_McJ9bRQ"
      },
      "execution_count": null,
      "outputs": []
    },
    {
      "cell_type": "code",
      "source": [
        "plot_loss_curves(history_resnet)"
      ],
      "metadata": {
        "colab": {
          "base_uri": "https://localhost:8080/",
          "height": 573
        },
        "id": "hkBPu5rrtAVC",
        "outputId": "d8e03a0c-23b1-4e33-ec76-da245d38f688"
      },
      "execution_count": null,
      "outputs": [
        {
          "output_type": "display_data",
          "data": {
            "text/plain": [
              "<Figure size 432x288 with 1 Axes>"
            ],
            "image/png": "[encoded data removed]"
          },
          "metadata": {
            "needs_background": "light"
          }
        },
        {
          "output_type": "display_data",
          "data": {
            "text/plain": [
              "<Figure size 432x288 with 1 Axes>"
            ],
            "image/png": "[encoded data removed]"
          },
          "metadata": {
            "needs_background": "light"
          }
        }
      ]
    },
    {
      "cell_type": "markdown",
      "source": [
        "### Creating and testing EfficientNet model"
      ],
      "metadata": {
        "id": "XybV9E85tEa7"
      }
    },
    {
      "cell_type": "code",
      "source": [
        "effnet_model = create_model(model_url = efficientnet_url,\n",
        "                            num_classes=10)\n",
        "effnet_model.summary()"
      ],
      "metadata": {
        "colab": {
          "base_uri": "https://localhost:8080/"
        },
        "id": "vBuJhbTnza0L",
        "outputId": "c14618eb-98ed-4c54-bfc6-e55e4a4e46a5"
      },
      "execution_count": null,
      "outputs": [
        {
          "output_type": "stream",
          "name": "stdout",
          "text": [
            "Model: \"sequential_1\"\n",
            "_________________________________________________________________\n",
            " Layer (type)                Output Shape              Param #   \n",
            "=================================================================\n",
            " feature_extraction_layer (K  (None, 1280)             4049564   \n",
            " erasLayer)                                                      \n",
            "                                                                 \n",
            " output_layer (Dense)        (None, 10)                12810     \n",
            "                                                                 \n",
            "=================================================================\n",
            "Total params: 4,062,374\n",
            "Trainable params: 12,810\n",
            "Non-trainable params: 4,049,564\n",
            "_________________________________________________________________\n"
          ]
        }
      ]
    },
    {
      "cell_type": "code",
      "source": [
        "effnet_model.compile(loss = \"categorical_crossentropy\",\n",
        "                     optimizer = tf.keras.optimizers.Adam(),\n",
        "                     metrics = [\"accuracy\"])\n",
        "\n",
        "effnet_history = effnet_model.fit(train_data_10_percent,\n",
        "                                  epochs = 5,\n",
        "                                  steps_per_epoch = len(train_data_10_percent),\n",
        "                                  validation_data = test_data,\n",
        "                                  validation_steps = len(test_data),\n",
        "                                  callbacks = [create_tensorboard_callback(dir_name='10_food_classes_10_percent/Tensorboard',\n",
        "                                                                           experiment_name = 'EfficientNet')])"
      ],
      "metadata": {
        "colab": {
          "base_uri": "https://localhost:8080/"
        },
        "id": "iVSuvwL6zop3",
        "outputId": "33a1bcf4-6ada-4313-d12d-e5a12e359fe6"
      },
      "execution_count": null,
      "outputs": [
        {
          "output_type": "stream",
          "name": "stdout",
          "text": [
            "Saving Tensorboard log files to: 10_food_classes_10_percent/Tensorboard/EfficientNet/20220808-061332\n",
            "Epoch 1/5\n",
            "24/24 [==============================] - 26s 720ms/step - loss: 1.8161 - accuracy: 0.4627 - val_loss: 1.2854 - val_accuracy: 0.7296\n",
            "Epoch 2/5\n",
            "24/24 [==============================] - 16s 680ms/step - loss: 1.0438 - accuracy: 0.7813 - val_loss: 0.8625 - val_accuracy: 0.8196\n",
            "Epoch 3/5\n",
            "24/24 [==============================] - 16s 683ms/step - loss: 0.7509 - accuracy: 0.8333 - val_loss: 0.6928 - val_accuracy: 0.8444\n",
            "Epoch 4/5\n",
            "24/24 [==============================] - 24s 1s/step - loss: 0.6035 - accuracy: 0.8733 - val_loss: 0.6071 - val_accuracy: 0.8548\n",
            "Epoch 5/5\n",
            "24/24 [==============================] - 15s 643ms/step - loss: 0.5113 - accuracy: 0.8933 - val_loss: 0.5511 - val_accuracy: 0.8644\n"
          ]
        }
      ]
    },
    {
      "cell_type": "code",
      "source": [
        "#!tensorboard dev upload --logdir \"10_food_classes_10_percent/Tensorboard/EfficientNet/\""
      ],
      "metadata": {
        "colab": {
          "base_uri": "https://localhost:8080/"
        },
        "id": "cKzxT4Fi1d0n",
        "outputId": "b9c81c2a-6c92-4bad-b4d7-4ec293a2c800"
      },
      "execution_count": null,
      "outputs": [
        {
          "output_type": "stream",
          "name": "stdout",
          "text": [
            "Upload started and will continue reading any new data as it's added to the logdir.\n",
            "\n",
            "To stop uploading, press Ctrl-C.\n",
            "\n",
            "New experiment created. View your TensorBoard at: https://tensorboard.dev/experiment/SnnUK3r7T3yASKbcqWq2EQ/\n",
            "\n",
            "\u001b[1m[2022-08-08T06:15:12]\u001b[0m Started scanning logdir.\n",
            "\u001b[1m[2022-08-08T06:15:13]\u001b[0m Total uploaded: 30 scalars, 0 tensors, 1 binary objects (3.9 MB)\n",
            "\n",
            "\n",
            "Interrupted. View your TensorBoard at https://tensorboard.dev/experiment/SnnUK3r7T3yASKbcqWq2EQ/\n",
            "^C\n"
          ]
        }
      ]
    },
    {
      "cell_type": "code",
      "source": [
        "plot_loss_curves(effnet_history)"
      ],
      "metadata": {
        "colab": {
          "base_uri": "https://localhost:8080/",
          "height": 573
        },
        "id": "NPx6cKEL0Ex8",
        "outputId": "84ca092e-dc8c-41f4-938a-3689c457be46"
      },
      "execution_count": null,
      "outputs": [
        {
          "output_type": "display_data",
          "data": {
            "text/plain": [
              "<Figure size 432x288 with 1 Axes>"
            ],
            "image/png": "[encoded data removed]"
          },
          "metadata": {
            "needs_background": "light"
          }
        },
        {
          "output_type": "display_data",
          "data": {
            "text/plain": [
              "<Figure size 432x288 with 1 Axes>"
            ],
            "image/png": "[encoded data removed]"
          },
          "metadata": {
            "needs_background": "light"
          }
        }
      ]
    },
    {
      "cell_type": "markdown",
      "source": [
        "## Different types of Transfer Learning\n",
        "\n",
        "1. **As-is**: Using an existing model with no changes at all\n",
        "2. **Feature extraction**: Use the prelearned patterns of an existing model and adjust the output layer for the relevant problem\n",
        "3. Fine-tuning transfer learning: Use the prelearned patterns of an existing model and fine-tune many/all of the underlying layers (incl. new output layers)."
      ],
      "metadata": {
        "id": "m78ePpCm0ICa"
      }
    },
    {
      "cell_type": "markdown",
      "source": [
        "## Comparing our models using Tensorboard"
      ],
      "metadata": {
        "id": "i2vJ2JOf33Dw"
      }
    },
    {
      "cell_type": "code",
      "source": [
        "!tensorboard dev upload --logdir 10_food_classes_10_percent/Tensorboard/ \\\n",
        "  --name \"EfficientNetB0 vs ResNet50V2\" \\\n",
        "  --description \"Comparing two different TF Hub feature extraction models using EfficientNet and ResNet\" \\\n",
        "  --one_shot"
      ],
      "metadata": {
        "colab": {
          "base_uri": "https://localhost:8080/"
        },
        "id": "WsPgpfipCnqH",
        "outputId": "44051649-ccec-4f9f-b067-4e95abddb340"
      },
      "execution_count": null,
      "outputs": [
        {
          "output_type": "stream",
          "name": "stdout",
          "text": [
            "\n",
            "New experiment created. View your TensorBoard at: https://tensorboard.dev/experiment/QqMe43TJQBSgCOZL61vmDg/\n",
            "\n",
            "\u001b[1m[2022-08-08T06:15:50]\u001b[0m Started scanning logdir.\n",
            "\u001b[1m[2022-08-08T06:15:53]\u001b[0m Total uploaded: 60 scalars, 0 tensors, 2 binary objects (5.5 MB)\n",
            "\u001b[1m[2022-08-08T06:15:53]\u001b[0m Done scanning logdir.\n",
            "\n",
            "\n",
            "Done. View your TensorBoard at https://tensorboard.dev/experiment/QqMe43TJQBSgCOZL61vmDg/\n"
          ]
        }
      ]
    },
    {
      "cell_type": "code",
      "source": [
        "!tensorboard dev list"
      ],
      "metadata": {
        "colab": {
          "base_uri": "https://localhost:8080/"
        },
        "id": "mkdYkudBDBcc",
        "outputId": "9e0bc246-b36b-4bf4-99e8-ce6d448d9e35"
      },
      "execution_count": null,
      "outputs": [
        {
          "output_type": "stream",
          "name": "stdout",
          "text": [
            "No experiments. Use `tensorboard dev upload` to get started.\n"
          ]
        }
      ]
    },
    {
      "cell_type": "code",
      "source": [
        "!tensorboard dev delete --experiment_id 2pLAKEowQkOGsYG3alNERg"
      ],
      "metadata": {
        "colab": {
          "base_uri": "https://localhost:8080/"
        },
        "id": "KQZMtudTGe7t",
        "outputId": "ba9b17a9-4cae-4cc7-bc74-04cddecdfe68"
      },
      "execution_count": null,
      "outputs": [
        {
          "output_type": "stream",
          "name": "stdout",
          "text": [
            "Deleted experiment 2pLAKEowQkOGsYG3alNERg.\n"
          ]
        }
      ]
    },
    {
      "cell_type": "code",
      "source": [
        ""
      ],
      "metadata": {
        "id": "Xwz6dNGUGobD"
      },
      "execution_count": null,
      "outputs": []
    }
  ]
}