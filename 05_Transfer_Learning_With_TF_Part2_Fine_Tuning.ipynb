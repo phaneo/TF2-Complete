{
  "cells": [
    {
      "cell_type": "markdown",
      "metadata": {
        "id": "view-in-github",
        "colab_type": "text"
      },
      "source": [
        "<a href=\"https://colab.research.google.com/github/phaneo/TF2-Complete/blob/main/05_Transfer_Learning_With_TF_Part2_Fine_Tuning.ipynb\" target=\"_parent\"><img src=\"https://colab.research.google.com/assets/colab-badge.svg\" alt=\"Open In Colab\"/></a>"
      ]
    },
    {
      "cell_type": "markdown",
      "metadata": {
        "id": "2pRpZRDXRzHc"
      },
      "source": [
        "# Transfer Learning with TF Part 2 - Fine tuning"
      ]
    },
    {
      "cell_type": "markdown",
      "metadata": {
        "id": "HFNkCVb5PyP1"
      },
      "source": [
        "## Creating helper functions"
      ]
    },
    {
      "cell_type": "code",
      "execution_count": null,
      "metadata": {
        "colab": {
          "base_uri": "https://localhost:8080/"
        },
        "id": "xdrWNJ7iQMLg",
        "outputId": "df1ebfc9-e738-4ce5-98fb-f3bf4ec77867"
      },
      "outputs": [
        {
          "output_type": "stream",
          "name": "stdout",
          "text": [
            "--2022-08-10 04:36:19--  https://raw.githubusercontent.com/mrdbourke/tensorflow-deep-learning/main/extras/helper_functions.py\n",
            "Resolving raw.githubusercontent.com (raw.githubusercontent.com)... 185.199.111.133, 185.199.110.133, 185.199.108.133, ...\n",
            "Connecting to raw.githubusercontent.com (raw.githubusercontent.com)|185.199.111.133|:443... connected.\n",
            "HTTP request sent, awaiting response... 200 OK\n",
            "Length: 10246 (10K) [text/plain]\n",
            "Saving to: ‘helper_functions.py’\n",
            "\n",
            "\rhelper_functions.py   0%[                    ]       0  --.-KB/s               \rhelper_functions.py 100%[===================>]  10.01K  --.-KB/s    in 0s      \n",
            "\n",
            "2022-08-10 04:36:19 (38.6 MB/s) - ‘helper_functions.py’ saved [10246/10246]\n",
            "\n"
          ]
        }
      ],
      "source": [
        "!wget https://raw.githubusercontent.com/mrdbourke/tensorflow-deep-learning/main/extras/helper_functions.py"
      ]
    },
    {
      "cell_type": "code",
      "execution_count": null,
      "metadata": {
        "id": "w-yBlKNyQzD1"
      },
      "outputs": [],
      "source": [
        "from helper_functions import *"
      ]
    },
    {
      "cell_type": "markdown",
      "metadata": {
        "id": "XozPs4QhRXwf"
      },
      "source": [
        "## Let's get some data"
      ]
    },
    {
      "cell_type": "code",
      "execution_count": null,
      "metadata": {
        "colab": {
          "base_uri": "https://localhost:8080/"
        },
        "id": "KT40GUZrRwyJ",
        "outputId": "0a3823ad-5139-4072-e320-de1f3f09e400"
      },
      "outputs": [
        {
          "output_type": "stream",
          "name": "stdout",
          "text": [
            "--2022-08-10 04:36:23--  https://storage.googleapis.com/ztm_tf_course/food_vision/10_food_classes_10_percent.zip\n",
            "Resolving storage.googleapis.com (storage.googleapis.com)... 142.251.6.128, 142.250.1.128, 108.177.121.128, ...\n",
            "Connecting to storage.googleapis.com (storage.googleapis.com)|142.251.6.128|:443... connected.\n",
            "HTTP request sent, awaiting response... 200 OK\n",
            "Length: 168546183 (161M) [application/zip]\n",
            "Saving to: ‘10_food_classes_10_percent.zip’\n",
            "\n",
            "10_food_classes_10_ 100%[===================>] 160.74M   201MB/s    in 0.8s    \n",
            "\n",
            "2022-08-10 04:36:24 (201 MB/s) - ‘10_food_classes_10_percent.zip’ saved [168546183/168546183]\n",
            "\n"
          ]
        }
      ],
      "source": [
        "!wget https://storage.googleapis.com/ztm_tf_course/food_vision/10_food_classes_10_percent.zip\n",
        "unzip_data(\"10_food_classes_10_percent.zip\")"
      ]
    },
    {
      "cell_type": "code",
      "execution_count": null,
      "metadata": {
        "colab": {
          "base_uri": "https://localhost:8080/"
        },
        "id": "GpIuO4qsSn3B",
        "outputId": "5c1dba95-da85-47f1-e615-f52d285a7cd6"
      },
      "outputs": [
        {
          "output_type": "stream",
          "name": "stdout",
          "text": [
            "There are 2 directories and 0 images in '10_food_classes_10_percent/'.\n",
            "There are 10 directories and 0 images in '10_food_classes_10_percent/train'.\n",
            "There are 0 directories and 75 images in '10_food_classes_10_percent/train/grilled_salmon'.\n",
            "There are 0 directories and 75 images in '10_food_classes_10_percent/train/sushi'.\n",
            "There are 0 directories and 75 images in '10_food_classes_10_percent/train/steak'.\n",
            "There are 0 directories and 75 images in '10_food_classes_10_percent/train/chicken_wings'.\n",
            "There are 0 directories and 75 images in '10_food_classes_10_percent/train/chicken_curry'.\n",
            "There are 0 directories and 75 images in '10_food_classes_10_percent/train/fried_rice'.\n",
            "There are 0 directories and 75 images in '10_food_classes_10_percent/train/ice_cream'.\n",
            "There are 0 directories and 75 images in '10_food_classes_10_percent/train/pizza'.\n",
            "There are 0 directories and 75 images in '10_food_classes_10_percent/train/ramen'.\n",
            "There are 0 directories and 75 images in '10_food_classes_10_percent/train/hamburger'.\n",
            "There are 10 directories and 0 images in '10_food_classes_10_percent/test'.\n",
            "There are 0 directories and 250 images in '10_food_classes_10_percent/test/grilled_salmon'.\n",
            "There are 0 directories and 250 images in '10_food_classes_10_percent/test/sushi'.\n",
            "There are 0 directories and 250 images in '10_food_classes_10_percent/test/steak'.\n",
            "There are 0 directories and 250 images in '10_food_classes_10_percent/test/chicken_wings'.\n",
            "There are 0 directories and 250 images in '10_food_classes_10_percent/test/chicken_curry'.\n",
            "There are 0 directories and 250 images in '10_food_classes_10_percent/test/fried_rice'.\n",
            "There are 0 directories and 250 images in '10_food_classes_10_percent/test/ice_cream'.\n",
            "There are 0 directories and 250 images in '10_food_classes_10_percent/test/pizza'.\n",
            "There are 0 directories and 250 images in '10_food_classes_10_percent/test/ramen'.\n",
            "There are 0 directories and 250 images in '10_food_classes_10_percent/test/hamburger'.\n"
          ]
        }
      ],
      "source": [
        "# Check out how many images & directories are there in our dataset\n",
        "walk_through_dir(\"10_food_classes_10_percent/\")"
      ]
    },
    {
      "cell_type": "code",
      "execution_count": null,
      "metadata": {
        "id": "ulCG3w50S1bk"
      },
      "outputs": [],
      "source": [
        "# Create training and test directory paths\n",
        "\n",
        "train_dir = \"10_food_classes_10_percent/train/\"\n",
        "test_dir = \"10_food_classes_10_percent/test/\""
      ]
    },
    {
      "cell_type": "code",
      "execution_count": null,
      "metadata": {
        "colab": {
          "base_uri": "https://localhost:8080/"
        },
        "id": "7sljwi6TTOAG",
        "outputId": "2025e261-f54c-4549-bc3a-bfe9bb784acb"
      },
      "outputs": [
        {
          "output_type": "stream",
          "name": "stdout",
          "text": [
            "Found 750 files belonging to 10 classes.\n",
            "Found 2500 files belonging to 10 classes.\n"
          ]
        }
      ],
      "source": [
        "import tensorflow as tf\n",
        "\n",
        "IMG_SIZE = (224, 224)\n",
        "BATCH_SIZE = 32\n",
        "\n",
        "train_data_10_percent = tf.keras.utils.image_dataset_from_directory(directory=train_dir,\n",
        "                                                                    image_size = IMG_SIZE,\n",
        "                                                                    label_mode = 'categorical',\n",
        "                                                                    batch_size = BATCH_SIZE)\n",
        "\n",
        "test_data = tf.keras.utils.image_dataset_from_directory(directory=test_dir,\n",
        "                                                        image_size = IMG_SIZE,\n",
        "                                                        label_mode = 'categorical',\n",
        "                                                        batch_size = BATCH_SIZE)"
      ]
    },
    {
      "cell_type": "code",
      "execution_count": null,
      "metadata": {
        "colab": {
          "base_uri": "https://localhost:8080/"
        },
        "id": "WdI5pNTqUVnv",
        "outputId": "5cf138ff-0572-48a1-f769-e7625968af1e"
      },
      "outputs": [
        {
          "output_type": "execute_result",
          "data": {
            "text/plain": [
              "<BatchDataset element_spec=(TensorSpec(shape=(None, 224, 224, 3), dtype=tf.float32, name=None), TensorSpec(shape=(None, 10), dtype=tf.float32, name=None))>"
            ]
          },
          "metadata": {},
          "execution_count": 7
        }
      ],
      "source": [
        "train_data_10_percent"
      ]
    },
    {
      "cell_type": "code",
      "execution_count": null,
      "metadata": {
        "colab": {
          "base_uri": "https://localhost:8080/"
        },
        "id": "BA70PlJ7UYs_",
        "outputId": "0f0b71f7-6f2e-4ae6-d54d-130c187d78ec"
      },
      "outputs": [
        {
          "output_type": "execute_result",
          "data": {
            "text/plain": [
              "['chicken_curry',\n",
              " 'chicken_wings',\n",
              " 'fried_rice',\n",
              " 'grilled_salmon',\n",
              " 'hamburger',\n",
              " 'ice_cream',\n",
              " 'pizza',\n",
              " 'ramen',\n",
              " 'steak',\n",
              " 'sushi']"
            ]
          },
          "metadata": {},
          "execution_count": 8
        }
      ],
      "source": [
        "train_data_10_percent.class_names"
      ]
    },
    {
      "cell_type": "code",
      "execution_count": null,
      "metadata": {
        "colab": {
          "base_uri": "https://localhost:8080/"
        },
        "id": "jaXmCWYHU-PL",
        "outputId": "ae68bad7-58d5-4c84-d041-70884cea7cbd"
      },
      "outputs": [
        {
          "output_type": "stream",
          "name": "stdout",
          "text": [
            "tf.Tensor(\n",
            "[[[[ 21.505102    35.5051      44.5051    ]\n",
            "   [ 18.836735    32.836735    41.836735  ]\n",
            "   [ 22.265306    35.265305    44.265305  ]\n",
            "   ...\n",
            "   [ 41.800976    60.800976    93.80097   ]\n",
            "   [ 29.974485    48.974483    81.97449   ]\n",
            "   [ 35.586895    54.586895    87.5869    ]]\n",
            "\n",
            "  [[ 23.122448    35.127552    44.459183  ]\n",
            "   [ 32.005104    44.806126    53.87245   ]\n",
            "   [ 25.290817    37.647957    46.862244  ]\n",
            "   ...\n",
            "   [ 34.71424     53.07145     86.28571   ]\n",
            "   [ 32.928585    51.862247    85.061264  ]\n",
            "   [ 37.193985    55.193985    91.193985  ]]\n",
            "\n",
            "  [[ 21.852041    29.42347     42.637753  ]\n",
            "   [ 31.061224    39.030613    52.045918  ]\n",
            "   [ 27.62245     37.239796    49.545918  ]\n",
            "   ...\n",
            "   [ 32.88773     48.88773     84.459206  ]\n",
            "   [ 34.41326     51.770405    89.98469   ]\n",
            "   [ 29.800903    47.800903    86.22948   ]]\n",
            "\n",
            "  ...\n",
            "\n",
            "  [[ 12.147973     7.576501     1.790765  ]\n",
            "   [ 15.357208    10.785736     5.        ]\n",
            "   [ 13.           8.428528     4.214264  ]\n",
            "   ...\n",
            "   [  7.403117     3.831645     4.831645  ]\n",
            "   [  4.3725157    0.80104345   1.8010435 ]\n",
            "   [  5.92865      2.3571777    3.3571777 ]]\n",
            "\n",
            "  [[ 18.499973    13.499974     7.499974  ]\n",
            "   [ 17.132637    12.132637     6.1326375 ]\n",
            "   [ 12.586764     7.586764     2.0153356 ]\n",
            "   ...\n",
            "   [  9.142822     5.1428223    4.1428223 ]\n",
            "   [  6.           2.           1.        ]\n",
            "   [  6.           2.           1.        ]]\n",
            "\n",
            "  [[ 16.357212    11.357213     5.3572125 ]\n",
            "   [ 20.33177     15.33177      9.33177   ]\n",
            "   [ 18.76538     13.765381     8.193953  ]\n",
            "   ...\n",
            "   [  7.857086     1.8570862    1.8570862 ]\n",
            "   [  7.           1.           1.        ]\n",
            "   [  7.           1.           1.        ]]]\n",
            "\n",
            "\n",
            " [[[182.7143     168.7143     157.7143    ]\n",
            "   [186.47449    172.47449    161.47449   ]\n",
            "   [188.78572    174.78572    163.78572   ]\n",
            "   ...\n",
            "   [116.28571    109.50001     81.9286    ]\n",
            "   [118.47453    112.47453     86.47453   ]\n",
            "   [112.65818    108.65818     83.65818   ]]\n",
            "\n",
            "  [[184.2143     170.2143     157.2143    ]\n",
            "   [187.0051     173.0051     160.0051    ]\n",
            "   [189.57143    175.57143    162.57143   ]\n",
            "   ...\n",
            "   [118.         111.214294    85.64288   ]\n",
            "   [118.92859    112.92859     88.92859   ]\n",
            "   [113.38267    109.38267     84.38267   ]]\n",
            "\n",
            "  [[189.42857    175.78572    159.78572   ]\n",
            "   [189.2296     175.58673    159.58673   ]\n",
            "   [189.59694    175.95409    159.95409   ]\n",
            "   ...\n",
            "   [121.38266    113.81125     90.596954  ]\n",
            "   [123.658195   117.658195    93.658195  ]\n",
            "   [120.85205    116.85205     91.85205   ]]\n",
            "\n",
            "  ...\n",
            "\n",
            "  [[125.22456    111.58177     96.07152   ]\n",
            "   [117.80109    101.87251     85.658226  ]\n",
            "   [108.71938     93.38268     72.9796    ]\n",
            "   ...\n",
            "   [ 36.0918      26.188768    21.617388  ]\n",
            "   [ 34.51524     24.198963    21.785736  ]\n",
            "   [ 38.94901     28.22455     25.872545  ]]\n",
            "\n",
            "  [[119.69381    106.69381     89.69381   ]\n",
            "   [124.43877    109.43877     90.43877   ]\n",
            "   [110.158165    95.158165    74.58674   ]\n",
            "   ...\n",
            "   [ 39.443897    29.413279    27.642883  ]\n",
            "   [ 41.86735     31.857147    30.86225   ]\n",
            "   [ 39.479557    29.428528    28.596926  ]]\n",
            "\n",
            "  [[111.10191     98.10191     80.84679   ]\n",
            "   [117.484566   104.55599     85.34171   ]\n",
            "   [111.97974     97.62259     76.40831   ]\n",
            "   ...\n",
            "   [ 38.33672     25.132563    25.775446  ]\n",
            "   [ 38.709126    25.499878    27.90296   ]\n",
            "   [ 39.806297    26.046017    28.632776  ]]]\n",
            "\n",
            "\n",
            " [[[  0.           0.           0.        ]\n",
            "   [  0.           0.           0.        ]\n",
            "   [  0.           0.           0.        ]\n",
            "   ...\n",
            "   [  0.           0.           0.        ]\n",
            "   [  0.           0.           0.        ]\n",
            "   [  0.           0.           0.        ]]\n",
            "\n",
            "  [[  0.           0.           0.        ]\n",
            "   [  0.           0.           0.        ]\n",
            "   [  0.           0.           0.        ]\n",
            "   ...\n",
            "   [  0.           0.           0.        ]\n",
            "   [  0.           0.           0.        ]\n",
            "   [  0.           0.           0.        ]]\n",
            "\n",
            "  [[  0.           0.           0.        ]\n",
            "   [  0.           0.           0.        ]\n",
            "   [  0.           0.           0.        ]\n",
            "   ...\n",
            "   [  0.           0.           0.        ]\n",
            "   [  0.           0.           0.        ]\n",
            "   [  0.           0.           0.        ]]\n",
            "\n",
            "  ...\n",
            "\n",
            "  [[  0.           0.           0.        ]\n",
            "   [  0.           0.           0.        ]\n",
            "   [  0.           0.           0.        ]\n",
            "   ...\n",
            "   [  0.           0.           0.        ]\n",
            "   [  0.           0.           0.        ]\n",
            "   [  0.           0.           0.        ]]\n",
            "\n",
            "  [[  0.           0.           0.        ]\n",
            "   [  0.           0.           0.        ]\n",
            "   [  0.           0.           0.        ]\n",
            "   ...\n",
            "   [  0.           0.           0.        ]\n",
            "   [  0.           0.           0.        ]\n",
            "   [  0.           0.           0.        ]]\n",
            "\n",
            "  [[  0.           0.           0.        ]\n",
            "   [  0.           0.           0.        ]\n",
            "   [  0.           0.           0.        ]\n",
            "   ...\n",
            "   [  0.           0.           0.        ]\n",
            "   [  0.           0.           0.        ]\n",
            "   [  0.           0.           0.        ]]]\n",
            "\n",
            "\n",
            " ...\n",
            "\n",
            "\n",
            " [[[191.84184    161.84184    124.55612   ]\n",
            "   [191.59694    162.52551    120.811226  ]\n",
            "   [196.21939    165.21939    119.21938   ]\n",
            "   ...\n",
            "   [ 46.2039      23.045761    20.76514   ]\n",
            "   [ 37.52049     18.591932    14.591932  ]\n",
            "   [ 42.045708    25.805979    21.219221  ]]\n",
            "\n",
            "  [[192.92857    162.92857    125.64286   ]\n",
            "   [194.85715    165.85205    124.0051    ]\n",
            "   [195.57143    164.57143    120.03061   ]\n",
            "   ...\n",
            "   [ 45.765404    19.90826     18.836832  ]\n",
            "   [ 50.04072     26.464228    24.321358  ]\n",
            "   [ 36.923428    16.117308    11.020367  ]]\n",
            "\n",
            "  [[192.70918    163.64285    124.20408   ]\n",
            "   [191.7551     162.7551     120.89796   ]\n",
            "   [191.23979    161.81122    117.47449   ]\n",
            "   ...\n",
            "   [ 50.663387    20.403189    20.112358  ]\n",
            "   [ 45.918312    17.688757    14.831602  ]\n",
            "   [ 45.188774    17.755196    14.612305  ]]\n",
            "\n",
            "  ...\n",
            "\n",
            "  [[ 60.6633      26.224539    20.372448  ]\n",
            "   [ 62.801147    22.484781    18.142965  ]\n",
            "   [ 78.89835     30.32684     25.280949  ]\n",
            "   ...\n",
            "   [ 16.739826    11.739827    15.739827  ]\n",
            "   [ 15.857117    10.857117    14.857117  ]\n",
            "   [ 13.214264     8.214264    12.214264  ]]\n",
            "\n",
            "  [[ 71.255226    25.60715     20.755135  ]\n",
            "   [ 88.52562     41.229664    35.306183  ]\n",
            "   [ 94.52029     46.265224    36.249874  ]\n",
            "   ...\n",
            "   [ 18.142822    13.142822    17.142822  ]\n",
            "   [ 13.928558     8.928558    12.928558  ]\n",
            "   [ 15.688838    10.688838    14.688838  ]]\n",
            "\n",
            "  [[ 93.658325    27.51533     28.229649  ]\n",
            "   [ 98.91318     42.79065     37.38752   ]\n",
            "   [ 81.8878      39.112305    25.45412   ]\n",
            "   ...\n",
            "   [ 18.34703     13.347031    17.34703   ]\n",
            "   [ 17.663412    12.663412    16.663412  ]\n",
            "   [ 15.816381    10.816381    14.816381  ]]]\n",
            "\n",
            "\n",
            " [[[165.84694    160.84694    104.84694   ]\n",
            "   [166.42857    161.42857    106.42857   ]\n",
            "   [165.56633    157.56633    108.9949    ]\n",
            "   ...\n",
            "   [206.42859    208.21432    169.00006   ]\n",
            "   [206.28572    207.28572    175.28572   ]\n",
            "   [207.54085    207.54085    179.54085   ]]\n",
            "\n",
            "  [[169.02551    164.02551    109.025505  ]\n",
            "   [164.06633    157.06633    103.06632   ]\n",
            "   [167.62755    159.18367    110.22959   ]\n",
            "   ...\n",
            "   [205.28569    206.87247    169.51535   ]\n",
            "   [209.06635    210.06635    178.06635   ]\n",
            "   [208.31116    208.90807    179.11734   ]]\n",
            "\n",
            "  [[168.86734    162.86734    104.01021   ]\n",
            "   [170.85715    164.42857    105.57143   ]\n",
            "   [168.59694    159.38264    103.09694   ]\n",
            "   ...\n",
            "   [204.38263    205.78574    169.16841   ]\n",
            "   [206.78572    207.78572    175.78572   ]\n",
            "   [206.58162    207.58162    176.58162   ]]\n",
            "\n",
            "  ...\n",
            "\n",
            "  [[188.48975    190.20912    128.051     ]\n",
            "   [184.30095    189.30095    123.44381   ]\n",
            "   [186.5204     191.5204     124.5204    ]\n",
            "   ...\n",
            "   [216.21426    215.66328    163.40312   ]\n",
            "   [214.12752    214.14282    161.5561    ]\n",
            "   [212.21426    212.42853    157.78574   ]]\n",
            "\n",
            "  [[192.16325    193.16325    133.96939   ]\n",
            "   [189.86224    194.72449    131.14798   ]\n",
            "   [183.15814    188.15814    121.95916   ]\n",
            "   ...\n",
            "   [214.42853    214.         163.78574   ]\n",
            "   [214.14288    214.14288    164.14288   ]\n",
            "   [212.73978    215.07144    164.07646   ]]\n",
            "\n",
            "  [[188.11223    189.11223    131.69899   ]\n",
            "   [186.40303    190.40303    129.54588   ]\n",
            "   [183.6379     188.6379     122.637886  ]\n",
            "   ...\n",
            "   [213.36214    212.14787    163.93361   ]\n",
            "   [212.14288    214.14288    165.14288   ]\n",
            "   [214.         216.         167.        ]]]\n",
            "\n",
            "\n",
            " [[[ 44.160397    36.74426     21.278381  ]\n",
            "   [ 42.74139     35.74139     19.027105  ]\n",
            "   [ 45.77264     37.518494    20.040817  ]\n",
            "   ...\n",
            "   [  7.           6.          12.473267  ]\n",
            "   [  6.6635766    5.6635766   13.663576  ]\n",
            "   [  7.4161463    5.4161463   18.416147  ]]\n",
            "\n",
            "  [[ 20.733736     9.876592     6.8140926 ]\n",
            "   [ 35.13935     24.210777    19.741709  ]\n",
            "   [ 48.06505     35.609695    27.797194  ]\n",
            "   ...\n",
            "   [  7.780269     6.780269    13.253535  ]\n",
            "   [  7.0041437    5.129442    15.753547  ]\n",
            "   [  7.0462384    5.0462384   17.391296  ]]\n",
            "\n",
            "  [[ 17.7736       2.8364174    0.27742362]\n",
            "   [ 20.063778     4.849492     0.31919712]\n",
            "   [ 39.083866    22.506378    13.079399  ]\n",
            "   ...\n",
            "   [  6.9776525    5.5774407   14.778076  ]\n",
            "   [  5.2723       3.2722998   14.2723    ]\n",
            "   [  5.           3.          14.        ]]\n",
            "\n",
            "  ...\n",
            "\n",
            "  [[249.56694    236.42824    204.29012   ]\n",
            "   [250.98756    237.78574    206.30002   ]\n",
            "   [250.78574    237.62216    205.74104   ]\n",
            "   ...\n",
            "   [232.24435    194.53445    112.66375   ]\n",
            "   [233.51346    192.7733     100.44544   ]\n",
            "   [231.04526    188.90656     87.33447   ]]\n",
            "\n",
            "  [[247.57588    235.57588    197.38261   ]\n",
            "   [247.97319    235.97319    197.8303    ]\n",
            "   [251.43843    239.43843    201.29555   ]\n",
            "   ...\n",
            "   [230.3457     195.59818    123.28204   ]\n",
            "   [231.         193.12946    108.82132   ]\n",
            "   [231.68013    191.30641     98.37654   ]]\n",
            "\n",
            "  [[246.16869    234.75256    191.0009    ]\n",
            "   [243.7589     232.11607    189.04454   ]\n",
            "   [248.6964     236.7809     196.05415   ]\n",
            "   ...\n",
            "   [237.20506    201.15657    140.06238   ]\n",
            "   [236.3779     198.41519    124.556366  ]\n",
            "   [233.15872    192.82677    110.40968   ]]]], shape=(32, 224, 224, 3), dtype=float32) tf.Tensor(\n",
            "[[0. 0. 1. 0. 0. 0. 0. 0. 0. 0.]\n",
            " [0. 1. 0. 0. 0. 0. 0. 0. 0. 0.]\n",
            " [0. 0. 0. 0. 0. 0. 0. 0. 0. 1.]\n",
            " [0. 1. 0. 0. 0. 0. 0. 0. 0. 0.]\n",
            " [1. 0. 0. 0. 0. 0. 0. 0. 0. 0.]\n",
            " [0. 0. 0. 0. 0. 1. 0. 0. 0. 0.]\n",
            " [0. 0. 0. 0. 0. 0. 0. 1. 0. 0.]\n",
            " [1. 0. 0. 0. 0. 0. 0. 0. 0. 0.]\n",
            " [0. 0. 0. 0. 0. 0. 1. 0. 0. 0.]\n",
            " [0. 0. 0. 1. 0. 0. 0. 0. 0. 0.]\n",
            " [0. 0. 0. 1. 0. 0. 0. 0. 0. 0.]\n",
            " [0. 0. 0. 0. 0. 0. 0. 0. 0. 1.]\n",
            " [0. 0. 0. 1. 0. 0. 0. 0. 0. 0.]\n",
            " [0. 0. 0. 1. 0. 0. 0. 0. 0. 0.]\n",
            " [0. 0. 0. 0. 0. 0. 0. 0. 1. 0.]\n",
            " [0. 0. 0. 0. 1. 0. 0. 0. 0. 0.]\n",
            " [0. 0. 0. 0. 1. 0. 0. 0. 0. 0.]\n",
            " [0. 0. 0. 1. 0. 0. 0. 0. 0. 0.]\n",
            " [0. 1. 0. 0. 0. 0. 0. 0. 0. 0.]\n",
            " [0. 0. 0. 0. 0. 0. 0. 1. 0. 0.]\n",
            " [0. 1. 0. 0. 0. 0. 0. 0. 0. 0.]\n",
            " [1. 0. 0. 0. 0. 0. 0. 0. 0. 0.]\n",
            " [1. 0. 0. 0. 0. 0. 0. 0. 0. 0.]\n",
            " [0. 0. 0. 0. 1. 0. 0. 0. 0. 0.]\n",
            " [0. 0. 0. 0. 0. 0. 0. 1. 0. 0.]\n",
            " [0. 0. 0. 0. 0. 0. 0. 0. 0. 1.]\n",
            " [0. 0. 0. 0. 1. 0. 0. 0. 0. 0.]\n",
            " [0. 0. 0. 0. 0. 1. 0. 0. 0. 0.]\n",
            " [0. 0. 0. 0. 0. 0. 0. 0. 0. 1.]\n",
            " [0. 0. 0. 1. 0. 0. 0. 0. 0. 0.]\n",
            " [0. 0. 0. 0. 0. 0. 0. 1. 0. 0.]\n",
            " [0. 0. 0. 0. 0. 0. 0. 0. 0. 1.]], shape=(32, 10), dtype=float32)\n"
          ]
        }
      ],
      "source": [
        "# See an example of a batch data\n",
        "for images, labels in train_data_10_percent.take(1):\n",
        "  print(images, labels)"
      ]
    },
    {
      "cell_type": "markdown",
      "metadata": {
        "id": "nadrdzhfVT14"
      },
      "source": [
        "## Model 0: Creating a feature extraction model using TF Functional API"
      ]
    },
    {
      "cell_type": "code",
      "execution_count": null,
      "metadata": {
        "colab": {
          "base_uri": "https://localhost:8080/"
        },
        "id": "rs-ZvUIbyjqp",
        "outputId": "c6a4301e-4c81-4f0a-9cac-0a701d38d4a8"
      },
      "outputs": [
        {
          "output_type": "stream",
          "name": "stdout",
          "text": [
            "Downloading data from https://storage.googleapis.com/tensorflow/keras-applications/efficientnet_v2/efficientnetv2-b0_notop.h5\n",
            "24281088/24274472 [==============================] - 1s 0us/step\n",
            "24289280/24274472 [==============================] - 1s 0us/step\n",
            "Shape after passing inputs into the model: (None, 7, 7, 1280)\n",
            "Shape after GlobalAveragePooling2D: (None, 1280)\n",
            "Saving TensorBoard log files to: Tensorboard/EfficientNetV2/20220810-043635\n",
            "Epoch 1/5\n",
            "24/24 [==============================] - 222s 8s/step - loss: 1.9188 - accuracy: 0.3933 - val_loss: 1.3487 - val_accuracy: 0.7072\n",
            "Epoch 2/5\n",
            "24/24 [==============================] - 180s 8s/step - loss: 1.1226 - accuracy: 0.7573 - val_loss: 0.8928 - val_accuracy: 0.8032\n",
            "Epoch 3/5\n",
            "24/24 [==============================] - 158s 7s/step - loss: 0.8089 - accuracy: 0.8240 - val_loss: 0.7144 - val_accuracy: 0.8336\n",
            "Epoch 4/5\n",
            "24/24 [==============================] - 159s 7s/step - loss: 0.6463 - accuracy: 0.8560 - val_loss: 0.6207 - val_accuracy: 0.8476\n",
            "Epoch 5/5\n",
            "24/24 [==============================] - 179s 8s/step - loss: 0.5507 - accuracy: 0.8760 - val_loss: 0.5640 - val_accuracy: 0.8540\n"
          ]
        }
      ],
      "source": [
        "# 1. Create a base model using tf.keras.applications\n",
        "base_model = tf.keras.applications.efficientnet_v2.EfficientNetV2B0(include_top=False)\n",
        "\n",
        "# 2. Freeze the base model\n",
        "base_model.trainable = False\n",
        "\n",
        "# 3. Create inputs into the model\n",
        "inputs = tf.keras.layers.Input(shape = (224, 224, 3), name = \"input_layer\")\n",
        "\n",
        "# 4. If using ResNet50V2, need to normalize the inputs. EfficientNet has rescaling in-built\n",
        "# x = tf.keras.layers.experimental.preprocessing.Rescaling(1/255.)(inputs)\n",
        "\n",
        "# 5. Pass the inputs to the base model\n",
        "x = base_model(inputs)\n",
        "print(f\"Shape after passing inputs into the model: {x.shape}\")\n",
        "\n",
        "# 6. Average Pool the outputs of the base model\n",
        "x = tf.keras.layers.GlobalAveragePooling2D(name = 'global_average_pooling_layer')(x)\n",
        "print(f\"Shape after GlobalAveragePooling2D: {x.shape}\")\n",
        "\n",
        "# 7. Create the output activation layer\n",
        "outputs = tf.keras.layers.Dense(10, activation = \"softmax\", name = \"output_layer\")(x)\n",
        "\n",
        "# 8. Combine the inputs with the outputs into the model\n",
        "model_0 = tf.keras.Model(inputs, outputs)\n",
        "\n",
        "# 9. Compile the model\n",
        "model_0.compile(loss = \"categorical_crossentropy\",\n",
        "                optimizer = tf.keras.optimizers.Adam(),\n",
        "                metrics = [\"accuracy\"])\n",
        "\n",
        "history_0 = model_0.fit(train_data_10_percent,\n",
        "                        epochs = 5,\n",
        "                        steps_per_epoch = len(train_data_10_percent),\n",
        "                        validation_data = test_data,\n",
        "                        validation_steps = len(test_data),\n",
        "                        callbacks = [create_tensorboard_callback(dir_name = \"Tensorboard\",\n",
        "                                                                experiment_name = \"EfficientNetV2\")])"
      ]
    },
    {
      "cell_type": "code",
      "execution_count": null,
      "metadata": {
        "colab": {
          "base_uri": "https://localhost:8080/",
          "height": 573
        },
        "id": "PijIOOtKzx2f",
        "outputId": "ba8d6320-87ac-4102-ca68-7a4f458b1d9c"
      },
      "outputs": [
        {
          "output_type": "display_data",
          "data": {
            "text/plain": [
              "<Figure size 432x288 with 1 Axes>"
            ],
            "image/png": "[encoded data removed]"
          },
          "metadata": {
            "needs_background": "light"
          }
        },
        {
          "output_type": "display_data",
          "data": {
            "text/plain": [
              "<Figure size 432x288 with 1 Axes>"
            ],
            "image/png": "[encoded data removed]"
          },
          "metadata": {
            "needs_background": "light"
          }
        }
      ],
      "source": [
        "plot_loss_curves(history_0)"
      ]
    },
    {
      "cell_type": "code",
      "execution_count": null,
      "metadata": {
        "colab": {
          "base_uri": "https://localhost:8080/"
        },
        "id": "e5E_CRGC2ITz",
        "outputId": "302edc10-ce64-406c-d1c5-7cd123190e26"
      },
      "outputs": [
        {
          "output_type": "stream",
          "name": "stdout",
          "text": [
            "0 input_1\n",
            "1 rescaling\n",
            "2 normalization\n",
            "3 stem_conv\n",
            "4 stem_bn\n",
            "5 stem_activation\n",
            "6 block1a_project_conv\n",
            "7 block1a_project_bn\n",
            "8 block1a_project_activation\n",
            "9 block2a_expand_conv\n",
            "10 block2a_expand_bn\n",
            "11 block2a_expand_activation\n",
            "12 block2a_project_conv\n",
            "13 block2a_project_bn\n",
            "14 block2b_expand_conv\n",
            "15 block2b_expand_bn\n",
            "16 block2b_expand_activation\n",
            "17 block2b_project_conv\n",
            "18 block2b_project_bn\n",
            "19 block2b_add\n",
            "20 block3a_expand_conv\n",
            "21 block3a_expand_bn\n",
            "22 block3a_expand_activation\n",
            "23 block3a_project_conv\n",
            "24 block3a_project_bn\n",
            "25 block3b_expand_conv\n",
            "26 block3b_expand_bn\n",
            "27 block3b_expand_activation\n",
            "28 block3b_project_conv\n",
            "29 block3b_project_bn\n",
            "30 block3b_add\n",
            "31 block4a_expand_conv\n",
            "32 block4a_expand_bn\n",
            "33 block4a_expand_activation\n",
            "34 block4a_dwconv2\n",
            "35 block4a_bn\n",
            "36 block4a_activation\n",
            "37 block4a_se_squeeze\n",
            "38 block4a_se_reshape\n",
            "39 block4a_se_reduce\n",
            "40 block4a_se_expand\n",
            "41 block4a_se_excite\n",
            "42 block4a_project_conv\n",
            "43 block4a_project_bn\n",
            "44 block4b_expand_conv\n",
            "45 block4b_expand_bn\n",
            "46 block4b_expand_activation\n",
            "47 block4b_dwconv2\n",
            "48 block4b_bn\n",
            "49 block4b_activation\n",
            "50 block4b_se_squeeze\n",
            "51 block4b_se_reshape\n",
            "52 block4b_se_reduce\n",
            "53 block4b_se_expand\n",
            "54 block4b_se_excite\n",
            "55 block4b_project_conv\n",
            "56 block4b_project_bn\n",
            "57 block4b_add\n",
            "58 block4c_expand_conv\n",
            "59 block4c_expand_bn\n",
            "60 block4c_expand_activation\n",
            "61 block4c_dwconv2\n",
            "62 block4c_bn\n",
            "63 block4c_activation\n",
            "64 block4c_se_squeeze\n",
            "65 block4c_se_reshape\n",
            "66 block4c_se_reduce\n",
            "67 block4c_se_expand\n",
            "68 block4c_se_excite\n",
            "69 block4c_project_conv\n",
            "70 block4c_project_bn\n",
            "71 block4c_add\n",
            "72 block5a_expand_conv\n",
            "73 block5a_expand_bn\n",
            "74 block5a_expand_activation\n",
            "75 block5a_dwconv2\n",
            "76 block5a_bn\n",
            "77 block5a_activation\n",
            "78 block5a_se_squeeze\n",
            "79 block5a_se_reshape\n",
            "80 block5a_se_reduce\n",
            "81 block5a_se_expand\n",
            "82 block5a_se_excite\n",
            "83 block5a_project_conv\n",
            "84 block5a_project_bn\n",
            "85 block5b_expand_conv\n",
            "86 block5b_expand_bn\n",
            "87 block5b_expand_activation\n",
            "88 block5b_dwconv2\n",
            "89 block5b_bn\n",
            "90 block5b_activation\n",
            "91 block5b_se_squeeze\n",
            "92 block5b_se_reshape\n",
            "93 block5b_se_reduce\n",
            "94 block5b_se_expand\n",
            "95 block5b_se_excite\n",
            "96 block5b_project_conv\n",
            "97 block5b_project_bn\n",
            "98 block5b_add\n",
            "99 block5c_expand_conv\n",
            "100 block5c_expand_bn\n",
            "101 block5c_expand_activation\n",
            "102 block5c_dwconv2\n",
            "103 block5c_bn\n",
            "104 block5c_activation\n",
            "105 block5c_se_squeeze\n",
            "106 block5c_se_reshape\n",
            "107 block5c_se_reduce\n",
            "108 block5c_se_expand\n",
            "109 block5c_se_excite\n",
            "110 block5c_project_conv\n",
            "111 block5c_project_bn\n",
            "112 block5c_add\n",
            "113 block5d_expand_conv\n",
            "114 block5d_expand_bn\n",
            "115 block5d_expand_activation\n",
            "116 block5d_dwconv2\n",
            "117 block5d_bn\n",
            "118 block5d_activation\n",
            "119 block5d_se_squeeze\n",
            "120 block5d_se_reshape\n",
            "121 block5d_se_reduce\n",
            "122 block5d_se_expand\n",
            "123 block5d_se_excite\n",
            "124 block5d_project_conv\n",
            "125 block5d_project_bn\n",
            "126 block5d_add\n",
            "127 block5e_expand_conv\n",
            "128 block5e_expand_bn\n",
            "129 block5e_expand_activation\n",
            "130 block5e_dwconv2\n",
            "131 block5e_bn\n",
            "132 block5e_activation\n",
            "133 block5e_se_squeeze\n",
            "134 block5e_se_reshape\n",
            "135 block5e_se_reduce\n",
            "136 block5e_se_expand\n",
            "137 block5e_se_excite\n",
            "138 block5e_project_conv\n",
            "139 block5e_project_bn\n",
            "140 block5e_add\n",
            "141 block6a_expand_conv\n",
            "142 block6a_expand_bn\n",
            "143 block6a_expand_activation\n",
            "144 block6a_dwconv2\n",
            "145 block6a_bn\n",
            "146 block6a_activation\n",
            "147 block6a_se_squeeze\n",
            "148 block6a_se_reshape\n",
            "149 block6a_se_reduce\n",
            "150 block6a_se_expand\n",
            "151 block6a_se_excite\n",
            "152 block6a_project_conv\n",
            "153 block6a_project_bn\n",
            "154 block6b_expand_conv\n",
            "155 block6b_expand_bn\n",
            "156 block6b_expand_activation\n",
            "157 block6b_dwconv2\n",
            "158 block6b_bn\n",
            "159 block6b_activation\n",
            "160 block6b_se_squeeze\n",
            "161 block6b_se_reshape\n",
            "162 block6b_se_reduce\n",
            "163 block6b_se_expand\n",
            "164 block6b_se_excite\n",
            "165 block6b_project_conv\n",
            "166 block6b_project_bn\n",
            "167 block6b_add\n",
            "168 block6c_expand_conv\n",
            "169 block6c_expand_bn\n",
            "170 block6c_expand_activation\n",
            "171 block6c_dwconv2\n",
            "172 block6c_bn\n",
            "173 block6c_activation\n",
            "174 block6c_se_squeeze\n",
            "175 block6c_se_reshape\n",
            "176 block6c_se_reduce\n",
            "177 block6c_se_expand\n",
            "178 block6c_se_excite\n",
            "179 block6c_project_conv\n",
            "180 block6c_project_bn\n",
            "181 block6c_add\n",
            "182 block6d_expand_conv\n",
            "183 block6d_expand_bn\n",
            "184 block6d_expand_activation\n",
            "185 block6d_dwconv2\n",
            "186 block6d_bn\n",
            "187 block6d_activation\n",
            "188 block6d_se_squeeze\n",
            "189 block6d_se_reshape\n",
            "190 block6d_se_reduce\n",
            "191 block6d_se_expand\n",
            "192 block6d_se_excite\n",
            "193 block6d_project_conv\n",
            "194 block6d_project_bn\n",
            "195 block6d_add\n",
            "196 block6e_expand_conv\n",
            "197 block6e_expand_bn\n",
            "198 block6e_expand_activation\n",
            "199 block6e_dwconv2\n",
            "200 block6e_bn\n",
            "201 block6e_activation\n",
            "202 block6e_se_squeeze\n",
            "203 block6e_se_reshape\n",
            "204 block6e_se_reduce\n",
            "205 block6e_se_expand\n",
            "206 block6e_se_excite\n",
            "207 block6e_project_conv\n",
            "208 block6e_project_bn\n",
            "209 block6e_add\n",
            "210 block6f_expand_conv\n",
            "211 block6f_expand_bn\n",
            "212 block6f_expand_activation\n",
            "213 block6f_dwconv2\n",
            "214 block6f_bn\n",
            "215 block6f_activation\n",
            "216 block6f_se_squeeze\n",
            "217 block6f_se_reshape\n",
            "218 block6f_se_reduce\n",
            "219 block6f_se_expand\n",
            "220 block6f_se_excite\n",
            "221 block6f_project_conv\n",
            "222 block6f_project_bn\n",
            "223 block6f_add\n",
            "224 block6g_expand_conv\n",
            "225 block6g_expand_bn\n",
            "226 block6g_expand_activation\n",
            "227 block6g_dwconv2\n",
            "228 block6g_bn\n",
            "229 block6g_activation\n",
            "230 block6g_se_squeeze\n",
            "231 block6g_se_reshape\n",
            "232 block6g_se_reduce\n",
            "233 block6g_se_expand\n",
            "234 block6g_se_excite\n",
            "235 block6g_project_conv\n",
            "236 block6g_project_bn\n",
            "237 block6g_add\n",
            "238 block6h_expand_conv\n",
            "239 block6h_expand_bn\n",
            "240 block6h_expand_activation\n",
            "241 block6h_dwconv2\n",
            "242 block6h_bn\n",
            "243 block6h_activation\n",
            "244 block6h_se_squeeze\n",
            "245 block6h_se_reshape\n",
            "246 block6h_se_reduce\n",
            "247 block6h_se_expand\n",
            "248 block6h_se_excite\n",
            "249 block6h_project_conv\n",
            "250 block6h_project_bn\n",
            "251 block6h_add\n",
            "252 top_conv\n",
            "253 top_bn\n",
            "254 top_activation\n"
          ]
        }
      ],
      "source": [
        "# Check the layers in the base model\n",
        "for layer_number, layer in enumerate(base_model.layers):\n",
        "  print(layer_number, layer.name)"
      ]
    },
    {
      "cell_type": "code",
      "execution_count": null,
      "metadata": {
        "colab": {
          "base_uri": "https://localhost:8080/"
        },
        "id": "byZFCo8G7PIM",
        "outputId": "6028a58e-3d8c-4260-d2b3-2a935f16a97a"
      },
      "outputs": [
        {
          "output_type": "stream",
          "name": "stdout",
          "text": [
            "Model: \"efficientnetv2-b0\"\n",
            "__________________________________________________________________________________________________\n",
            " Layer (type)                   Output Shape         Param #     Connected to                     \n",
            "==================================================================================================\n",
            " input_1 (InputLayer)           [(None, None, None,  0           []                               \n",
            "                                 3)]                                                              \n",
            "                                                                                                  \n",
            " rescaling (Rescaling)          (None, None, None,   0           ['input_1[0][0]']                \n",
            "                                3)                                                                \n",
            "                                                                                                  \n",
            " normalization (Normalization)  (None, None, None,   0           ['rescaling[0][0]']              \n",
            "                                3)                                                                \n",
            "                                                                                                  \n",
            " stem_conv (Conv2D)             (None, None, None,   864         ['normalization[0][0]']          \n",
            "                                32)                                                               \n",
            "                                                                                                  \n",
            " stem_bn (BatchNormalization)   (None, None, None,   128         ['stem_conv[0][0]']              \n",
            "                                32)                                                               \n",
            "                                                                                                  \n",
            " stem_activation (Activation)   (None, None, None,   0           ['stem_bn[0][0]']                \n",
            "                                32)                                                               \n",
            "                                                                                                  \n",
            " block1a_project_conv (Conv2D)  (None, None, None,   4608        ['stem_activation[0][0]']        \n",
            "                                16)                                                               \n",
            "                                                                                                  \n",
            " block1a_project_bn (BatchNorma  (None, None, None,   64         ['block1a_project_conv[0][0]']   \n",
            " lization)                      16)                                                               \n",
            "                                                                                                  \n",
            " block1a_project_activation (Ac  (None, None, None,   0          ['block1a_project_bn[0][0]']     \n",
            " tivation)                      16)                                                               \n",
            "                                                                                                  \n",
            " block2a_expand_conv (Conv2D)   (None, None, None,   9216        ['block1a_project_activation[0][0\n",
            "                                64)                              ]']                              \n",
            "                                                                                                  \n",
            " block2a_expand_bn (BatchNormal  (None, None, None,   256        ['block2a_expand_conv[0][0]']    \n",
            " ization)                       64)                                                               \n",
            "                                                                                                  \n",
            " block2a_expand_activation (Act  (None, None, None,   0          ['block2a_expand_bn[0][0]']      \n",
            " ivation)                       64)                                                               \n",
            "                                                                                                  \n",
            " block2a_project_conv (Conv2D)  (None, None, None,   2048        ['block2a_expand_activation[0][0]\n",
            "                                32)                              ']                               \n",
            "                                                                                                  \n",
            " block2a_project_bn (BatchNorma  (None, None, None,   128        ['block2a_project_conv[0][0]']   \n",
            " lization)                      32)                                                               \n",
            "                                                                                                  \n",
            " block2b_expand_conv (Conv2D)   (None, None, None,   36864       ['block2a_project_bn[0][0]']     \n",
            "                                128)                                                              \n",
            "                                                                                                  \n",
            " block2b_expand_bn (BatchNormal  (None, None, None,   512        ['block2b_expand_conv[0][0]']    \n",
            " ization)                       128)                                                              \n",
            "                                                                                                  \n",
            " block2b_expand_activation (Act  (None, None, None,   0          ['block2b_expand_bn[0][0]']      \n",
            " ivation)                       128)                                                              \n",
            "                                                                                                  \n",
            " block2b_project_conv (Conv2D)  (None, None, None,   4096        ['block2b_expand_activation[0][0]\n",
            "                                32)                              ']                               \n",
            "                                                                                                  \n",
            " block2b_project_bn (BatchNorma  (None, None, None,   128        ['block2b_project_conv[0][0]']   \n",
            " lization)                      32)                                                               \n",
            "                                                                                                  \n",
            " block2b_add (Add)              (None, None, None,   0           ['block2b_project_bn[0][0]',     \n",
            "                                32)                               'block2a_project_bn[0][0]']     \n",
            "                                                                                                  \n",
            " block3a_expand_conv (Conv2D)   (None, None, None,   36864       ['block2b_add[0][0]']            \n",
            "                                128)                                                              \n",
            "                                                                                                  \n",
            " block3a_expand_bn (BatchNormal  (None, None, None,   512        ['block3a_expand_conv[0][0]']    \n",
            " ization)                       128)                                                              \n",
            "                                                                                                  \n",
            " block3a_expand_activation (Act  (None, None, None,   0          ['block3a_expand_bn[0][0]']      \n",
            " ivation)                       128)                                                              \n",
            "                                                                                                  \n",
            " block3a_project_conv (Conv2D)  (None, None, None,   6144        ['block3a_expand_activation[0][0]\n",
            "                                48)                              ']                               \n",
            "                                                                                                  \n",
            " block3a_project_bn (BatchNorma  (None, None, None,   192        ['block3a_project_conv[0][0]']   \n",
            " lization)                      48)                                                               \n",
            "                                                                                                  \n",
            " block3b_expand_conv (Conv2D)   (None, None, None,   82944       ['block3a_project_bn[0][0]']     \n",
            "                                192)                                                              \n",
            "                                                                                                  \n",
            " block3b_expand_bn (BatchNormal  (None, None, None,   768        ['block3b_expand_conv[0][0]']    \n",
            " ization)                       192)                                                              \n",
            "                                                                                                  \n",
            " block3b_expand_activation (Act  (None, None, None,   0          ['block3b_expand_bn[0][0]']      \n",
            " ivation)                       192)                                                              \n",
            "                                                                                                  \n",
            " block3b_project_conv (Conv2D)  (None, None, None,   9216        ['block3b_expand_activation[0][0]\n",
            "                                48)                              ']                               \n",
            "                                                                                                  \n",
            " block3b_project_bn (BatchNorma  (None, None, None,   192        ['block3b_project_conv[0][0]']   \n",
            " lization)                      48)                                                               \n",
            "                                                                                                  \n",
            " block3b_add (Add)              (None, None, None,   0           ['block3b_project_bn[0][0]',     \n",
            "                                48)                               'block3a_project_bn[0][0]']     \n",
            "                                                                                                  \n",
            " block4a_expand_conv (Conv2D)   (None, None, None,   9216        ['block3b_add[0][0]']            \n",
            "                                192)                                                              \n",
            "                                                                                                  \n",
            " block4a_expand_bn (BatchNormal  (None, None, None,   768        ['block4a_expand_conv[0][0]']    \n",
            " ization)                       192)                                                              \n",
            "                                                                                                  \n",
            " block4a_expand_activation (Act  (None, None, None,   0          ['block4a_expand_bn[0][0]']      \n",
            " ivation)                       192)                                                              \n",
            "                                                                                                  \n",
            " block4a_dwconv2 (DepthwiseConv  (None, None, None,   1728       ['block4a_expand_activation[0][0]\n",
            " 2D)                            192)                             ']                               \n",
            "                                                                                                  \n",
            " block4a_bn (BatchNormalization  (None, None, None,   768        ['block4a_dwconv2[0][0]']        \n",
            " )                              192)                                                              \n",
            "                                                                                                  \n",
            " block4a_activation (Activation  (None, None, None,   0          ['block4a_bn[0][0]']             \n",
            " )                              192)                                                              \n",
            "                                                                                                  \n",
            " block4a_se_squeeze (GlobalAver  (None, 192)         0           ['block4a_activation[0][0]']     \n",
            " agePooling2D)                                                                                    \n",
            "                                                                                                  \n",
            " block4a_se_reshape (Reshape)   (None, 1, 1, 192)    0           ['block4a_se_squeeze[0][0]']     \n",
            "                                                                                                  \n",
            " block4a_se_reduce (Conv2D)     (None, 1, 1, 12)     2316        ['block4a_se_reshape[0][0]']     \n",
            "                                                                                                  \n",
            " block4a_se_expand (Conv2D)     (None, 1, 1, 192)    2496        ['block4a_se_reduce[0][0]']      \n",
            "                                                                                                  \n",
            " block4a_se_excite (Multiply)   (None, None, None,   0           ['block4a_activation[0][0]',     \n",
            "                                192)                              'block4a_se_expand[0][0]']      \n",
            "                                                                                                  \n",
            " block4a_project_conv (Conv2D)  (None, None, None,   18432       ['block4a_se_excite[0][0]']      \n",
            "                                96)                                                               \n",
            "                                                                                                  \n",
            " block4a_project_bn (BatchNorma  (None, None, None,   384        ['block4a_project_conv[0][0]']   \n",
            " lization)                      96)                                                               \n",
            "                                                                                                  \n",
            " block4b_expand_conv (Conv2D)   (None, None, None,   36864       ['block4a_project_bn[0][0]']     \n",
            "                                384)                                                              \n",
            "                                                                                                  \n",
            " block4b_expand_bn (BatchNormal  (None, None, None,   1536       ['block4b_expand_conv[0][0]']    \n",
            " ization)                       384)                                                              \n",
            "                                                                                                  \n",
            " block4b_expand_activation (Act  (None, None, None,   0          ['block4b_expand_bn[0][0]']      \n",
            " ivation)                       384)                                                              \n",
            "                                                                                                  \n",
            " block4b_dwconv2 (DepthwiseConv  (None, None, None,   3456       ['block4b_expand_activation[0][0]\n",
            " 2D)                            384)                             ']                               \n",
            "                                                                                                  \n",
            " block4b_bn (BatchNormalization  (None, None, None,   1536       ['block4b_dwconv2[0][0]']        \n",
            " )                              384)                                                              \n",
            "                                                                                                  \n",
            " block4b_activation (Activation  (None, None, None,   0          ['block4b_bn[0][0]']             \n",
            " )                              384)                                                              \n",
            "                                                                                                  \n",
            " block4b_se_squeeze (GlobalAver  (None, 384)         0           ['block4b_activation[0][0]']     \n",
            " agePooling2D)                                                                                    \n",
            "                                                                                                  \n",
            " block4b_se_reshape (Reshape)   (None, 1, 1, 384)    0           ['block4b_se_squeeze[0][0]']     \n",
            "                                                                                                  \n",
            " block4b_se_reduce (Conv2D)     (None, 1, 1, 24)     9240        ['block4b_se_reshape[0][0]']     \n",
            "                                                                                                  \n",
            " block4b_se_expand (Conv2D)     (None, 1, 1, 384)    9600        ['block4b_se_reduce[0][0]']      \n",
            "                                                                                                  \n",
            " block4b_se_excite (Multiply)   (None, None, None,   0           ['block4b_activation[0][0]',     \n",
            "                                384)                              'block4b_se_expand[0][0]']      \n",
            "                                                                                                  \n",
            " block4b_project_conv (Conv2D)  (None, None, None,   36864       ['block4b_se_excite[0][0]']      \n",
            "                                96)                                                               \n",
            "                                                                                                  \n",
            " block4b_project_bn (BatchNorma  (None, None, None,   384        ['block4b_project_conv[0][0]']   \n",
            " lization)                      96)                                                               \n",
            "                                                                                                  \n",
            " block4b_add (Add)              (None, None, None,   0           ['block4b_project_bn[0][0]',     \n",
            "                                96)                               'block4a_project_bn[0][0]']     \n",
            "                                                                                                  \n",
            " block4c_expand_conv (Conv2D)   (None, None, None,   36864       ['block4b_add[0][0]']            \n",
            "                                384)                                                              \n",
            "                                                                                                  \n",
            " block4c_expand_bn (BatchNormal  (None, None, None,   1536       ['block4c_expand_conv[0][0]']    \n",
            " ization)                       384)                                                              \n",
            "                                                                                                  \n",
            " block4c_expand_activation (Act  (None, None, None,   0          ['block4c_expand_bn[0][0]']      \n",
            " ivation)                       384)                                                              \n",
            "                                                                                                  \n",
            " block4c_dwconv2 (DepthwiseConv  (None, None, None,   3456       ['block4c_expand_activation[0][0]\n",
            " 2D)                            384)                             ']                               \n",
            "                                                                                                  \n",
            " block4c_bn (BatchNormalization  (None, None, None,   1536       ['block4c_dwconv2[0][0]']        \n",
            " )                              384)                                                              \n",
            "                                                                                                  \n",
            " block4c_activation (Activation  (None, None, None,   0          ['block4c_bn[0][0]']             \n",
            " )                              384)                                                              \n",
            "                                                                                                  \n",
            " block4c_se_squeeze (GlobalAver  (None, 384)         0           ['block4c_activation[0][0]']     \n",
            " agePooling2D)                                                                                    \n",
            "                                                                                                  \n",
            " block4c_se_reshape (Reshape)   (None, 1, 1, 384)    0           ['block4c_se_squeeze[0][0]']     \n",
            "                                                                                                  \n",
            " block4c_se_reduce (Conv2D)     (None, 1, 1, 24)     9240        ['block4c_se_reshape[0][0]']     \n",
            "                                                                                                  \n",
            " block4c_se_expand (Conv2D)     (None, 1, 1, 384)    9600        ['block4c_se_reduce[0][0]']      \n",
            "                                                                                                  \n",
            " block4c_se_excite (Multiply)   (None, None, None,   0           ['block4c_activation[0][0]',     \n",
            "                                384)                              'block4c_se_expand[0][0]']      \n",
            "                                                                                                  \n",
            " block4c_project_conv (Conv2D)  (None, None, None,   36864       ['block4c_se_excite[0][0]']      \n",
            "                                96)                                                               \n",
            "                                                                                                  \n",
            " block4c_project_bn (BatchNorma  (None, None, None,   384        ['block4c_project_conv[0][0]']   \n",
            " lization)                      96)                                                               \n",
            "                                                                                                  \n",
            " block4c_add (Add)              (None, None, None,   0           ['block4c_project_bn[0][0]',     \n",
            "                                96)                               'block4b_add[0][0]']            \n",
            "                                                                                                  \n",
            " block5a_expand_conv (Conv2D)   (None, None, None,   55296       ['block4c_add[0][0]']            \n",
            "                                576)                                                              \n",
            "                                                                                                  \n",
            " block5a_expand_bn (BatchNormal  (None, None, None,   2304       ['block5a_expand_conv[0][0]']    \n",
            " ization)                       576)                                                              \n",
            "                                                                                                  \n",
            " block5a_expand_activation (Act  (None, None, None,   0          ['block5a_expand_bn[0][0]']      \n",
            " ivation)                       576)                                                              \n",
            "                                                                                                  \n",
            " block5a_dwconv2 (DepthwiseConv  (None, None, None,   5184       ['block5a_expand_activation[0][0]\n",
            " 2D)                            576)                             ']                               \n",
            "                                                                                                  \n",
            " block5a_bn (BatchNormalization  (None, None, None,   2304       ['block5a_dwconv2[0][0]']        \n",
            " )                              576)                                                              \n",
            "                                                                                                  \n",
            " block5a_activation (Activation  (None, None, None,   0          ['block5a_bn[0][0]']             \n",
            " )                              576)                                                              \n",
            "                                                                                                  \n",
            " block5a_se_squeeze (GlobalAver  (None, 576)         0           ['block5a_activation[0][0]']     \n",
            " agePooling2D)                                                                                    \n",
            "                                                                                                  \n",
            " block5a_se_reshape (Reshape)   (None, 1, 1, 576)    0           ['block5a_se_squeeze[0][0]']     \n",
            "                                                                                                  \n",
            " block5a_se_reduce (Conv2D)     (None, 1, 1, 24)     13848       ['block5a_se_reshape[0][0]']     \n",
            "                                                                                                  \n",
            " block5a_se_expand (Conv2D)     (None, 1, 1, 576)    14400       ['block5a_se_reduce[0][0]']      \n",
            "                                                                                                  \n",
            " block5a_se_excite (Multiply)   (None, None, None,   0           ['block5a_activation[0][0]',     \n",
            "                                576)                              'block5a_se_expand[0][0]']      \n",
            "                                                                                                  \n",
            " block5a_project_conv (Conv2D)  (None, None, None,   64512       ['block5a_se_excite[0][0]']      \n",
            "                                112)                                                              \n",
            "                                                                                                  \n",
            " block5a_project_bn (BatchNorma  (None, None, None,   448        ['block5a_project_conv[0][0]']   \n",
            " lization)                      112)                                                              \n",
            "                                                                                                  \n",
            " block5b_expand_conv (Conv2D)   (None, None, None,   75264       ['block5a_project_bn[0][0]']     \n",
            "                                672)                                                              \n",
            "                                                                                                  \n",
            " block5b_expand_bn (BatchNormal  (None, None, None,   2688       ['block5b_expand_conv[0][0]']    \n",
            " ization)                       672)                                                              \n",
            "                                                                                                  \n",
            " block5b_expand_activation (Act  (None, None, None,   0          ['block5b_expand_bn[0][0]']      \n",
            " ivation)                       672)                                                              \n",
            "                                                                                                  \n",
            " block5b_dwconv2 (DepthwiseConv  (None, None, None,   6048       ['block5b_expand_activation[0][0]\n",
            " 2D)                            672)                             ']                               \n",
            "                                                                                                  \n",
            " block5b_bn (BatchNormalization  (None, None, None,   2688       ['block5b_dwconv2[0][0]']        \n",
            " )                              672)                                                              \n",
            "                                                                                                  \n",
            " block5b_activation (Activation  (None, None, None,   0          ['block5b_bn[0][0]']             \n",
            " )                              672)                                                              \n",
            "                                                                                                  \n",
            " block5b_se_squeeze (GlobalAver  (None, 672)         0           ['block5b_activation[0][0]']     \n",
            " agePooling2D)                                                                                    \n",
            "                                                                                                  \n",
            " block5b_se_reshape (Reshape)   (None, 1, 1, 672)    0           ['block5b_se_squeeze[0][0]']     \n",
            "                                                                                                  \n",
            " block5b_se_reduce (Conv2D)     (None, 1, 1, 28)     18844       ['block5b_se_reshape[0][0]']     \n",
            "                                                                                                  \n",
            " block5b_se_expand (Conv2D)     (None, 1, 1, 672)    19488       ['block5b_se_reduce[0][0]']      \n",
            "                                                                                                  \n",
            " block5b_se_excite (Multiply)   (None, None, None,   0           ['block5b_activation[0][0]',     \n",
            "                                672)                              'block5b_se_expand[0][0]']      \n",
            "                                                                                                  \n",
            " block5b_project_conv (Conv2D)  (None, None, None,   75264       ['block5b_se_excite[0][0]']      \n",
            "                                112)                                                              \n",
            "                                                                                                  \n",
            " block5b_project_bn (BatchNorma  (None, None, None,   448        ['block5b_project_conv[0][0]']   \n",
            " lization)                      112)                                                              \n",
            "                                                                                                  \n",
            " block5b_add (Add)              (None, None, None,   0           ['block5b_project_bn[0][0]',     \n",
            "                                112)                              'block5a_project_bn[0][0]']     \n",
            "                                                                                                  \n",
            " block5c_expand_conv (Conv2D)   (None, None, None,   75264       ['block5b_add[0][0]']            \n",
            "                                672)                                                              \n",
            "                                                                                                  \n",
            " block5c_expand_bn (BatchNormal  (None, None, None,   2688       ['block5c_expand_conv[0][0]']    \n",
            " ization)                       672)                                                              \n",
            "                                                                                                  \n",
            " block5c_expand_activation (Act  (None, None, None,   0          ['block5c_expand_bn[0][0]']      \n",
            " ivation)                       672)                                                              \n",
            "                                                                                                  \n",
            " block5c_dwconv2 (DepthwiseConv  (None, None, None,   6048       ['block5c_expand_activation[0][0]\n",
            " 2D)                            672)                             ']                               \n",
            "                                                                                                  \n",
            " block5c_bn (BatchNormalization  (None, None, None,   2688       ['block5c_dwconv2[0][0]']        \n",
            " )                              672)                                                              \n",
            "                                                                                                  \n",
            " block5c_activation (Activation  (None, None, None,   0          ['block5c_bn[0][0]']             \n",
            " )                              672)                                                              \n",
            "                                                                                                  \n",
            " block5c_se_squeeze (GlobalAver  (None, 672)         0           ['block5c_activation[0][0]']     \n",
            " agePooling2D)                                                                                    \n",
            "                                                                                                  \n",
            " block5c_se_reshape (Reshape)   (None, 1, 1, 672)    0           ['block5c_se_squeeze[0][0]']     \n",
            "                                                                                                  \n",
            " block5c_se_reduce (Conv2D)     (None, 1, 1, 28)     18844       ['block5c_se_reshape[0][0]']     \n",
            "                                                                                                  \n",
            " block5c_se_expand (Conv2D)     (None, 1, 1, 672)    19488       ['block5c_se_reduce[0][0]']      \n",
            "                                                                                                  \n",
            " block5c_se_excite (Multiply)   (None, None, None,   0           ['block5c_activation[0][0]',     \n",
            "                                672)                              'block5c_se_expand[0][0]']      \n",
            "                                                                                                  \n",
            " block5c_project_conv (Conv2D)  (None, None, None,   75264       ['block5c_se_excite[0][0]']      \n",
            "                                112)                                                              \n",
            "                                                                                                  \n",
            " block5c_project_bn (BatchNorma  (None, None, None,   448        ['block5c_project_conv[0][0]']   \n",
            " lization)                      112)                                                              \n",
            "                                                                                                  \n",
            " block5c_add (Add)              (None, None, None,   0           ['block5c_project_bn[0][0]',     \n",
            "                                112)                              'block5b_add[0][0]']            \n",
            "                                                                                                  \n",
            " block5d_expand_conv (Conv2D)   (None, None, None,   75264       ['block5c_add[0][0]']            \n",
            "                                672)                                                              \n",
            "                                                                                                  \n",
            " block5d_expand_bn (BatchNormal  (None, None, None,   2688       ['block5d_expand_conv[0][0]']    \n",
            " ization)                       672)                                                              \n",
            "                                                                                                  \n",
            " block5d_expand_activation (Act  (None, None, None,   0          ['block5d_expand_bn[0][0]']      \n",
            " ivation)                       672)                                                              \n",
            "                                                                                                  \n",
            " block5d_dwconv2 (DepthwiseConv  (None, None, None,   6048       ['block5d_expand_activation[0][0]\n",
            " 2D)                            672)                             ']                               \n",
            "                                                                                                  \n",
            " block5d_bn (BatchNormalization  (None, None, None,   2688       ['block5d_dwconv2[0][0]']        \n",
            " )                              672)                                                              \n",
            "                                                                                                  \n",
            " block5d_activation (Activation  (None, None, None,   0          ['block5d_bn[0][0]']             \n",
            " )                              672)                                                              \n",
            "                                                                                                  \n",
            " block5d_se_squeeze (GlobalAver  (None, 672)         0           ['block5d_activation[0][0]']     \n",
            " agePooling2D)                                                                                    \n",
            "                                                                                                  \n",
            " block5d_se_reshape (Reshape)   (None, 1, 1, 672)    0           ['block5d_se_squeeze[0][0]']     \n",
            "                                                                                                  \n",
            " block5d_se_reduce (Conv2D)     (None, 1, 1, 28)     18844       ['block5d_se_reshape[0][0]']     \n",
            "                                                                                                  \n",
            " block5d_se_expand (Conv2D)     (None, 1, 1, 672)    19488       ['block5d_se_reduce[0][0]']      \n",
            "                                                                                                  \n",
            " block5d_se_excite (Multiply)   (None, None, None,   0           ['block5d_activation[0][0]',     \n",
            "                                672)                              'block5d_se_expand[0][0]']      \n",
            "                                                                                                  \n",
            " block5d_project_conv (Conv2D)  (None, None, None,   75264       ['block5d_se_excite[0][0]']      \n",
            "                                112)                                                              \n",
            "                                                                                                  \n",
            " block5d_project_bn (BatchNorma  (None, None, None,   448        ['block5d_project_conv[0][0]']   \n",
            " lization)                      112)                                                              \n",
            "                                                                                                  \n",
            " block5d_add (Add)              (None, None, None,   0           ['block5d_project_bn[0][0]',     \n",
            "                                112)                              'block5c_add[0][0]']            \n",
            "                                                                                                  \n",
            " block5e_expand_conv (Conv2D)   (None, None, None,   75264       ['block5d_add[0][0]']            \n",
            "                                672)                                                              \n",
            "                                                                                                  \n",
            " block5e_expand_bn (BatchNormal  (None, None, None,   2688       ['block5e_expand_conv[0][0]']    \n",
            " ization)                       672)                                                              \n",
            "                                                                                                  \n",
            " block5e_expand_activation (Act  (None, None, None,   0          ['block5e_expand_bn[0][0]']      \n",
            " ivation)                       672)                                                              \n",
            "                                                                                                  \n",
            " block5e_dwconv2 (DepthwiseConv  (None, None, None,   6048       ['block5e_expand_activation[0][0]\n",
            " 2D)                            672)                             ']                               \n",
            "                                                                                                  \n",
            " block5e_bn (BatchNormalization  (None, None, None,   2688       ['block5e_dwconv2[0][0]']        \n",
            " )                              672)                                                              \n",
            "                                                                                                  \n",
            " block5e_activation (Activation  (None, None, None,   0          ['block5e_bn[0][0]']             \n",
            " )                              672)                                                              \n",
            "                                                                                                  \n",
            " block5e_se_squeeze (GlobalAver  (None, 672)         0           ['block5e_activation[0][0]']     \n",
            " agePooling2D)                                                                                    \n",
            "                                                                                                  \n",
            " block5e_se_reshape (Reshape)   (None, 1, 1, 672)    0           ['block5e_se_squeeze[0][0]']     \n",
            "                                                                                                  \n",
            " block5e_se_reduce (Conv2D)     (None, 1, 1, 28)     18844       ['block5e_se_reshape[0][0]']     \n",
            "                                                                                                  \n",
            " block5e_se_expand (Conv2D)     (None, 1, 1, 672)    19488       ['block5e_se_reduce[0][0]']      \n",
            "                                                                                                  \n",
            " block5e_se_excite (Multiply)   (None, None, None,   0           ['block5e_activation[0][0]',     \n",
            "                                672)                              'block5e_se_expand[0][0]']      \n",
            "                                                                                                  \n",
            " block5e_project_conv (Conv2D)  (None, None, None,   75264       ['block5e_se_excite[0][0]']      \n",
            "                                112)                                                              \n",
            "                                                                                                  \n",
            " block5e_project_bn (BatchNorma  (None, None, None,   448        ['block5e_project_conv[0][0]']   \n",
            " lization)                      112)                                                              \n",
            "                                                                                                  \n",
            " block5e_add (Add)              (None, None, None,   0           ['block5e_project_bn[0][0]',     \n",
            "                                112)                              'block5d_add[0][0]']            \n",
            "                                                                                                  \n",
            " block6a_expand_conv (Conv2D)   (None, None, None,   75264       ['block5e_add[0][0]']            \n",
            "                                672)                                                              \n",
            "                                                                                                  \n",
            " block6a_expand_bn (BatchNormal  (None, None, None,   2688       ['block6a_expand_conv[0][0]']    \n",
            " ization)                       672)                                                              \n",
            "                                                                                                  \n",
            " block6a_expand_activation (Act  (None, None, None,   0          ['block6a_expand_bn[0][0]']      \n",
            " ivation)                       672)                                                              \n",
            "                                                                                                  \n",
            " block6a_dwconv2 (DepthwiseConv  (None, None, None,   6048       ['block6a_expand_activation[0][0]\n",
            " 2D)                            672)                             ']                               \n",
            "                                                                                                  \n",
            " block6a_bn (BatchNormalization  (None, None, None,   2688       ['block6a_dwconv2[0][0]']        \n",
            " )                              672)                                                              \n",
            "                                                                                                  \n",
            " block6a_activation (Activation  (None, None, None,   0          ['block6a_bn[0][0]']             \n",
            " )                              672)                                                              \n",
            "                                                                                                  \n",
            " block6a_se_squeeze (GlobalAver  (None, 672)         0           ['block6a_activation[0][0]']     \n",
            " agePooling2D)                                                                                    \n",
            "                                                                                                  \n",
            " block6a_se_reshape (Reshape)   (None, 1, 1, 672)    0           ['block6a_se_squeeze[0][0]']     \n",
            "                                                                                                  \n",
            " block6a_se_reduce (Conv2D)     (None, 1, 1, 28)     18844       ['block6a_se_reshape[0][0]']     \n",
            "                                                                                                  \n",
            " block6a_se_expand (Conv2D)     (None, 1, 1, 672)    19488       ['block6a_se_reduce[0][0]']      \n",
            "                                                                                                  \n",
            " block6a_se_excite (Multiply)   (None, None, None,   0           ['block6a_activation[0][0]',     \n",
            "                                672)                              'block6a_se_expand[0][0]']      \n",
            "                                                                                                  \n",
            " block6a_project_conv (Conv2D)  (None, None, None,   129024      ['block6a_se_excite[0][0]']      \n",
            "                                192)                                                              \n",
            "                                                                                                  \n",
            " block6a_project_bn (BatchNorma  (None, None, None,   768        ['block6a_project_conv[0][0]']   \n",
            " lization)                      192)                                                              \n",
            "                                                                                                  \n",
            " block6b_expand_conv (Conv2D)   (None, None, None,   221184      ['block6a_project_bn[0][0]']     \n",
            "                                1152)                                                             \n",
            "                                                                                                  \n",
            " block6b_expand_bn (BatchNormal  (None, None, None,   4608       ['block6b_expand_conv[0][0]']    \n",
            " ization)                       1152)                                                             \n",
            "                                                                                                  \n",
            " block6b_expand_activation (Act  (None, None, None,   0          ['block6b_expand_bn[0][0]']      \n",
            " ivation)                       1152)                                                             \n",
            "                                                                                                  \n",
            " block6b_dwconv2 (DepthwiseConv  (None, None, None,   10368      ['block6b_expand_activation[0][0]\n",
            " 2D)                            1152)                            ']                               \n",
            "                                                                                                  \n",
            " block6b_bn (BatchNormalization  (None, None, None,   4608       ['block6b_dwconv2[0][0]']        \n",
            " )                              1152)                                                             \n",
            "                                                                                                  \n",
            " block6b_activation (Activation  (None, None, None,   0          ['block6b_bn[0][0]']             \n",
            " )                              1152)                                                             \n",
            "                                                                                                  \n",
            " block6b_se_squeeze (GlobalAver  (None, 1152)        0           ['block6b_activation[0][0]']     \n",
            " agePooling2D)                                                                                    \n",
            "                                                                                                  \n",
            " block6b_se_reshape (Reshape)   (None, 1, 1, 1152)   0           ['block6b_se_squeeze[0][0]']     \n",
            "                                                                                                  \n",
            " block6b_se_reduce (Conv2D)     (None, 1, 1, 48)     55344       ['block6b_se_reshape[0][0]']     \n",
            "                                                                                                  \n",
            " block6b_se_expand (Conv2D)     (None, 1, 1, 1152)   56448       ['block6b_se_reduce[0][0]']      \n",
            "                                                                                                  \n",
            " block6b_se_excite (Multiply)   (None, None, None,   0           ['block6b_activation[0][0]',     \n",
            "                                1152)                             'block6b_se_expand[0][0]']      \n",
            "                                                                                                  \n",
            " block6b_project_conv (Conv2D)  (None, None, None,   221184      ['block6b_se_excite[0][0]']      \n",
            "                                192)                                                              \n",
            "                                                                                                  \n",
            " block6b_project_bn (BatchNorma  (None, None, None,   768        ['block6b_project_conv[0][0]']   \n",
            " lization)                      192)                                                              \n",
            "                                                                                                  \n",
            " block6b_add (Add)              (None, None, None,   0           ['block6b_project_bn[0][0]',     \n",
            "                                192)                              'block6a_project_bn[0][0]']     \n",
            "                                                                                                  \n",
            " block6c_expand_conv (Conv2D)   (None, None, None,   221184      ['block6b_add[0][0]']            \n",
            "                                1152)                                                             \n",
            "                                                                                                  \n",
            " block6c_expand_bn (BatchNormal  (None, None, None,   4608       ['block6c_expand_conv[0][0]']    \n",
            " ization)                       1152)                                                             \n",
            "                                                                                                  \n",
            " block6c_expand_activation (Act  (None, None, None,   0          ['block6c_expand_bn[0][0]']      \n",
            " ivation)                       1152)                                                             \n",
            "                                                                                                  \n",
            " block6c_dwconv2 (DepthwiseConv  (None, None, None,   10368      ['block6c_expand_activation[0][0]\n",
            " 2D)                            1152)                            ']                               \n",
            "                                                                                                  \n",
            " block6c_bn (BatchNormalization  (None, None, None,   4608       ['block6c_dwconv2[0][0]']        \n",
            " )                              1152)                                                             \n",
            "                                                                                                  \n",
            " block6c_activation (Activation  (None, None, None,   0          ['block6c_bn[0][0]']             \n",
            " )                              1152)                                                             \n",
            "                                                                                                  \n",
            " block6c_se_squeeze (GlobalAver  (None, 1152)        0           ['block6c_activation[0][0]']     \n",
            " agePooling2D)                                                                                    \n",
            "                                                                                                  \n",
            " block6c_se_reshape (Reshape)   (None, 1, 1, 1152)   0           ['block6c_se_squeeze[0][0]']     \n",
            "                                                                                                  \n",
            " block6c_se_reduce (Conv2D)     (None, 1, 1, 48)     55344       ['block6c_se_reshape[0][0]']     \n",
            "                                                                                                  \n",
            " block6c_se_expand (Conv2D)     (None, 1, 1, 1152)   56448       ['block6c_se_reduce[0][0]']      \n",
            "                                                                                                  \n",
            " block6c_se_excite (Multiply)   (None, None, None,   0           ['block6c_activation[0][0]',     \n",
            "                                1152)                             'block6c_se_expand[0][0]']      \n",
            "                                                                                                  \n",
            " block6c_project_conv (Conv2D)  (None, None, None,   221184      ['block6c_se_excite[0][0]']      \n",
            "                                192)                                                              \n",
            "                                                                                                  \n",
            " block6c_project_bn (BatchNorma  (None, None, None,   768        ['block6c_project_conv[0][0]']   \n",
            " lization)                      192)                                                              \n",
            "                                                                                                  \n",
            " block6c_add (Add)              (None, None, None,   0           ['block6c_project_bn[0][0]',     \n",
            "                                192)                              'block6b_add[0][0]']            \n",
            "                                                                                                  \n",
            " block6d_expand_conv (Conv2D)   (None, None, None,   221184      ['block6c_add[0][0]']            \n",
            "                                1152)                                                             \n",
            "                                                                                                  \n",
            " block6d_expand_bn (BatchNormal  (None, None, None,   4608       ['block6d_expand_conv[0][0]']    \n",
            " ization)                       1152)                                                             \n",
            "                                                                                                  \n",
            " block6d_expand_activation (Act  (None, None, None,   0          ['block6d_expand_bn[0][0]']      \n",
            " ivation)                       1152)                                                             \n",
            "                                                                                                  \n",
            " block6d_dwconv2 (DepthwiseConv  (None, None, None,   10368      ['block6d_expand_activation[0][0]\n",
            " 2D)                            1152)                            ']                               \n",
            "                                                                                                  \n",
            " block6d_bn (BatchNormalization  (None, None, None,   4608       ['block6d_dwconv2[0][0]']        \n",
            " )                              1152)                                                             \n",
            "                                                                                                  \n",
            " block6d_activation (Activation  (None, None, None,   0          ['block6d_bn[0][0]']             \n",
            " )                              1152)                                                             \n",
            "                                                                                                  \n",
            " block6d_se_squeeze (GlobalAver  (None, 1152)        0           ['block6d_activation[0][0]']     \n",
            " agePooling2D)                                                                                    \n",
            "                                                                                                  \n",
            " block6d_se_reshape (Reshape)   (None, 1, 1, 1152)   0           ['block6d_se_squeeze[0][0]']     \n",
            "                                                                                                  \n",
            " block6d_se_reduce (Conv2D)     (None, 1, 1, 48)     55344       ['block6d_se_reshape[0][0]']     \n",
            "                                                                                                  \n",
            " block6d_se_expand (Conv2D)     (None, 1, 1, 1152)   56448       ['block6d_se_reduce[0][0]']      \n",
            "                                                                                                  \n",
            " block6d_se_excite (Multiply)   (None, None, None,   0           ['block6d_activation[0][0]',     \n",
            "                                1152)                             'block6d_se_expand[0][0]']      \n",
            "                                                                                                  \n",
            " block6d_project_conv (Conv2D)  (None, None, None,   221184      ['block6d_se_excite[0][0]']      \n",
            "                                192)                                                              \n",
            "                                                                                                  \n",
            " block6d_project_bn (BatchNorma  (None, None, None,   768        ['block6d_project_conv[0][0]']   \n",
            " lization)                      192)                                                              \n",
            "                                                                                                  \n",
            " block6d_add (Add)              (None, None, None,   0           ['block6d_project_bn[0][0]',     \n",
            "                                192)                              'block6c_add[0][0]']            \n",
            "                                                                                                  \n",
            " block6e_expand_conv (Conv2D)   (None, None, None,   221184      ['block6d_add[0][0]']            \n",
            "                                1152)                                                             \n",
            "                                                                                                  \n",
            " block6e_expand_bn (BatchNormal  (None, None, None,   4608       ['block6e_expand_conv[0][0]']    \n",
            " ization)                       1152)                                                             \n",
            "                                                                                                  \n",
            " block6e_expand_activation (Act  (None, None, None,   0          ['block6e_expand_bn[0][0]']      \n",
            " ivation)                       1152)                                                             \n",
            "                                                                                                  \n",
            " block6e_dwconv2 (DepthwiseConv  (None, None, None,   10368      ['block6e_expand_activation[0][0]\n",
            " 2D)                            1152)                            ']                               \n",
            "                                                                                                  \n",
            " block6e_bn (BatchNormalization  (None, None, None,   4608       ['block6e_dwconv2[0][0]']        \n",
            " )                              1152)                                                             \n",
            "                                                                                                  \n",
            " block6e_activation (Activation  (None, None, None,   0          ['block6e_bn[0][0]']             \n",
            " )                              1152)                                                             \n",
            "                                                                                                  \n",
            " block6e_se_squeeze (GlobalAver  (None, 1152)        0           ['block6e_activation[0][0]']     \n",
            " agePooling2D)                                                                                    \n",
            "                                                                                                  \n",
            " block6e_se_reshape (Reshape)   (None, 1, 1, 1152)   0           ['block6e_se_squeeze[0][0]']     \n",
            "                                                                                                  \n",
            " block6e_se_reduce (Conv2D)     (None, 1, 1, 48)     55344       ['block6e_se_reshape[0][0]']     \n",
            "                                                                                                  \n",
            " block6e_se_expand (Conv2D)     (None, 1, 1, 1152)   56448       ['block6e_se_reduce[0][0]']      \n",
            "                                                                                                  \n",
            " block6e_se_excite (Multiply)   (None, None, None,   0           ['block6e_activation[0][0]',     \n",
            "                                1152)                             'block6e_se_expand[0][0]']      \n",
            "                                                                                                  \n",
            " block6e_project_conv (Conv2D)  (None, None, None,   221184      ['block6e_se_excite[0][0]']      \n",
            "                                192)                                                              \n",
            "                                                                                                  \n",
            " block6e_project_bn (BatchNorma  (None, None, None,   768        ['block6e_project_conv[0][0]']   \n",
            " lization)                      192)                                                              \n",
            "                                                                                                  \n",
            " block6e_add (Add)              (None, None, None,   0           ['block6e_project_bn[0][0]',     \n",
            "                                192)                              'block6d_add[0][0]']            \n",
            "                                                                                                  \n",
            " block6f_expand_conv (Conv2D)   (None, None, None,   221184      ['block6e_add[0][0]']            \n",
            "                                1152)                                                             \n",
            "                                                                                                  \n",
            " block6f_expand_bn (BatchNormal  (None, None, None,   4608       ['block6f_expand_conv[0][0]']    \n",
            " ization)                       1152)                                                             \n",
            "                                                                                                  \n",
            " block6f_expand_activation (Act  (None, None, None,   0          ['block6f_expand_bn[0][0]']      \n",
            " ivation)                       1152)                                                             \n",
            "                                                                                                  \n",
            " block6f_dwconv2 (DepthwiseConv  (None, None, None,   10368      ['block6f_expand_activation[0][0]\n",
            " 2D)                            1152)                            ']                               \n",
            "                                                                                                  \n",
            " block6f_bn (BatchNormalization  (None, None, None,   4608       ['block6f_dwconv2[0][0]']        \n",
            " )                              1152)                                                             \n",
            "                                                                                                  \n",
            " block6f_activation (Activation  (None, None, None,   0          ['block6f_bn[0][0]']             \n",
            " )                              1152)                                                             \n",
            "                                                                                                  \n",
            " block6f_se_squeeze (GlobalAver  (None, 1152)        0           ['block6f_activation[0][0]']     \n",
            " agePooling2D)                                                                                    \n",
            "                                                                                                  \n",
            " block6f_se_reshape (Reshape)   (None, 1, 1, 1152)   0           ['block6f_se_squeeze[0][0]']     \n",
            "                                                                                                  \n",
            " block6f_se_reduce (Conv2D)     (None, 1, 1, 48)     55344       ['block6f_se_reshape[0][0]']     \n",
            "                                                                                                  \n",
            " block6f_se_expand (Conv2D)     (None, 1, 1, 1152)   56448       ['block6f_se_reduce[0][0]']      \n",
            "                                                                                                  \n",
            " block6f_se_excite (Multiply)   (None, None, None,   0           ['block6f_activation[0][0]',     \n",
            "                                1152)                             'block6f_se_expand[0][0]']      \n",
            "                                                                                                  \n",
            " block6f_project_conv (Conv2D)  (None, None, None,   221184      ['block6f_se_excite[0][0]']      \n",
            "                                192)                                                              \n",
            "                                                                                                  \n",
            " block6f_project_bn (BatchNorma  (None, None, None,   768        ['block6f_project_conv[0][0]']   \n",
            " lization)                      192)                                                              \n",
            "                                                                                                  \n",
            " block6f_add (Add)              (None, None, None,   0           ['block6f_project_bn[0][0]',     \n",
            "                                192)                              'block6e_add[0][0]']            \n",
            "                                                                                                  \n",
            " block6g_expand_conv (Conv2D)   (None, None, None,   221184      ['block6f_add[0][0]']            \n",
            "                                1152)                                                             \n",
            "                                                                                                  \n",
            " block6g_expand_bn (BatchNormal  (None, None, None,   4608       ['block6g_expand_conv[0][0]']    \n",
            " ization)                       1152)                                                             \n",
            "                                                                                                  \n",
            " block6g_expand_activation (Act  (None, None, None,   0          ['block6g_expand_bn[0][0]']      \n",
            " ivation)                       1152)                                                             \n",
            "                                                                                                  \n",
            " block6g_dwconv2 (DepthwiseConv  (None, None, None,   10368      ['block6g_expand_activation[0][0]\n",
            " 2D)                            1152)                            ']                               \n",
            "                                                                                                  \n",
            " block6g_bn (BatchNormalization  (None, None, None,   4608       ['block6g_dwconv2[0][0]']        \n",
            " )                              1152)                                                             \n",
            "                                                                                                  \n",
            " block6g_activation (Activation  (None, None, None,   0          ['block6g_bn[0][0]']             \n",
            " )                              1152)                                                             \n",
            "                                                                                                  \n",
            " block6g_se_squeeze (GlobalAver  (None, 1152)        0           ['block6g_activation[0][0]']     \n",
            " agePooling2D)                                                                                    \n",
            "                                                                                                  \n",
            " block6g_se_reshape (Reshape)   (None, 1, 1, 1152)   0           ['block6g_se_squeeze[0][0]']     \n",
            "                                                                                                  \n",
            " block6g_se_reduce (Conv2D)     (None, 1, 1, 48)     55344       ['block6g_se_reshape[0][0]']     \n",
            "                                                                                                  \n",
            " block6g_se_expand (Conv2D)     (None, 1, 1, 1152)   56448       ['block6g_se_reduce[0][0]']      \n",
            "                                                                                                  \n",
            " block6g_se_excite (Multiply)   (None, None, None,   0           ['block6g_activation[0][0]',     \n",
            "                                1152)                             'block6g_se_expand[0][0]']      \n",
            "                                                                                                  \n",
            " block6g_project_conv (Conv2D)  (None, None, None,   221184      ['block6g_se_excite[0][0]']      \n",
            "                                192)                                                              \n",
            "                                                                                                  \n",
            " block6g_project_bn (BatchNorma  (None, None, None,   768        ['block6g_project_conv[0][0]']   \n",
            " lization)                      192)                                                              \n",
            "                                                                                                  \n",
            " block6g_add (Add)              (None, None, None,   0           ['block6g_project_bn[0][0]',     \n",
            "                                192)                              'block6f_add[0][0]']            \n",
            "                                                                                                  \n",
            " block6h_expand_conv (Conv2D)   (None, None, None,   221184      ['block6g_add[0][0]']            \n",
            "                                1152)                                                             \n",
            "                                                                                                  \n",
            " block6h_expand_bn (BatchNormal  (None, None, None,   4608       ['block6h_expand_conv[0][0]']    \n",
            " ization)                       1152)                                                             \n",
            "                                                                                                  \n",
            " block6h_expand_activation (Act  (None, None, None,   0          ['block6h_expand_bn[0][0]']      \n",
            " ivation)                       1152)                                                             \n",
            "                                                                                                  \n",
            " block6h_dwconv2 (DepthwiseConv  (None, None, None,   10368      ['block6h_expand_activation[0][0]\n",
            " 2D)                            1152)                            ']                               \n",
            "                                                                                                  \n",
            " block6h_bn (BatchNormalization  (None, None, None,   4608       ['block6h_dwconv2[0][0]']        \n",
            " )                              1152)                                                             \n",
            "                                                                                                  \n",
            " block6h_activation (Activation  (None, None, None,   0          ['block6h_bn[0][0]']             \n",
            " )                              1152)                                                             \n",
            "                                                                                                  \n",
            " block6h_se_squeeze (GlobalAver  (None, 1152)        0           ['block6h_activation[0][0]']     \n",
            " agePooling2D)                                                                                    \n",
            "                                                                                                  \n",
            " block6h_se_reshape (Reshape)   (None, 1, 1, 1152)   0           ['block6h_se_squeeze[0][0]']     \n",
            "                                                                                                  \n",
            " block6h_se_reduce (Conv2D)     (None, 1, 1, 48)     55344       ['block6h_se_reshape[0][0]']     \n",
            "                                                                                                  \n",
            " block6h_se_expand (Conv2D)     (None, 1, 1, 1152)   56448       ['block6h_se_reduce[0][0]']      \n",
            "                                                                                                  \n",
            " block6h_se_excite (Multiply)   (None, None, None,   0           ['block6h_activation[0][0]',     \n",
            "                                1152)                             'block6h_se_expand[0][0]']      \n",
            "                                                                                                  \n",
            " block6h_project_conv (Conv2D)  (None, None, None,   221184      ['block6h_se_excite[0][0]']      \n",
            "                                192)                                                              \n",
            "                                                                                                  \n",
            " block6h_project_bn (BatchNorma  (None, None, None,   768        ['block6h_project_conv[0][0]']   \n",
            " lization)                      192)                                                              \n",
            "                                                                                                  \n",
            " block6h_add (Add)              (None, None, None,   0           ['block6h_project_bn[0][0]',     \n",
            "                                192)                              'block6g_add[0][0]']            \n",
            "                                                                                                  \n",
            " top_conv (Conv2D)              (None, None, None,   245760      ['block6h_add[0][0]']            \n",
            "                                1280)                                                             \n",
            "                                                                                                  \n",
            " top_bn (BatchNormalization)    (None, None, None,   5120        ['top_conv[0][0]']               \n",
            "                                1280)                                                             \n",
            "                                                                                                  \n",
            " top_activation (Activation)    (None, None, None,   0           ['top_bn[0][0]']                 \n",
            "                                1280)                                                             \n",
            "                                                                                                  \n",
            "==================================================================================================\n",
            "Total params: 5,919,312\n",
            "Trainable params: 0\n",
            "Non-trainable params: 5,919,312\n",
            "__________________________________________________________________________________________________\n"
          ]
        }
      ],
      "source": [
        "base_model.summary()"
      ]
    },
    {
      "cell_type": "code",
      "execution_count": null,
      "metadata": {
        "colab": {
          "base_uri": "https://localhost:8080/"
        },
        "id": "4GM7DUKB7m46",
        "outputId": "ec7afca3-3c25-4d1d-cc79-043ea941c5eb"
      },
      "outputs": [
        {
          "output_type": "stream",
          "name": "stdout",
          "text": [
            "Model: \"model\"\n",
            "_________________________________________________________________\n",
            " Layer (type)                Output Shape              Param #   \n",
            "=================================================================\n",
            " input_layer (InputLayer)    [(None, 224, 224, 3)]     0         \n",
            "                                                                 \n",
            " efficientnetv2-b0 (Function  (None, None, None, 1280)  5919312  \n",
            " al)                                                             \n",
            "                                                                 \n",
            " global_average_pooling_laye  (None, 1280)             0         \n",
            " r (GlobalAveragePooling2D)                                      \n",
            "                                                                 \n",
            " output_layer (Dense)        (None, 10)                12810     \n",
            "                                                                 \n",
            "=================================================================\n",
            "Total params: 5,932,122\n",
            "Trainable params: 12,810\n",
            "Non-trainable params: 5,919,312\n",
            "_________________________________________________________________\n"
          ]
        }
      ],
      "source": [
        "model_0.summary()"
      ]
    },
    {
      "cell_type": "markdown",
      "metadata": {
        "id": "6GA66Lx-77KN"
      },
      "source": [
        "## Getting a feature vector from a trained model\n",
        "\n",
        "Global Average Pooling 2D Layer - When our input tensor of size (None, 7, 7, 1280) goes through GlobalAveragePooling2D layer, it turns into (None, 1280)."
      ]
    },
    {
      "cell_type": "code",
      "execution_count": null,
      "metadata": {
        "colab": {
          "base_uri": "https://localhost:8080/"
        },
        "id": "PkMrKxo-9a-a",
        "outputId": "0a86bb50-60bf-494e-91fa-e2f12e1a2d24"
      },
      "outputs": [
        {
          "output_type": "stream",
          "name": "stdout",
          "text": [
            "Random input tensor:\n",
            "[[[[ 0.3274685  -0.8426258   0.3194337 ]\n",
            "   [-1.4075519  -2.3880599  -1.0392479 ]\n",
            "   [-0.5573232   0.539707    1.6994323 ]\n",
            "   [ 0.28893656 -1.5066116  -0.26454744]]\n",
            "\n",
            "  [[-0.59722406 -1.9171132  -0.62044144]\n",
            "   [ 0.8504023  -0.40604794 -3.0258412 ]\n",
            "   [ 0.9058464   0.29855987 -0.22561555]\n",
            "   [-0.7616443  -1.891714   -0.9384712 ]]\n",
            "\n",
            "  [[ 0.77852213 -0.47338897  0.97772694]\n",
            "   [ 0.24694404  0.20573747 -0.5256233 ]\n",
            "   [ 0.32410017  0.02545409 -0.10638497]\n",
            "   [-0.6369475   1.1603122   0.2507359 ]]\n",
            "\n",
            "  [[-0.41728497  0.40125778 -1.4145442 ]\n",
            "   [-0.59318566 -1.6617213   0.33567193]\n",
            "   [ 0.10815629  0.2347968  -0.56668764]\n",
            "   [-0.35819843  0.88698626  0.5274477 ]]]]\n",
            "\n"
          ]
        }
      ],
      "source": [
        "input_shape = (1, 4, 4, 3)\n",
        "\n",
        "tf.random.set_seed(42)\n",
        "input_tensor = tf.random.normal(shape = input_shape)\n",
        "\n",
        "print(f\"Random input tensor:\\n{input_tensor}\\n\")"
      ]
    },
    {
      "cell_type": "code",
      "execution_count": null,
      "metadata": {
        "colab": {
          "base_uri": "https://localhost:8080/"
        },
        "id": "wSjqi8HN9x3N",
        "outputId": "b361e4de-5ad1-41b7-8119-832cfce201ca"
      },
      "outputs": [
        {
          "output_type": "execute_result",
          "data": {
            "text/plain": [
              "(TensorShape([1, 3]),\n",
              " <tf.Tensor: shape=(1, 3), dtype=float32, numpy=array([[-0.09368646, -0.45840445, -0.28855976]], dtype=float32)>)"
            ]
          },
          "metadata": {},
          "execution_count": 16
        }
      ],
      "source": [
        "output = tf.keras.layers.GlobalAveragePooling2D()(input_tensor)\n",
        "output.shape, output"
      ]
    },
    {
      "cell_type": "code",
      "execution_count": null,
      "metadata": {
        "colab": {
          "base_uri": "https://localhost:8080/"
        },
        "id": "hg2Os1Vf9-Rt",
        "outputId": "6b2dea86-7f7e-4c2b-be8a-8bf25fcd86ba"
      },
      "outputs": [
        {
          "output_type": "execute_result",
          "data": {
            "text/plain": [
              "<tf.Tensor: shape=(1, 3), dtype=float32, numpy=array([[-0.09368646, -0.45840445, -0.28855976]], dtype=float32)>"
            ]
          },
          "metadata": {},
          "execution_count": 17
        }
      ],
      "source": [
        "# Let's replicate the GlobalAveragePooling2D operation\n",
        "tf.reduce_mean(input_tensor, axis = [1, 2])"
      ]
    },
    {
      "cell_type": "code",
      "execution_count": null,
      "metadata": {
        "colab": {
          "base_uri": "https://localhost:8080/"
        },
        "id": "UPpakog0_RFO",
        "outputId": "1c5e3e79-9005-4c07-a789-3ab717db1afe"
      },
      "outputs": [
        {
          "output_type": "execute_result",
          "data": {
            "text/plain": [
              "(<tf.Tensor: shape=(1, 3), dtype=float32, numpy=array([[0.9058464, 1.1603122, 1.6994323]], dtype=float32)>,\n",
              " TensorShape([1, 3]))"
            ]
          },
          "metadata": {},
          "execution_count": 18
        }
      ],
      "source": [
        "output_maxpool = tf.keras.layers.GlobalMaxPool2D()(input_tensor)\n",
        "output_maxpool, output_maxpool.shape"
      ]
    },
    {
      "cell_type": "code",
      "execution_count": null,
      "metadata": {
        "colab": {
          "base_uri": "https://localhost:8080/"
        },
        "id": "pdsC1KSX_887",
        "outputId": "643c1088-4bfe-4a3e-d5e4-ba61eeda7561"
      },
      "outputs": [
        {
          "output_type": "execute_result",
          "data": {
            "text/plain": [
              "<tf.Tensor: shape=(1, 3), dtype=float32, numpy=array([[0.9058464, 1.1603122, 1.6994323]], dtype=float32)>"
            ]
          },
          "metadata": {},
          "execution_count": 19
        }
      ],
      "source": [
        "tf.reduce_max(input_tensor, axis = [1, 2])"
      ]
    },
    {
      "cell_type": "markdown",
      "metadata": {
        "id": "7ziZbvBnABXf"
      },
      "source": [
        "## Running a series of Transfer Learning experiments\n",
        "\n",
        "Having seen the incredible results transfer learning can get with only 10% of training data, let's setup a few experiments to see how it works with 1% of the training data.\n",
        "\n",
        "1. `model_1` - use feature extraction transfer learning with 1% of training data with data augmentation.\n",
        "2. `model_2` - use feature extraction transfer learning with 10% of training data with data augmentation.\n",
        "3. `model_3` - use fine-tuning transfer learning with 10% of training data with data augmentation.\n",
        "4. `model_4` - use fine-tuning transfer learning with 100% of training data with data augmentation."
      ]
    },
    {
      "cell_type": "code",
      "execution_count": null,
      "metadata": {
        "colab": {
          "base_uri": "https://localhost:8080/"
        },
        "id": "r24WMgtBJgX3",
        "outputId": "65ab5e07-e620-4a5e-8116-4035ad45fe54"
      },
      "outputs": [
        {
          "output_type": "stream",
          "name": "stdout",
          "text": [
            "--2022-08-10 04:51:39--  https://storage.googleapis.com/ztm_tf_course/food_vision/10_food_classes_1_percent.zip\n",
            "Resolving storage.googleapis.com (storage.googleapis.com)... 142.250.152.128, 142.251.120.128, 142.251.161.128, ...\n",
            "Connecting to storage.googleapis.com (storage.googleapis.com)|142.250.152.128|:443... connected.\n",
            "HTTP request sent, awaiting response... 200 OK\n",
            "Length: 133612354 (127M) [application/zip]\n",
            "Saving to: ‘10_food_classes_1_percent.zip’\n",
            "\n",
            "10_food_classes_1_p 100%[===================>] 127.42M  80.8MB/s    in 1.6s    \n",
            "\n",
            "2022-08-10 04:51:41 (80.8 MB/s) - ‘10_food_classes_1_percent.zip’ saved [133612354/133612354]\n",
            "\n"
          ]
        }
      ],
      "source": [
        "# Download and unzip the data\n",
        "!wget https://storage.googleapis.com/ztm_tf_course/food_vision/10_food_classes_1_percent.zip\n",
        "unzip_data(\"10_food_classes_1_percent.zip\")"
      ]
    },
    {
      "cell_type": "code",
      "execution_count": null,
      "metadata": {
        "id": "5IVHyu7VJ2Qv"
      },
      "outputs": [],
      "source": [
        "# Create training & test dirs\n",
        "\n",
        "train_dir_1_percent = \"10_food_classes_1_percent/train/\"\n",
        "test_dir_1_percent = \"10_food_classes_1_percent/test/\""
      ]
    },
    {
      "cell_type": "code",
      "execution_count": null,
      "metadata": {
        "colab": {
          "base_uri": "https://localhost:8080/"
        },
        "id": "79QjVTy8KHDq",
        "outputId": "7eafd202-cc5f-4699-89bd-264d6b318b1b"
      },
      "outputs": [
        {
          "output_type": "stream",
          "name": "stdout",
          "text": [
            "There are 2 directories and 0 images in '10_food_classes_1_percent/'.\n",
            "There are 10 directories and 0 images in '10_food_classes_1_percent/train'.\n",
            "There are 0 directories and 7 images in '10_food_classes_1_percent/train/grilled_salmon'.\n",
            "There are 0 directories and 7 images in '10_food_classes_1_percent/train/sushi'.\n",
            "There are 0 directories and 7 images in '10_food_classes_1_percent/train/steak'.\n",
            "There are 0 directories and 7 images in '10_food_classes_1_percent/train/chicken_wings'.\n",
            "There are 0 directories and 7 images in '10_food_classes_1_percent/train/chicken_curry'.\n",
            "There are 0 directories and 7 images in '10_food_classes_1_percent/train/fried_rice'.\n",
            "There are 0 directories and 7 images in '10_food_classes_1_percent/train/ice_cream'.\n",
            "There are 0 directories and 7 images in '10_food_classes_1_percent/train/pizza'.\n",
            "There are 0 directories and 7 images in '10_food_classes_1_percent/train/ramen'.\n",
            "There are 0 directories and 7 images in '10_food_classes_1_percent/train/hamburger'.\n",
            "There are 10 directories and 0 images in '10_food_classes_1_percent/test'.\n",
            "There are 0 directories and 250 images in '10_food_classes_1_percent/test/grilled_salmon'.\n",
            "There are 0 directories and 250 images in '10_food_classes_1_percent/test/sushi'.\n",
            "There are 0 directories and 250 images in '10_food_classes_1_percent/test/steak'.\n",
            "There are 0 directories and 250 images in '10_food_classes_1_percent/test/chicken_wings'.\n",
            "There are 0 directories and 250 images in '10_food_classes_1_percent/test/chicken_curry'.\n",
            "There are 0 directories and 250 images in '10_food_classes_1_percent/test/fried_rice'.\n",
            "There are 0 directories and 250 images in '10_food_classes_1_percent/test/ice_cream'.\n",
            "There are 0 directories and 250 images in '10_food_classes_1_percent/test/pizza'.\n",
            "There are 0 directories and 250 images in '10_food_classes_1_percent/test/ramen'.\n",
            "There are 0 directories and 250 images in '10_food_classes_1_percent/test/hamburger'.\n"
          ]
        }
      ],
      "source": [
        "walk_through_dir(\"10_food_classes_1_percent/\")"
      ]
    },
    {
      "cell_type": "markdown",
      "metadata": {
        "id": "PhZ7EoaaKMup"
      },
      "source": [
        "## Getting and preprocessing data for model_1"
      ]
    },
    {
      "cell_type": "code",
      "execution_count": null,
      "metadata": {
        "colab": {
          "base_uri": "https://localhost:8080/"
        },
        "id": "PRfm1N-yKeW9",
        "outputId": "3733da1e-91f5-43d6-88e1-ca2509dd421b"
      },
      "outputs": [
        {
          "output_type": "stream",
          "name": "stdout",
          "text": [
            "Found 70 files belonging to 10 classes.\n",
            "Found 2500 files belonging to 10 classes.\n"
          ]
        }
      ],
      "source": [
        "# Setup data loaders\n",
        "IMG_SIZE = (224, 224)\n",
        "BATCH_SIZE = 32\n",
        "train_data_1_percent = tf.keras.preprocessing.image_dataset_from_directory(directory=train_dir_1_percent,\n",
        "                                                                           label_mode = \"categorical\",\n",
        "                                                                           image_size = IMG_SIZE,\n",
        "                                                                           batch_size = BATCH_SIZE)\n",
        "\n",
        "test_data = tf.keras.preprocessing.image_dataset_from_directory(directory=test_dir_1_percent,\n",
        "                                                                label_mode = \"categorical\",\n",
        "                                                                image_size = IMG_SIZE,\n",
        "                                                                batch_size = BATCH_SIZE)"
      ]
    },
    {
      "cell_type": "markdown",
      "metadata": {
        "id": "gWuOWes5LJUO"
      },
      "source": [
        "## Adding data augmentation into the model\n",
        "\n",
        "To add data augmentation right into our models, we can use the layers inside:\n",
        "\n",
        "* `tf.keras.layers.experimental.preprocessing`\n",
        "\n",
        "Benefits of using data augmentation inside the model are:\n",
        "* Use of GPU acceleration for augmentation,\n",
        "* Portability, since the augmentation will be part of the exported model. So we can use it elsewhere."
      ]
    },
    {
      "cell_type": "code",
      "execution_count": null,
      "metadata": {
        "id": "8wvHQ0UcLiLY"
      },
      "outputs": [],
      "source": [
        "import tensorflow as tf\n",
        "from tensorflow import keras\n",
        "from tensorflow.keras import layers\n",
        "from tensorflow.keras.layers.experimental import preprocessing\n",
        "\n",
        "# Create data augmentation stage with horizontal flipping, rotations, zooms etc.\n",
        "data_aug = keras.Sequential([\n",
        "    preprocessing.RandomFlip(\"horizontal\"),\n",
        "    preprocessing.RandomRotation(0.2),\n",
        "    preprocessing.RandomZoom(0.2),\n",
        "    preprocessing.RandomHeight(0.2),\n",
        "    preprocessing.RandomWidth(0.2),\n",
        "    #preprocessing.Rescaling(1/255.)\n",
        "], name = \"data_augmentation\")"
      ]
    },
    {
      "cell_type": "markdown",
      "metadata": {
        "id": "Ue1uw42EMqSJ"
      },
      "source": [
        "### Visualize our data augmentation layer"
      ]
    },
    {
      "cell_type": "code",
      "execution_count": null,
      "metadata": {
        "colab": {
          "base_uri": "https://localhost:8080/",
          "height": 536
        },
        "id": "yETHNtjwRNa_",
        "outputId": "74ea09d1-64f7-4ecc-de20-a22fc4a86ad7"
      },
      "outputs": [
        {
          "output_type": "display_data",
          "data": {
            "text/plain": [
              "<Figure size 432x288 with 1 Axes>"
            ],
            "image/png": "[encoded data removed]"
          },
          "metadata": {
            "needs_background": "light"
          }
        },
        {
          "output_type": "display_data",
          "data": {
            "text/plain": [
              "<Figure size 432x288 with 1 Axes>"
            ],
            "image/png": "[encoded data removed]"
          },
          "metadata": {
            "needs_background": "light"
          }
        }
      ],
      "source": [
        "# View a random image and compare it to its augmented version\n",
        "\n",
        "import matplotlib.pyplot as plt\n",
        "import matplotlib.image as mpimg\n",
        "import os\n",
        "import random\n",
        "\n",
        "target_class = random.choice(train_data_1_percent.class_names)\n",
        "target_dir = \"10_food_classes_1_percent/train/\" + target_class\n",
        "\n",
        "random_img = random.choice(os.listdir(target_dir))\n",
        "random_img_path = target_dir + '/' + random_img\n",
        "\n",
        "img = mpimg.imread(random_img_path)\n",
        "plt.title(f\"Original random image from class: {target_class}\")\n",
        "plt.imshow(img)\n",
        "plt.show()\n",
        "\n",
        "# Plot the augmented image\n",
        "aug_img = data_aug(img, training=True)\n",
        "plt.figure()\n",
        "plt.title(f\"Augmented random image from class: {target_class}\")\n",
        "plt.imshow(tf.squeeze(aug_img)/255.)\n",
        "plt.show()"
      ]
    },
    {
      "cell_type": "markdown",
      "metadata": {
        "id": "4kSQLTKMRp_j"
      },
      "source": [
        "## Model_1: Feature extraction transfer learning on 1% data with data augmentation"
      ]
    },
    {
      "cell_type": "code",
      "execution_count": null,
      "metadata": {
        "colab": {
          "base_uri": "https://localhost:8080/"
        },
        "id": "ExU70CDPUs2-",
        "outputId": "62c3405b-a669-4722-936a-da889509cfb4"
      },
      "outputs": [
        {
          "output_type": "stream",
          "name": "stdout",
          "text": [
            "Downloading data from https://storage.googleapis.com/keras-applications/efficientnetb0_notop.h5\n",
            "16711680/16705208 [==============================] - 0s 0us/step\n",
            "16719872/16705208 [==============================] - 0s 0us/step\n",
            "WARNING:tensorflow:Model was constructed with shape (384, 512, 3) for input KerasTensor(type_spec=TensorSpec(shape=(384, 512, 3), dtype=tf.uint8, name='random_flip_input'), name='random_flip_input', description=\"created by layer 'random_flip_input'\"), but it was called on an input with incompatible shape (None, 224, 224, 3).\n",
            "Saving TensorBoard log files to: transfer_learning/1_percent_data_aug/20220810-045148\n",
            "Epoch 1/5\n",
            "WARNING:tensorflow:Model was constructed with shape (384, 512, 3) for input KerasTensor(type_spec=TensorSpec(shape=(384, 512, 3), dtype=tf.uint8, name='random_flip_input'), name='random_flip_input', description=\"created by layer 'random_flip_input'\"), but it was called on an input with incompatible shape (None, 224, 224, 3).\n",
            "WARNING:tensorflow:Model was constructed with shape (384, 512, 3) for input KerasTensor(type_spec=TensorSpec(shape=(384, 512, 3), dtype=tf.uint8, name='random_flip_input'), name='random_flip_input', description=\"created by layer 'random_flip_input'\"), but it was called on an input with incompatible shape (None, 224, 224, 3).\n",
            "3/3 [==============================] - ETA: 0s - loss: 2.4179 - accuracy: 0.1000WARNING:tensorflow:Model was constructed with shape (384, 512, 3) for input KerasTensor(type_spec=TensorSpec(shape=(384, 512, 3), dtype=tf.uint8, name='random_flip_input'), name='random_flip_input', description=\"created by layer 'random_flip_input'\"), but it was called on an input with incompatible shape (None, 224, 224, 3).\n",
            "3/3 [==============================] - 97s 43s/step - loss: 2.4179 - accuracy: 0.1000 - val_loss: 2.2369 - val_accuracy: 0.1826\n",
            "Epoch 2/5\n",
            "3/3 [==============================] - 45s 21s/step - loss: 2.1925 - accuracy: 0.2143 - val_loss: 2.1257 - val_accuracy: 0.2286\n",
            "Epoch 3/5\n",
            "3/3 [==============================] - 46s 22s/step - loss: 1.9982 - accuracy: 0.3571 - val_loss: 2.0354 - val_accuracy: 0.2829\n",
            "Epoch 4/5\n",
            "3/3 [==============================] - 43s 21s/step - loss: 1.8528 - accuracy: 0.5286 - val_loss: 1.9375 - val_accuracy: 0.3438\n",
            "Epoch 5/5\n",
            "3/3 [==============================] - 46s 22s/step - loss: 1.6895 - accuracy: 0.5429 - val_loss: 1.8691 - val_accuracy: 0.3882\n"
          ]
        }
      ],
      "source": [
        "# Setup input shape and base model. Freeze the base model layers\n",
        "input_shape = (224, 224, 3)\n",
        "base_model = tf.keras.applications.EfficientNetB0(include_top=False)\n",
        "base_model.trainable = False\n",
        "\n",
        "# Create the input layer\n",
        "inputs = layers.Input(shape=input_shape, name = \"input_layer\")\n",
        "\n",
        "# Add data augmentation model as a layer\n",
        "x = data_aug(inputs, training = True)\n",
        "\n",
        "# Give base_model inputs (after augmentation) and don't train it\n",
        "x = base_model(x, training = False)\n",
        "\n",
        "# Pool output features of the base model\n",
        "x = layers.GlobalAveragePooling2D(name = \"global_avgpooling_layer\")(x)\n",
        "\n",
        "# Put a dense layer on as the output\n",
        "outputs = layers.Dense(10, activation=\"softmax\", name = \"output_layer\")(x)\n",
        "\n",
        "# Make a model using the inputs and outputs\n",
        "model_1 = keras.Model(inputs, outputs)\n",
        "\n",
        "# Compile the model\n",
        "model_1.compile(loss = \"categorical_crossentropy\",\n",
        "                optimizer = tf.keras.optimizers.Adam(),\n",
        "                metrics = [\"accuracy\"])\n",
        "\n",
        "# Fit the model\n",
        "history_1_percent = model_1.fit(train_data_1_percent,\n",
        "                                epochs = 5,\n",
        "                                steps_per_epoch = len(train_data_1_percent),\n",
        "                                validation_data = test_data,\n",
        "                                validation_steps = int(0.25 * len(test_data)),\n",
        "                                callbacks = [create_tensorboard_callback(dir_name=\"transfer_learning\",\n",
        "                                                                         experiment_name = \"1_percent_data_aug\")])"
      ]
    },
    {
      "cell_type": "code",
      "execution_count": null,
      "metadata": {
        "colab": {
          "base_uri": "https://localhost:8080/"
        },
        "id": "1Qf_ZEdiU9rB",
        "outputId": "b85f16a2-5b30-48f9-d440-ea75f694c423"
      },
      "outputs": [
        {
          "output_type": "stream",
          "name": "stdout",
          "text": [
            "Model: \"model_1\"\n",
            "_________________________________________________________________\n",
            " Layer (type)                Output Shape              Param #   \n",
            "=================================================================\n",
            " input_layer (InputLayer)    [(None, 224, 224, 3)]     0         \n",
            "                                                                 \n",
            " data_augmentation (Sequenti  (None, None, 3)          0         \n",
            " al)                                                             \n",
            "                                                                 \n",
            " efficientnetb0 (Functional)  (None, None, None, 1280)  4049571  \n",
            "                                                                 \n",
            " global_avgpooling_layer (Gl  (None, 1280)             0         \n",
            " obalAveragePooling2D)                                           \n",
            "                                                                 \n",
            " output_layer (Dense)        (None, 10)                12810     \n",
            "                                                                 \n",
            "=================================================================\n",
            "Total params: 4,062,381\n",
            "Trainable params: 12,810\n",
            "Non-trainable params: 4,049,571\n",
            "_________________________________________________________________\n"
          ]
        }
      ],
      "source": [
        "model_1.summary()"
      ]
    },
    {
      "cell_type": "code",
      "execution_count": null,
      "metadata": {
        "colab": {
          "base_uri": "https://localhost:8080/"
        },
        "id": "n5DU-HBqX-2v",
        "outputId": "259362d4-6b31-4a5c-c3fb-76d25d4255da"
      },
      "outputs": [
        {
          "output_type": "stream",
          "name": "stdout",
          "text": [
            "79/79 [==============================] - 163s 2s/step - loss: 1.8808 - accuracy: 0.3856\n"
          ]
        },
        {
          "output_type": "execute_result",
          "data": {
            "text/plain": [
              "[1.880801796913147, 0.3856000006198883]"
            ]
          },
          "metadata": {},
          "execution_count": 28
        }
      ],
      "source": [
        "results_1_per_data_aug = model_1.evaluate(test_data)\n",
        "results_1_per_data_aug"
      ]
    },
    {
      "cell_type": "code",
      "execution_count": null,
      "metadata": {
        "colab": {
          "base_uri": "https://localhost:8080/",
          "height": 573
        },
        "id": "tH1tpSsaYEhO",
        "outputId": "68217fd3-59d7-439d-de50-ce012b310b81"
      },
      "outputs": [
        {
          "output_type": "display_data",
          "data": {
            "text/plain": [
              "<Figure size 432x288 with 1 Axes>"
            ],
            "image/png": "[encoded data removed]"
          },
          "metadata": {
            "needs_background": "light"
          }
        },
        {
          "output_type": "display_data",
          "data": {
            "text/plain": [
              "<Figure size 432x288 with 1 Axes>"
            ],
            "image/png": "[encoded data removed]"
          },
          "metadata": {
            "needs_background": "light"
          }
        }
      ],
      "source": [
        "plot_loss_curves(history_1_percent)"
      ]
    },
    {
      "cell_type": "markdown",
      "metadata": {
        "id": "rzjqHI_7YX0u"
      },
      "source": [
        "## Model_2: feature extraction transfer learning with 10% data and data augmentation"
      ]
    },
    {
      "cell_type": "code",
      "execution_count": null,
      "metadata": {
        "id": "J7AOMEQ1ZC11"
      },
      "outputs": [],
      "source": [
        "train_dir_10_percent = \"10_food_classes_10_percent/train/\"\n",
        "test_dir = \"10_food_classes_10_percent/test/\""
      ]
    },
    {
      "cell_type": "code",
      "execution_count": null,
      "metadata": {
        "colab": {
          "base_uri": "https://localhost:8080/"
        },
        "id": "W5b6ko_MZtFM",
        "outputId": "22df57d5-2f59-4609-fb35-a4c6003bd376"
      },
      "outputs": [
        {
          "output_type": "stream",
          "name": "stdout",
          "text": [
            "Found 750 files belonging to 10 classes.\n",
            "Found 2500 files belonging to 10 classes.\n"
          ]
        }
      ],
      "source": [
        "import tensorflow as tf\n",
        "IMG_SIZE = (224, 224)\n",
        "train_data_10_percent = tf.keras.preprocessing.image_dataset_from_directory(train_dir_10_percent,\n",
        "                                                                            label_mode='categorical',\n",
        "                                                                            image_size = IMG_SIZE)\n",
        "\n",
        "test_data = tf.keras.preprocessing.image_dataset_from_directory(test_dir,\n",
        "                                                                label_mode='categorical',\n",
        "                                                                image_size = IMG_SIZE)"
      ]
    },
    {
      "cell_type": "code",
      "execution_count": null,
      "metadata": {
        "id": "lOfusYlFaEOT"
      },
      "outputs": [],
      "source": [
        "from tensorflow.keras import layers\n",
        "from tensorflow.keras.layers.experimental import preprocessing\n",
        "from tensorflow.keras.models import Sequential\n",
        "\n",
        "# Build data augmentation layer\n",
        "data_augmentation = Sequential([\n",
        "    preprocessing.RandomFlip('horizontal'),\n",
        "    preprocessing.RandomHeight(0.2),\n",
        "    preprocessing.RandomWidth(0.2),\n",
        "    preprocessing.RandomZoom(0.2),\n",
        "    preprocessing.RandomRotation(0.2),\n",
        "    #preprocessing.Rescaling(1/255.)\n",
        "], name = \"data_augmentation\")\n",
        "\n",
        "# Setup the input shape to our model\n",
        "input_shape = (224, 224, 3)\n",
        "\n",
        "# Create a frozen base model\n",
        "base_model_1 = tf.keras.applications.EfficientNetB0(include_top= False)\n",
        "base_model_1.trainable = False\n",
        "\n",
        "# Create inputs and outputs\n",
        "inputs = tf.keras.layers.Input(shape = input_shape, name = \"input_shape\")\n",
        "x = data_augmentation(inputs)\n",
        "x = base_model_1(x, training = False)\n",
        "x = layers.GlobalAveragePooling2D(name = \"global_avgpooling_2d\")(x)\n",
        "\n",
        "outputs = layers.Dense(10, activation = \"softmax\", name = \"output_layer\")(x)\n",
        "\n",
        "model_2 = tf.keras.Model(inputs, outputs)\n",
        "\n",
        "model_2.compile(loss = \"categorical_crossentropy\",\n",
        "                optimizer = tf.keras.optimizers.Adam(),\n",
        "                metrics = [\"accuracy\"])\n"
      ]
    },
    {
      "cell_type": "code",
      "execution_count": null,
      "metadata": {
        "colab": {
          "base_uri": "https://localhost:8080/"
        },
        "id": "R58JM6KTbApr",
        "outputId": "b8638ef5-80c7-44e5-952f-4cb7234323aa"
      },
      "outputs": [
        {
          "output_type": "stream",
          "name": "stdout",
          "text": [
            "Model: \"model_2\"\n",
            "_________________________________________________________________\n",
            " Layer (type)                Output Shape              Param #   \n",
            "=================================================================\n",
            " input_shape (InputLayer)    [(None, 224, 224, 3)]     0         \n",
            "                                                                 \n",
            " data_augmentation (Sequenti  (None, 224, 224, 3)      0         \n",
            " al)                                                             \n",
            "                                                                 \n",
            " efficientnetb0 (Functional)  (None, None, None, 1280)  4049571  \n",
            "                                                                 \n",
            " global_avgpooling_2d (Globa  (None, 1280)             0         \n",
            " lAveragePooling2D)                                              \n",
            "                                                                 \n",
            " output_layer (Dense)        (None, 10)                12810     \n",
            "                                                                 \n",
            "=================================================================\n",
            "Total params: 4,062,381\n",
            "Trainable params: 12,810\n",
            "Non-trainable params: 4,049,571\n",
            "_________________________________________________________________\n"
          ]
        }
      ],
      "source": [
        "model_2.summary()"
      ]
    },
    {
      "cell_type": "markdown",
      "metadata": {
        "id": "6sKtJuL1e-Ed"
      },
      "source": [
        "### Creating a ModelCheckpoint callback"
      ]
    },
    {
      "cell_type": "code",
      "execution_count": null,
      "metadata": {
        "id": "4t9A6Gr2fC4I"
      },
      "outputs": [],
      "source": [
        "# Set checkpoint path\n",
        "checkpoint_path = \"ten_percent_model_checkpoints_weights/checkpoint.ckpt\"\n",
        "\n",
        "# Create a ModelCheckpoint callback that saves model's weights only\n",
        "checkpoint_callback = tf.keras.callbacks.ModelCheckpoint(filepath = checkpoint_path,\n",
        "                                                         save_weights_only = True,\n",
        "                                                         save_best_only = False,\n",
        "                                                         save_freq = \"epoch\",\n",
        "                                                         verbose = 1)"
      ]
    },
    {
      "cell_type": "code",
      "execution_count": null,
      "metadata": {
        "colab": {
          "base_uri": "https://localhost:8080/"
        },
        "id": "NzbDaNYWdV4U",
        "outputId": "ea3c81a2-8b9a-40be-82cd-c1f3d2ae3879"
      },
      "outputs": [
        {
          "output_type": "stream",
          "name": "stdout",
          "text": [
            "Saving TensorBoard log files to: transfer_learning/10_percent_data_aug/20220810-050233\n",
            "Epoch 1/5\n",
            "24/24 [==============================] - ETA: 0s - loss: 2.0173 - accuracy: 0.3427\n",
            "Epoch 1: saving model to ten_percent_model_checkpoints_weights/checkpoint.ckpt\n",
            "24/24 [==============================] - 92s 4s/step - loss: 2.0173 - accuracy: 0.3427 - val_loss: 1.5182 - val_accuracy: 0.6398\n",
            "Epoch 2/5\n",
            "24/24 [==============================] - ETA: 0s - loss: 1.3662 - accuracy: 0.6667\n",
            "Epoch 2: saving model to ten_percent_model_checkpoints_weights/checkpoint.ckpt\n",
            "24/24 [==============================] - 90s 4s/step - loss: 1.3662 - accuracy: 0.6667 - val_loss: 1.0864 - val_accuracy: 0.7500\n",
            "Epoch 3/5\n",
            "24/24 [==============================] - ETA: 0s - loss: 1.0693 - accuracy: 0.7467\n",
            "Epoch 3: saving model to ten_percent_model_checkpoints_weights/checkpoint.ckpt\n",
            "24/24 [==============================] - 92s 4s/step - loss: 1.0693 - accuracy: 0.7467 - val_loss: 0.8543 - val_accuracy: 0.7928\n",
            "Epoch 4/5\n",
            "24/24 [==============================] - ETA: 0s - loss: 0.9042 - accuracy: 0.7653\n",
            "Epoch 4: saving model to ten_percent_model_checkpoints_weights/checkpoint.ckpt\n",
            "24/24 [==============================] - 89s 4s/step - loss: 0.9042 - accuracy: 0.7653 - val_loss: 0.7581 - val_accuracy: 0.8010\n",
            "Epoch 5/5\n",
            "24/24 [==============================] - ETA: 0s - loss: 0.8095 - accuracy: 0.8000\n",
            "Epoch 5: saving model to ten_percent_model_checkpoints_weights/checkpoint.ckpt\n",
            "24/24 [==============================] - 90s 4s/step - loss: 0.8095 - accuracy: 0.8000 - val_loss: 0.6842 - val_accuracy: 0.8109\n"
          ]
        }
      ],
      "source": [
        "history_10_percent = model_2.fit(train_data_10_percent,\n",
        "                                 epochs = 5,\n",
        "                                 steps_per_epoch = len(train_data_10_percent),\n",
        "                                 validation_data = test_data,\n",
        "                                 validation_steps = int(0.25 * len(test_data)),\n",
        "                                 callbacks = [create_tensorboard_callback(dir_name = \"transfer_learning\",\n",
        "                                                                          experiment_name = \"10_percent_data_aug\"), \n",
        "                                              checkpoint_callback])"
      ]
    },
    {
      "cell_type": "code",
      "execution_count": null,
      "metadata": {
        "colab": {
          "base_uri": "https://localhost:8080/",
          "height": 573
        },
        "id": "Q9VDxQadf5KC",
        "outputId": "05df5cf7-b291-4b03-b611-70172f5f6c3d"
      },
      "outputs": [
        {
          "output_type": "display_data",
          "data": {
            "text/plain": [
              "<Figure size 432x288 with 1 Axes>"
            ],
            "image/png": "[encoded data removed]"
          },
          "metadata": {
            "needs_background": "light"
          }
        },
        {
          "output_type": "display_data",
          "data": {
            "text/plain": [
              "<Figure size 432x288 with 1 Axes>"
            ],
            "image/png": "[encoded data removed]"
          },
          "metadata": {
            "needs_background": "light"
          }
        }
      ],
      "source": [
        "plot_loss_curves(history_10_percent)"
      ]
    },
    {
      "cell_type": "code",
      "execution_count": null,
      "metadata": {
        "colab": {
          "base_uri": "https://localhost:8080/"
        },
        "id": "6Ia52NfH6wbr",
        "outputId": "9569fdaf-26b5-43ee-f69e-ab0524753d27"
      },
      "outputs": [
        {
          "output_type": "stream",
          "name": "stdout",
          "text": [
            "79/79 [==============================] - 138s 2s/step - loss: 0.5640 - accuracy: 0.8540\n"
          ]
        },
        {
          "output_type": "execute_result",
          "data": {
            "text/plain": [
              "[0.5639975666999817, 0.8539999723434448]"
            ]
          },
          "metadata": {},
          "execution_count": 37
        }
      ],
      "source": [
        "model_0.evaluate(test_data)"
      ]
    },
    {
      "cell_type": "code",
      "execution_count": null,
      "metadata": {
        "colab": {
          "base_uri": "https://localhost:8080/",
          "height": 345
        },
        "id": "Ua7ZVicV8Bxe",
        "outputId": "d513ee9d-28e6-4bfa-d84a-a9d4d6b3a5ec"
      },
      "outputs": [
        {
          "output_type": "stream",
          "name": "stdout",
          "text": [
            "10/79 [==>...........................] - ETA: 2:12 - loss: 0.6997 - accuracy: 0.8000"
          ]
        },
        {
          "output_type": "error",
          "ename": "KeyboardInterrupt",
          "evalue": "ignored",
          "traceback": [
            "\u001b[0;31m---------------------------------------------------------------------------\u001b[0m",
            "\u001b[0;31mKeyboardInterrupt\u001b[0m                         Traceback (most recent call last)",
            "\u001b[0;32m<ipython-input-38-fb285af031bd>\u001b[0m in \u001b[0;36m<module>\u001b[0;34m()\u001b[0m\n\u001b[0;32m----> 1\u001b[0;31m \u001b[0mresults_10_percent_data_aug\u001b[0m \u001b[0;34m=\u001b[0m \u001b[0mmodel_2\u001b[0m\u001b[0;34m.\u001b[0m\u001b[0mevaluate\u001b[0m\u001b[0;34m(\u001b[0m\u001b[0mtest_data\u001b[0m\u001b[0;34m)\u001b[0m\u001b[0;34m\u001b[0m\u001b[0;34m\u001b[0m\u001b[0m\n\u001b[0m\u001b[1;32m      2\u001b[0m \u001b[0mresults_10_percent_data_aug\u001b[0m\u001b[0;34m\u001b[0m\u001b[0;34m\u001b[0m\u001b[0m\n",
            "\u001b[0;32m/usr/local/lib/python3.7/dist-packages/keras/utils/traceback_utils.py\u001b[0m in \u001b[0;36merror_handler\u001b[0;34m(*args, **kwargs)\u001b[0m\n\u001b[1;32m     62\u001b[0m     \u001b[0mfiltered_tb\u001b[0m \u001b[0;34m=\u001b[0m \u001b[0;32mNone\u001b[0m\u001b[0;34m\u001b[0m\u001b[0;34m\u001b[0m\u001b[0m\n\u001b[1;32m     63\u001b[0m     \u001b[0;32mtry\u001b[0m\u001b[0;34m:\u001b[0m\u001b[0;34m\u001b[0m\u001b[0;34m\u001b[0m\u001b[0m\n\u001b[0;32m---> 64\u001b[0;31m       \u001b[0;32mreturn\u001b[0m \u001b[0mfn\u001b[0m\u001b[0;34m(\u001b[0m\u001b[0;34m*\u001b[0m\u001b[0margs\u001b[0m\u001b[0;34m,\u001b[0m \u001b[0;34m**\u001b[0m\u001b[0mkwargs\u001b[0m\u001b[0;34m)\u001b[0m\u001b[0;34m\u001b[0m\u001b[0;34m\u001b[0m\u001b[0m\n\u001b[0m\u001b[1;32m     65\u001b[0m     \u001b[0;32mexcept\u001b[0m \u001b[0mException\u001b[0m \u001b[0;32mas\u001b[0m \u001b[0me\u001b[0m\u001b[0;34m:\u001b[0m  \u001b[0;31m# pylint: disable=broad-except\u001b[0m\u001b[0;34m\u001b[0m\u001b[0;34m\u001b[0m\u001b[0m\n\u001b[1;32m     66\u001b[0m       \u001b[0mfiltered_tb\u001b[0m \u001b[0;34m=\u001b[0m \u001b[0m_process_traceback_frames\u001b[0m\u001b[0;34m(\u001b[0m\u001b[0me\u001b[0m\u001b[0;34m.\u001b[0m\u001b[0m__traceback__\u001b[0m\u001b[0;34m)\u001b[0m\u001b[0;34m\u001b[0m\u001b[0;34m\u001b[0m\u001b[0m\n",
            "\u001b[0;32m/usr/local/lib/python3.7/dist-packages/keras/engine/training.py\u001b[0m in \u001b[0;36mevaluate\u001b[0;34m(self, x, y, batch_size, verbose, sample_weight, steps, callbacks, max_queue_size, workers, use_multiprocessing, return_dict, **kwargs)\u001b[0m\n\u001b[1;32m   1714\u001b[0m             \u001b[0;32mwith\u001b[0m \u001b[0mtf\u001b[0m\u001b[0;34m.\u001b[0m\u001b[0mprofiler\u001b[0m\u001b[0;34m.\u001b[0m\u001b[0mexperimental\u001b[0m\u001b[0;34m.\u001b[0m\u001b[0mTrace\u001b[0m\u001b[0;34m(\u001b[0m\u001b[0;34m'test'\u001b[0m\u001b[0;34m,\u001b[0m \u001b[0mstep_num\u001b[0m\u001b[0;34m=\u001b[0m\u001b[0mstep\u001b[0m\u001b[0;34m,\u001b[0m \u001b[0m_r\u001b[0m\u001b[0;34m=\u001b[0m\u001b[0;36m1\u001b[0m\u001b[0;34m)\u001b[0m\u001b[0;34m:\u001b[0m\u001b[0;34m\u001b[0m\u001b[0;34m\u001b[0m\u001b[0m\n\u001b[1;32m   1715\u001b[0m               \u001b[0mcallbacks\u001b[0m\u001b[0;34m.\u001b[0m\u001b[0mon_test_batch_begin\u001b[0m\u001b[0;34m(\u001b[0m\u001b[0mstep\u001b[0m\u001b[0;34m)\u001b[0m\u001b[0;34m\u001b[0m\u001b[0;34m\u001b[0m\u001b[0m\n\u001b[0;32m-> 1716\u001b[0;31m               \u001b[0mtmp_logs\u001b[0m \u001b[0;34m=\u001b[0m \u001b[0mself\u001b[0m\u001b[0;34m.\u001b[0m\u001b[0mtest_function\u001b[0m\u001b[0;34m(\u001b[0m\u001b[0miterator\u001b[0m\u001b[0;34m)\u001b[0m\u001b[0;34m\u001b[0m\u001b[0;34m\u001b[0m\u001b[0m\n\u001b[0m\u001b[1;32m   1717\u001b[0m               \u001b[0;32mif\u001b[0m \u001b[0mdata_handler\u001b[0m\u001b[0;34m.\u001b[0m\u001b[0mshould_sync\u001b[0m\u001b[0;34m:\u001b[0m\u001b[0;34m\u001b[0m\u001b[0;34m\u001b[0m\u001b[0m\n\u001b[1;32m   1718\u001b[0m                 \u001b[0mcontext\u001b[0m\u001b[0;34m.\u001b[0m\u001b[0masync_wait\u001b[0m\u001b[0;34m(\u001b[0m\u001b[0;34m)\u001b[0m\u001b[0;34m\u001b[0m\u001b[0;34m\u001b[0m\u001b[0m\n",
            "\u001b[0;32m/usr/local/lib/python3.7/dist-packages/tensorflow/python/util/traceback_utils.py\u001b[0m in \u001b[0;36merror_handler\u001b[0;34m(*args, **kwargs)\u001b[0m\n\u001b[1;32m    148\u001b[0m     \u001b[0mfiltered_tb\u001b[0m \u001b[0;34m=\u001b[0m \u001b[0;32mNone\u001b[0m\u001b[0;34m\u001b[0m\u001b[0;34m\u001b[0m\u001b[0m\n\u001b[1;32m    149\u001b[0m     \u001b[0;32mtry\u001b[0m\u001b[0;34m:\u001b[0m\u001b[0;34m\u001b[0m\u001b[0;34m\u001b[0m\u001b[0m\n\u001b[0;32m--> 150\u001b[0;31m       \u001b[0;32mreturn\u001b[0m \u001b[0mfn\u001b[0m\u001b[0;34m(\u001b[0m\u001b[0;34m*\u001b[0m\u001b[0margs\u001b[0m\u001b[0;34m,\u001b[0m \u001b[0;34m**\u001b[0m\u001b[0mkwargs\u001b[0m\u001b[0;34m)\u001b[0m\u001b[0;34m\u001b[0m\u001b[0;34m\u001b[0m\u001b[0m\n\u001b[0m\u001b[1;32m    151\u001b[0m     \u001b[0;32mexcept\u001b[0m \u001b[0mException\u001b[0m \u001b[0;32mas\u001b[0m \u001b[0me\u001b[0m\u001b[0;34m:\u001b[0m\u001b[0;34m\u001b[0m\u001b[0;34m\u001b[0m\u001b[0m\n\u001b[1;32m    152\u001b[0m       \u001b[0mfiltered_tb\u001b[0m \u001b[0;34m=\u001b[0m \u001b[0m_process_traceback_frames\u001b[0m\u001b[0;34m(\u001b[0m\u001b[0me\u001b[0m\u001b[0;34m.\u001b[0m\u001b[0m__traceback__\u001b[0m\u001b[0;34m)\u001b[0m\u001b[0;34m\u001b[0m\u001b[0;34m\u001b[0m\u001b[0m\n",
            "\u001b[0;32m/usr/local/lib/python3.7/dist-packages/tensorflow/python/eager/def_function.py\u001b[0m in \u001b[0;36m__call__\u001b[0;34m(self, *args, **kwds)\u001b[0m\n\u001b[1;32m    913\u001b[0m \u001b[0;34m\u001b[0m\u001b[0m\n\u001b[1;32m    914\u001b[0m       \u001b[0;32mwith\u001b[0m \u001b[0mOptionalXlaContext\u001b[0m\u001b[0;34m(\u001b[0m\u001b[0mself\u001b[0m\u001b[0;34m.\u001b[0m\u001b[0m_jit_compile\u001b[0m\u001b[0;34m)\u001b[0m\u001b[0;34m:\u001b[0m\u001b[0;34m\u001b[0m\u001b[0;34m\u001b[0m\u001b[0m\n\u001b[0;32m--> 915\u001b[0;31m         \u001b[0mresult\u001b[0m \u001b[0;34m=\u001b[0m \u001b[0mself\u001b[0m\u001b[0;34m.\u001b[0m\u001b[0m_call\u001b[0m\u001b[0;34m(\u001b[0m\u001b[0;34m*\u001b[0m\u001b[0margs\u001b[0m\u001b[0;34m,\u001b[0m \u001b[0;34m**\u001b[0m\u001b[0mkwds\u001b[0m\u001b[0;34m)\u001b[0m\u001b[0;34m\u001b[0m\u001b[0;34m\u001b[0m\u001b[0m\n\u001b[0m\u001b[1;32m    916\u001b[0m \u001b[0;34m\u001b[0m\u001b[0m\n\u001b[1;32m    917\u001b[0m       \u001b[0mnew_tracing_count\u001b[0m \u001b[0;34m=\u001b[0m \u001b[0mself\u001b[0m\u001b[0;34m.\u001b[0m\u001b[0mexperimental_get_tracing_count\u001b[0m\u001b[0;34m(\u001b[0m\u001b[0;34m)\u001b[0m\u001b[0;34m\u001b[0m\u001b[0;34m\u001b[0m\u001b[0m\n",
            "\u001b[0;32m/usr/local/lib/python3.7/dist-packages/tensorflow/python/eager/def_function.py\u001b[0m in \u001b[0;36m_call\u001b[0;34m(self, *args, **kwds)\u001b[0m\n\u001b[1;32m    952\u001b[0m       \u001b[0;31m# In this case we have not created variables on the first call. So we can\u001b[0m\u001b[0;34m\u001b[0m\u001b[0;34m\u001b[0m\u001b[0;34m\u001b[0m\u001b[0m\n\u001b[1;32m    953\u001b[0m       \u001b[0;31m# run the first trace but we should fail if variables are created.\u001b[0m\u001b[0;34m\u001b[0m\u001b[0;34m\u001b[0m\u001b[0;34m\u001b[0m\u001b[0m\n\u001b[0;32m--> 954\u001b[0;31m       \u001b[0mresults\u001b[0m \u001b[0;34m=\u001b[0m \u001b[0mself\u001b[0m\u001b[0;34m.\u001b[0m\u001b[0m_stateful_fn\u001b[0m\u001b[0;34m(\u001b[0m\u001b[0;34m*\u001b[0m\u001b[0margs\u001b[0m\u001b[0;34m,\u001b[0m \u001b[0;34m**\u001b[0m\u001b[0mkwds\u001b[0m\u001b[0;34m)\u001b[0m\u001b[0;34m\u001b[0m\u001b[0;34m\u001b[0m\u001b[0m\n\u001b[0m\u001b[1;32m    955\u001b[0m       \u001b[0;32mif\u001b[0m \u001b[0mself\u001b[0m\u001b[0;34m.\u001b[0m\u001b[0m_created_variables\u001b[0m \u001b[0;32mand\u001b[0m \u001b[0;32mnot\u001b[0m \u001b[0mALLOW_DYNAMIC_VARIABLE_CREATION\u001b[0m\u001b[0;34m:\u001b[0m\u001b[0;34m\u001b[0m\u001b[0;34m\u001b[0m\u001b[0m\n\u001b[1;32m    956\u001b[0m         raise ValueError(\"Creating variables on a non-first call to a function\"\n",
            "\u001b[0;32m/usr/local/lib/python3.7/dist-packages/tensorflow/python/eager/function.py\u001b[0m in \u001b[0;36m__call__\u001b[0;34m(self, *args, **kwargs)\u001b[0m\n\u001b[1;32m   2955\u001b[0m        filtered_flat_args) = self._maybe_define_function(args, kwargs)\n\u001b[1;32m   2956\u001b[0m     return graph_function._call_flat(\n\u001b[0;32m-> 2957\u001b[0;31m         filtered_flat_args, captured_inputs=graph_function.captured_inputs)  # pylint: disable=protected-access\n\u001b[0m\u001b[1;32m   2958\u001b[0m \u001b[0;34m\u001b[0m\u001b[0m\n\u001b[1;32m   2959\u001b[0m   \u001b[0;34m@\u001b[0m\u001b[0mproperty\u001b[0m\u001b[0;34m\u001b[0m\u001b[0;34m\u001b[0m\u001b[0m\n",
            "\u001b[0;32m/usr/local/lib/python3.7/dist-packages/tensorflow/python/eager/function.py\u001b[0m in \u001b[0;36m_call_flat\u001b[0;34m(self, args, captured_inputs, cancellation_manager)\u001b[0m\n\u001b[1;32m   1852\u001b[0m       \u001b[0;31m# No tape is watching; skip to running the function.\u001b[0m\u001b[0;34m\u001b[0m\u001b[0;34m\u001b[0m\u001b[0;34m\u001b[0m\u001b[0m\n\u001b[1;32m   1853\u001b[0m       return self._build_call_outputs(self._inference_function.call(\n\u001b[0;32m-> 1854\u001b[0;31m           ctx, args, cancellation_manager=cancellation_manager))\n\u001b[0m\u001b[1;32m   1855\u001b[0m     forward_backward = self._select_forward_and_backward_functions(\n\u001b[1;32m   1856\u001b[0m         \u001b[0margs\u001b[0m\u001b[0;34m,\u001b[0m\u001b[0;34m\u001b[0m\u001b[0;34m\u001b[0m\u001b[0m\n",
            "\u001b[0;32m/usr/local/lib/python3.7/dist-packages/tensorflow/python/eager/function.py\u001b[0m in \u001b[0;36mcall\u001b[0;34m(self, ctx, args, cancellation_manager)\u001b[0m\n\u001b[1;32m    502\u001b[0m               \u001b[0minputs\u001b[0m\u001b[0;34m=\u001b[0m\u001b[0margs\u001b[0m\u001b[0;34m,\u001b[0m\u001b[0;34m\u001b[0m\u001b[0;34m\u001b[0m\u001b[0m\n\u001b[1;32m    503\u001b[0m               \u001b[0mattrs\u001b[0m\u001b[0;34m=\u001b[0m\u001b[0mattrs\u001b[0m\u001b[0;34m,\u001b[0m\u001b[0;34m\u001b[0m\u001b[0;34m\u001b[0m\u001b[0m\n\u001b[0;32m--> 504\u001b[0;31m               ctx=ctx)\n\u001b[0m\u001b[1;32m    505\u001b[0m         \u001b[0;32melse\u001b[0m\u001b[0;34m:\u001b[0m\u001b[0;34m\u001b[0m\u001b[0;34m\u001b[0m\u001b[0m\n\u001b[1;32m    506\u001b[0m           outputs = execute.execute_with_cancellation(\n",
            "\u001b[0;32m/usr/local/lib/python3.7/dist-packages/tensorflow/python/eager/execute.py\u001b[0m in \u001b[0;36mquick_execute\u001b[0;34m(op_name, num_outputs, inputs, attrs, ctx, name)\u001b[0m\n\u001b[1;32m     53\u001b[0m     \u001b[0mctx\u001b[0m\u001b[0;34m.\u001b[0m\u001b[0mensure_initialized\u001b[0m\u001b[0;34m(\u001b[0m\u001b[0;34m)\u001b[0m\u001b[0;34m\u001b[0m\u001b[0;34m\u001b[0m\u001b[0m\n\u001b[1;32m     54\u001b[0m     tensors = pywrap_tfe.TFE_Py_Execute(ctx._handle, device_name, op_name,\n\u001b[0;32m---> 55\u001b[0;31m                                         inputs, attrs, num_outputs)\n\u001b[0m\u001b[1;32m     56\u001b[0m   \u001b[0;32mexcept\u001b[0m \u001b[0mcore\u001b[0m\u001b[0;34m.\u001b[0m\u001b[0m_NotOkStatusException\u001b[0m \u001b[0;32mas\u001b[0m \u001b[0me\u001b[0m\u001b[0;34m:\u001b[0m\u001b[0;34m\u001b[0m\u001b[0;34m\u001b[0m\u001b[0m\n\u001b[1;32m     57\u001b[0m     \u001b[0;32mif\u001b[0m \u001b[0mname\u001b[0m \u001b[0;32mis\u001b[0m \u001b[0;32mnot\u001b[0m \u001b[0;32mNone\u001b[0m\u001b[0;34m:\u001b[0m\u001b[0;34m\u001b[0m\u001b[0;34m\u001b[0m\u001b[0m\n",
            "\u001b[0;31mKeyboardInterrupt\u001b[0m: "
          ]
        }
      ],
      "source": [
        "results_10_percent_data_aug = model_2.evaluate(test_data)\n",
        "results_10_percent_data_aug"
      ]
    },
    {
      "cell_type": "markdown",
      "metadata": {
        "id": "C66g9vFc8DsP"
      },
      "source": [
        "### Loading in checkpointed weights\n",
        "\n",
        "Returns a model to a specific checkpoint"
      ]
    },
    {
      "cell_type": "code",
      "execution_count": null,
      "metadata": {
        "id": "wMfnWLxV8lLO"
      },
      "outputs": [],
      "source": [
        "# Load in saved model weights and evaluate model\n",
        "\n",
        "model_2.load_weights(checkpoint_path)"
      ]
    },
    {
      "cell_type": "code",
      "execution_count": null,
      "metadata": {
        "id": "VtwOHc-f82B0"
      },
      "outputs": [],
      "source": [
        "# Evaluate model_2 with loaded weights\n",
        "loaded_weights_model_results = model_2.evaluate(test_data)\n",
        "loaded_weights_model_results"
      ]
    },
    {
      "cell_type": "code",
      "execution_count": null,
      "metadata": {
        "id": "724xXp068829"
      },
      "outputs": [],
      "source": [
        "results_10_percent_data_aug == loaded_weights_model_results"
      ]
    },
    {
      "cell_type": "code",
      "execution_count": null,
      "metadata": {
        "id": "ZMADiXy89G_3"
      },
      "outputs": [],
      "source": [
        "# Check to see if loaded model results are very close to our previous non-loaded model results\n",
        "import numpy as np\n",
        "\n",
        "np.isclose(np.array(results_10_percent_data_aug), np.array(loaded_weights_model_results))"
      ]
    },
    {
      "cell_type": "code",
      "execution_count": null,
      "metadata": {
        "id": "3h7XNrEw9gk8"
      },
      "outputs": [],
      "source": [
        "# Check the difference between the two results\n",
        "print(np.array(results_10_percent_data_aug) - np.array(loaded_weights_model_results))"
      ]
    },
    {
      "cell_type": "markdown",
      "metadata": {
        "id": "Yvc0B0DW9tIR"
      },
      "source": [
        "## Model_3: Fine-tuning an existing model on 10% data\n",
        "\n",
        "> 🔑 Fine-tuning works best after training a feature extraction model for a few epochs with larges amounts of custom data"
      ]
    },
    {
      "cell_type": "code",
      "execution_count": null,
      "metadata": {
        "id": "92lKJvwJAzKf"
      },
      "outputs": [],
      "source": [
        "# Layers in loaded model\n",
        "model_2.layers"
      ]
    },
    {
      "cell_type": "code",
      "execution_count": null,
      "metadata": {
        "id": "ba8eDfaYA7yX"
      },
      "outputs": [],
      "source": [
        "# Are these layers trainable?\n",
        "for layer in model_2.layers:\n",
        "  print(layer.name, '-', layer.trainable)"
      ]
    },
    {
      "cell_type": "code",
      "execution_count": null,
      "metadata": {
        "id": "S3GGZnbQBF_j"
      },
      "outputs": [],
      "source": [
        "# No. of layers in EfficientNetB0, whether they are trainable\n",
        "for i, layer in enumerate(model_2.layers[2].layers):\n",
        "  print(i, layer.name, '-', layer.trainable)"
      ]
    },
    {
      "cell_type": "code",
      "execution_count": null,
      "metadata": {
        "id": "vM82s0z-Bb08"
      },
      "outputs": [],
      "source": [
        "# How many trainable variables are in our base model?\n",
        "print(len(model_2.layers[2].trainable_variables))"
      ]
    },
    {
      "cell_type": "code",
      "execution_count": null,
      "metadata": {
        "id": "5rTbO45BB6a8"
      },
      "outputs": [],
      "source": [
        "# To begin fine-tuning, let's start by setting the last 10 layers of our base model to trainable\n",
        "\n",
        "base_model_1.trainable = True\n",
        "\n",
        "# Freeze all layers except for the last 10\n",
        "for layer in base_model_1.layers[:-10]:\n",
        "  layer.trainable = False\n",
        "\n",
        "# Recompile (everytime we make changes to the model we need to recompile)\n",
        "model_2.compile(loss = \"categorical_crossentropy\",\n",
        "                optimizer = tf.keras.optimizers.Adam(learning_rate = 1e-3), # when fine-tuning typically lower the lr by 10x\n",
        "                metrics = [\"accuracy\"])"
      ]
    },
    {
      "cell_type": "markdown",
      "metadata": {
        "id": "S7UlGG_yCf9f"
      },
      "source": [
        "> 🔑 **Note** - When fine-tuning its best practise to lower the learning rate by some amount. A good rule of thumb is at least 10x lower."
      ]
    },
    {
      "cell_type": "code",
      "execution_count": null,
      "metadata": {
        "id": "SypmAmwlDnlX"
      },
      "outputs": [],
      "source": [
        "# Check which layers are tuneable\n",
        "for layer_num, layer in enumerate(model_2.layers[2].layers):\n",
        "  print(layer_num, layer.name, layer.trainable)"
      ]
    },
    {
      "cell_type": "code",
      "execution_count": null,
      "metadata": {
        "id": "XfuMvzibEKf9"
      },
      "outputs": [],
      "source": [
        "print(len(model_2.trainable_variables))"
      ]
    },
    {
      "cell_type": "code",
      "execution_count": null,
      "metadata": {
        "id": "8O9lTEqvHpw2"
      },
      "outputs": [],
      "source": [
        "initial_epochs = 5"
      ]
    },
    {
      "cell_type": "code",
      "execution_count": null,
      "metadata": {
        "id": "QIJqDO3gEgnA"
      },
      "outputs": [],
      "source": [
        "# Fine tune for another 5 epochs\n",
        "fine_tune_epochs = initial_epochs + 5\n",
        "\n",
        "# Refit the model\n",
        "history_fine_10_percent_data_aug = model_2.fit(train_data_10_percent,\n",
        "                                               epochs = fine_tune_epochs,\n",
        "                                               validation_data = test_data,\n",
        "                                               validation_steps = int(0.25 * len(test_data)),\n",
        "                                               initial_epoch = history_10_percent.epoch[-1],\n",
        "                                               callbacks = [create_tensorboard_callback(dir_name = \"transfer_learning\",\n",
        "                                                                                        experiment_name = \"10_percent_fine_tune_last_10\")])"
      ]
    },
    {
      "cell_type": "code",
      "execution_count": null,
      "metadata": {
        "id": "shCMJxNWIfqT"
      },
      "outputs": [],
      "source": [
        "results_fine_tune_10_percent = model_2.evaluate(test_data)"
      ]
    },
    {
      "cell_type": "code",
      "execution_count": null,
      "metadata": {
        "id": "NnYOzEjpJiq8"
      },
      "outputs": [],
      "source": [
        "plot_loss_curves(history_fine_10_percent_data_aug)"
      ]
    },
    {
      "cell_type": "code",
      "execution_count": null,
      "metadata": {
        "id": "ne0zI-HNJpBD"
      },
      "outputs": [],
      "source": [
        "# Let's create a function that can compare training histories\n",
        "\n",
        "def compare_history(original_history, new_history, initial_epochs = 5):\n",
        "  \"\"\"\n",
        "  Compares two Tensorflow History objects\n",
        "  \"\"\"\n",
        "  # Get original history measurements\n",
        "  acc = original_history.history[\"accuracy\"]\n",
        "  loss = original_history.history[\"loss\"]\n",
        "\n",
        "  val_acc = original_history.history[\"val_accuracy\"]\n",
        "  val_loss = original_history.history[\"val_loss\"]\n",
        "\n",
        "  # Combine original history\n",
        "  total_acc = acc + new_history.history[\"accuracy\"]\n",
        "  total_loss = loss + new_history.history[\"loss\"]\n",
        "\n",
        "  total_val_acc = val_acc + new_history.history[\"val_accuracy\"]\n",
        "  total_val_loss = val_loss + new_history.history[\"val_loss\"]\n",
        "\n",
        "  # Make plots\n",
        "  plt.figure(figsize = (8, 8))\n",
        "  plt.subplot(2, 1, 1)\n",
        "  plt.plot(total_acc, label = \"training accuracy\")\n",
        "  plt.plot(total_val_acc, label = \"training val accuracy\")\n",
        "\n",
        "  plt.plot([initial_epochs-1, initial_epochs-1], plt.ylim(), label = 'Start fine tuning')\n",
        "  plt.legend(loc = \"lower right\")\n",
        "  plt.title(\"Training and validation accuracy\")\n",
        "\n",
        "\n",
        "\n",
        "  plt.figure(figsize = (8, 8))\n",
        "  plt.subplot(2, 1, 2)\n",
        "  plt.plot(total_loss, label = \"training loss\")\n",
        "  plt.plot(total_val_loss, label = \"training val loss\")\n",
        "\n",
        "  plt.plot([initial_epochs-1, initial_epochs-1], plt.ylim(), label = 'Start fine tuning')\n",
        "  plt.legend(loc = \"lower right\")\n",
        "  plt.title(\"Training and validation loss\")"
      ]
    },
    {
      "cell_type": "code",
      "execution_count": null,
      "metadata": {
        "id": "L1P54BmSNqKZ"
      },
      "outputs": [],
      "source": [
        "compare_history(history_10_percent,\n",
        "                history_fine_10_percent_data_aug,\n",
        "                initial_epochs = 5)"
      ]
    },
    {
      "cell_type": "markdown",
      "source": [
        "## Model_4: Fine tuning an existing model on 100% of the data"
      ],
      "metadata": {
        "id": "7VZjj3VnNyGY"
      }
    },
    {
      "cell_type": "code",
      "source": [
        "!wget https://storage.googleapis.com/ztm_tf_course/food_vision/10_food_classes_all_data.zip\n",
        "unzip_data(\"10_food_classes_all_data.zip\")"
      ],
      "metadata": {
        "id": "a5prkWfF_RnL"
      },
      "execution_count": null,
      "outputs": []
    },
    {
      "cell_type": "code",
      "source": [
        "train_dir_all_data = \"10_food_classes_all_data/train/\"\n",
        "test_dir = \"10_food_classes_all_data/test/\""
      ],
      "metadata": {
        "id": "e_ccWPGB_vei"
      },
      "execution_count": null,
      "outputs": []
    },
    {
      "cell_type": "code",
      "source": [
        "walk_through_dir(\"10_food_classes_all_data/\")"
      ],
      "metadata": {
        "id": "UtekAibf_3r3"
      },
      "execution_count": null,
      "outputs": []
    },
    {
      "cell_type": "code",
      "source": [
        "# Setup data inputs\n",
        "IMG_SIZE = (224, 224)\n",
        "train_data_full = tf.keras.preprocessing.image_dataset_from_directory(train_dir_all_data,\n",
        "                                                                 image_size = IMG_SIZE,\n",
        "                                                                 label_mode = \"categorical\")\n",
        "test_data = tf.keras.preprocessing.image_dataset_from_directory(test_dir,\n",
        "                                                                image_size = IMG_SIZE,\n",
        "                                                                label_mode = \"categorical\")"
      ],
      "metadata": {
        "id": "J4mMW6l2_6Wx"
      },
      "execution_count": null,
      "outputs": []
    },
    {
      "cell_type": "markdown",
      "source": [
        "The test dataset loaded here is the same as the test data we've been using with all the experiments. Let's verify this."
      ],
      "metadata": {
        "id": "rgk-EqUwAod0"
      }
    },
    {
      "cell_type": "code",
      "source": [
        "model_2.evaluate(test_data)"
      ],
      "metadata": {
        "id": "jfbN_0SQA97O"
      },
      "execution_count": null,
      "outputs": []
    },
    {
      "cell_type": "code",
      "source": [
        "results_fine_tune_10_percent"
      ],
      "metadata": {
        "id": "roNM7ntSBANh"
      },
      "execution_count": null,
      "outputs": []
    },
    {
      "cell_type": "markdown",
      "source": [
        "To train a fine-tuning model (model_4) we need to revert model_2 back to its feature extraction weights."
      ],
      "metadata": {
        "id": "OxGzk9LoBF0n"
      }
    },
    {
      "cell_type": "code",
      "source": [
        "model_2.load_weights(checkpoint_path)"
      ],
      "metadata": {
        "id": "riE4IkOfBlJV"
      },
      "execution_count": null,
      "outputs": []
    },
    {
      "cell_type": "code",
      "source": [
        "# Let's evaluate model_2 now\n",
        "model_2.evaluate(test_data)"
      ],
      "metadata": {
        "id": "XDMcF1GHBvuh"
      },
      "execution_count": null,
      "outputs": []
    },
    {
      "cell_type": "code",
      "source": [
        "# Check which layers are tuneable\n",
        "\n",
        "for layer_num, layer in enumerate(model_2.layers):\n",
        "  print(layer_num, layer.name, layer.trainable)"
      ],
      "metadata": {
        "id": "7Uo_RfONBzVD"
      },
      "execution_count": null,
      "outputs": []
    },
    {
      "cell_type": "code",
      "source": [
        "for layer_num, layer in enumerate(model_2.layers[2].layers):\n",
        "  print(layer_num, layer.name, layer.trainable)"
      ],
      "metadata": {
        "id": "rdNLJuySC9os"
      },
      "execution_count": null,
      "outputs": []
    },
    {
      "cell_type": "code",
      "source": [
        "model_2.compile(loss = \"categorical_crossentropy\",\n",
        "                optimizer = tf.keras.optimizers.Adam(learning_rate = 1e-3),\n",
        "                metrics = [\"accuracy\"])"
      ],
      "metadata": {
        "id": "Y87CieyoDHZ8"
      },
      "execution_count": null,
      "outputs": []
    },
    {
      "cell_type": "code",
      "source": [
        "fine_tune_epochs = initial_epochs + 5\n",
        "\n",
        "history_fine_tune_full_data = model_2.fit(train_data_full,\n",
        "                                          epochs = fine_tune_epochs,\n",
        "                                          validation_data = test_data,\n",
        "                                          validation_steps = int(0.25*len(test_data)),\n",
        "                                          initial_epoch = history_10_percent.epoch[-1],\n",
        "                                          callbacks = [create_tensorboard_callback(dir_name = \"transfer_learning\",\n",
        "                                                                                   experiment_name = \"10_classes_fine_tune_full_data\")])"
      ],
      "metadata": {
        "id": "GerETUDED6_K"
      },
      "execution_count": null,
      "outputs": []
    },
    {
      "cell_type": "code",
      "source": [
        "compare_history(original_history = history_10_percent,\n",
        "                new_history = history_fine_tune_full_data,\n",
        "                initial_epochs = 5)"
      ],
      "metadata": {
        "id": "8Y_dWf2VEy0r"
      },
      "execution_count": null,
      "outputs": []
    },
    {
      "cell_type": "code",
      "source": [
        ""
      ],
      "metadata": {
        "id": "cujxwfeHCzNA"
      },
      "execution_count": null,
      "outputs": []
    }
  ],
  "metadata": {
    "accelerator": "GPU",
    "colab": {
      "collapsed_sections": [],
      "name": "05_Transfer_Learning_With_TF_Part2-Fine_Tuning.ipynb",
      "provenance": [],
      "authorship_tag": "ABX9TyNUsTzcwYftvFEqGPMBtb1w",
      "include_colab_link": true
    },
    "gpuClass": "standard",
    "kernelspec": {
      "display_name": "Python 3",
      "name": "python3"
    },
    "language_info": {
      "name": "python"
    }
  },
  "nbformat": 4,
  "nbformat_minor": 0
}